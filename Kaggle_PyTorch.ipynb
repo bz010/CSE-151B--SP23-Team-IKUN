{
 "cells": [
  {
   "cell_type": "code",
   "execution_count": 1,
   "id": "fdbfdabd",
   "metadata": {},
   "outputs": [],
   "source": [
    "import torch\n",
    "import torch.nn as nn\n",
    "import torch.optim as optim\n",
    "from sklearn.model_selection import train_test_split\n",
    "from sklearn.preprocessing import LabelEncoder, OneHotEncoder, StandardScaler\n",
    "\n",
    "import numpy as np, pandas as pd\n",
    "import matplotlib.pyplot as plt\n",
    "from sklearn.compose import ColumnTransformer\n",
    "from sklearn.pipeline import Pipeline\n",
    "from sklearn.preprocessing import MinMaxScaler\n",
    "from sklearn.metrics import mean_squared_error\n",
    "import time\n",
    "from datetime import datetime\n",
    "\n",
    "from torch.utils.data import DataLoader, TensorDataset\n",
    "\n",
    "import math\n",
    "from tqdm import tqdm\n",
    "import copy"
   ]
  },
  {
   "cell_type": "code",
   "execution_count": 2,
   "id": "5fa9cb7f",
   "metadata": {},
   "outputs": [],
   "source": [
    "df_tr = pd.read_csv(\"train.csv\")\n",
    "\n",
    "\n",
    "# Over every single \n",
    "def polyline_to_trip_duration(polyline):\n",
    "  return max(polyline.count(\"[\") - 2, 0) * 15\n",
    "\n",
    "df_tr[\"LEN\"] = df_tr[\"POLYLINE\"].apply(polyline_to_trip_duration)\n",
    "\n",
    "from datetime import datetime\n",
    "def parse_time(x):\n",
    "  # We are using python's builtin datetime library\n",
    "  # https://docs.python.org/3/library/datetime.html#datetime.date.fromtimestamp\n",
    "\n",
    "  # Each x is essentially a 1 row, 1 column pandas Series\n",
    "  dt = datetime.fromtimestamp(x[\"TIMESTAMP\"])\n",
    "  return dt.year, dt.month, dt.day, dt.hour, dt.weekday()\n",
    "\n",
    "# Because we are assigning multiple values at a time, we need to \"expand\" our computed (year, month, day, hour, weekday) tuples on \n",
    "# the column axis, or axis 1\n",
    "# https://pandas.pydata.org/docs/reference/api/pandas.DataFrame.apply.html\n",
    "df_tr[[\"YR\", \"MON\", \"DAY\", \"HR\", \"WK\"]] = df_tr[[\"TIMESTAMP\"]].apply(parse_time, axis=1, result_type=\"expand\")\n",
    "\n",
    "def mean_absolute_error(y_true, y_pred):\n",
    "    y_true = tf.cast(y_true, tf.float32)  # Convert y_true to float32\n",
    "    return tf.reduce_mean(tf.abs(y_pred - y_true))\n",
    "      \n",
    "def root_mean_squared_error(y_true, y_pred):\n",
    "    y_true = tf.cast(y_true, tf.float32)  # Convert y_true to float32\n",
    "    return tf.sqrt(tf.reduce_mean(tf.square(y_pred - y_true)))\n",
    "\n",
    "def get_days_in_month(year, month):\n",
    "    if month == 12:\n",
    "        return (datetime(year+1, 1, 1) - datetime(year, month, 1)).days\n",
    "    else:\n",
    "        return (datetime(year, month+1, 1) - datetime(year, month, 1)).days\n",
    "    \n",
    "\n",
    "gps_location_df = pd.read_csv('metaData_taxistandsID_name_GPSlocation.csv')\n",
    "\n",
    "# Create a dictionary for each ORIGIN_STAND, where key is the stand id and value is a dic (Latitude, Longitude)\n",
    "location_dict = gps_location_df.set_index('ID')[['Latitude', 'Longitude']].T.apply(tuple).to_dict()\n",
    "\n",
    "df_tr['Latitude'] = df_tr['ORIGIN_STAND'].map(lambda x: location_dict.get(x, {}).get('Latitude', np.nan))\n",
    "df_tr['Longitude'] = df_tr['ORIGIN_STAND'].map(lambda x: location_dict.get(x, {}).get('Longitude', np.nan))"
   ]
  },
  {
   "cell_type": "code",
   "execution_count": 3,
   "id": "46112866",
   "metadata": {},
   "outputs": [],
   "source": [
    "df_test = pd.read_csv(\"test_public.csv\")\n",
    "\n",
    "taxi_test_ids = []\n",
    "\n",
    "for id in df_test[\"TAXI_ID\"]:\n",
    "    if id not in taxi_test_ids:\n",
    "        taxi_test_ids.append(id)"
   ]
  },
  {
   "cell_type": "code",
   "execution_count": 4,
   "id": "21a61047",
   "metadata": {},
   "outputs": [],
   "source": [
    "taxi_test_ids_dic = {}\n",
    "for ele in taxi_test_ids:\n",
    "    taxi_test_ids_dic[ele] = ele"
   ]
  },
  {
   "cell_type": "code",
   "execution_count": 5,
   "id": "d075f4a3",
   "metadata": {},
   "outputs": [],
   "source": [
    "df_test = pd.read_csv(\"test_public.csv\")\n",
    "l2 = []\n",
    "for ele in df_test['ORIGIN_CALL']:\n",
    "    if math.isnan(ele):\n",
    "        continue\n",
    "    l2.append(ele)"
   ]
  },
  {
   "cell_type": "code",
   "execution_count": 6,
   "id": "03d475f3",
   "metadata": {},
   "outputs": [],
   "source": [
    "origincall_dic = {}\n",
    "\n",
    "for ele in l2:\n",
    "    if df_tr['ORIGIN_CALL'].value_counts().get(ele, 0) >= 1000:\n",
    "        origincall_dic[ele] = ele"
   ]
  },
  {
   "cell_type": "code",
   "execution_count": 12,
   "id": "aeeb251e",
   "metadata": {},
   "outputs": [
    {
     "name": "stdout",
     "output_type": "stream",
     "text": [
      "Epoch: 1, RMSE Loss: 669.4746704101562\n",
      "Epoch: 2, RMSE Loss: 665.7886962890625\n",
      "Epoch: 3, RMSE Loss: 664.1683959960938\n",
      "Epoch: 4, RMSE Loss: 663.0091552734375\n",
      "Epoch: 5, RMSE Loss: 662.0946044921875\n",
      "Finished Training\n"
     ]
    }
   ],
   "source": [
    "df = df_tr.copy()\n",
    "\n",
    "df['ORIGIN_CALL'].fillna(0, inplace=True)\n",
    "df['ORIGIN_STAND'].fillna(0, inplace=True)\n",
    "df['Latitude'].fillna(0, inplace=True)\n",
    "df['Longitude'].fillna(0, inplace=True)\n",
    "df = df[df['MISSING_DATA'] != True]\n",
    "df['TAXI_ID'] = df['TAXI_ID'].map(lambda x: taxi_test_ids_dic.get(x, 0))\n",
    "# df['ORIGIN_CALL'] = df['ORIGIN_CALL'].map(lambda x: origincall_dic.get(x, 0))\n",
    "\n",
    "string_features = ['CALL_TYPE', 'ORIGIN_STAND', 'TAXI_ID', 'DAY_TYPE', 'YR', 'MON', 'DAY', 'HR', 'WK'] \n",
    "\n",
    "string_transformers = [('encode_' + feature, OneHotEncoder(), [feature]) for feature in string_features]\n",
    "\n",
    "numerical_transformers = [('scale_' + feature, StandardScaler(), [feature]) for feature in ['Latitude', 'Longitude']]\n",
    "\n",
    "transformers = string_transformers + numerical_transformers\n",
    "\n",
    "preprocessor = ColumnTransformer(transformers=transformers)\n",
    "\n",
    "X_train = df.drop(columns=['ORIGIN_CALL', 'TRIP_ID', 'TIMESTAMP', 'MISSING_DATA','POLYLINE','LEN'])\n",
    "y = df['LEN']\n",
    "\n",
    "\n",
    "X_train_preprocessed = preprocessor.fit_transform(X_train).toarray()  # convert to dense array here\n",
    "\n",
    "train_data = TensorDataset(torch.tensor(X_train_preprocessed, dtype=torch.float), torch.tensor(y.values, dtype=torch.float))\n",
    "\n",
    "batch_size = 32\n",
    "\n",
    "train_loader = DataLoader(train_data, batch_size=batch_size, shuffle=True)\n",
    "\n",
    "class Net(nn.Module):\n",
    "    def __init__(self, input_dim):\n",
    "        super(Net, self).__init__()\n",
    "        self.fc1 = nn.Linear(input_dim, 64)\n",
    "        self.fc2 = nn.Linear(64, 32)\n",
    "        self.fc3 = nn.Linear(32, 1)\n",
    "\n",
    "    def forward(self, x):\n",
    "        x = torch.relu(self.fc1(x))\n",
    "        x = torch.relu(self.fc2(x))\n",
    "        return self.fc3(x)\n",
    "\n",
    "input_dim = X_train_preprocessed.shape[1]\n",
    "model = Net(input_dim)\n",
    "\n",
    "criterion = nn.MSELoss()\n",
    "optimizer = optim.Adam(model.parameters(), lr=0.01)\n",
    "\n",
    "for epoch in range(5):  # loop over the dataset multiple times\n",
    "    running_loss = 0.0\n",
    "    for i, data in enumerate(train_loader, 0):\n",
    "        inputs, labels = data\n",
    "        optimizer.zero_grad()\n",
    "        outputs = model(inputs)\n",
    "        mse_loss = criterion(outputs, labels.view(-1, 1))\n",
    "        rmse_loss = torch.sqrt(mse_loss)  # take the square root of the MSE to get the RMSE\n",
    "        rmse_loss.backward()  # use the RMSE for backpropagation\n",
    "        optimizer.step()\n",
    "\n",
    "        # print statistics\n",
    "        running_loss += mse_loss.item()  # this is still the MSE, not the RMSE\n",
    "    avg_mse = running_loss / (i+1)\n",
    "    rmse = torch.sqrt(torch.tensor(avg_mse))\n",
    "    print(f'Epoch: {epoch+1}, RMSE Loss: {rmse}')\n",
    "\n",
    "print('Finished Training')\n"
   ]
  },
  {
   "cell_type": "code",
   "execution_count": 14,
   "id": "fd77f681",
   "metadata": {},
   "outputs": [
    {
     "ename": "ValueError",
     "evalue": "too many values to unpack (expected 2)",
     "output_type": "error",
     "traceback": [
      "\u001b[1;31m---------------------------------------------------------------------------\u001b[0m",
      "\u001b[1;31mValueError\u001b[0m                                Traceback (most recent call last)",
      "Cell \u001b[1;32mIn[14], line 7\u001b[0m\n\u001b[0;32m      5\u001b[0m test_loss \u001b[38;5;241m=\u001b[39m \u001b[38;5;241m0.0\u001b[39m\n\u001b[0;32m      6\u001b[0m \u001b[38;5;28;01mfor\u001b[39;00m i, data \u001b[38;5;129;01min\u001b[39;00m \u001b[38;5;28menumerate\u001b[39m(test_loader, \u001b[38;5;241m0\u001b[39m):\n\u001b[1;32m----> 7\u001b[0m     inputs, labels \u001b[38;5;241m=\u001b[39m data\n\u001b[0;32m      8\u001b[0m     outputs \u001b[38;5;241m=\u001b[39m model(inputs)\n\u001b[0;32m      9\u001b[0m     loss \u001b[38;5;241m=\u001b[39m criterion(outputs, labels\u001b[38;5;241m.\u001b[39mview(\u001b[38;5;241m-\u001b[39m\u001b[38;5;241m1\u001b[39m, \u001b[38;5;241m1\u001b[39m))\n",
      "\u001b[1;31mValueError\u001b[0m: too many values to unpack (expected 2)"
     ]
    }
   ],
   "source": [
    "# # switch the model to evaluation mode\n",
    "# model.eval()\n",
    "\n",
    "# with torch.no_grad():  # do not compute gradient within this context\n",
    "#     test_loss = 0.0\n",
    "#     for i, data in enumerate(test_loader, 0):\n",
    "#         inputs, labels = data\n",
    "#         outputs = model(inputs)\n",
    "#         loss = criterion(outputs, labels.view(-1, 1))\n",
    "#         test_loss += loss.item()\n",
    "\n",
    "#     # RMSE is just the square root of MSE\n",
    "#     test_rmse = math.sqrt(test_loss / len(test_loader))\n",
    "#     print(f'Test RMSE: {test_rmse}')\n"
   ]
  },
  {
   "cell_type": "code",
   "execution_count": null,
   "id": "74385660",
   "metadata": {},
   "outputs": [],
   "source": [
    "# batch size 32 lr 0.01 Test RMSE: 719.92045162663 Test RMSE: 684.8386458251686 Test RMSE: 643.101539182635\n",
    "# batch size 64 lr 0.01 Test RMSE: 701.6253132258208\n",
    "# batch size 64 lr 0.001 Test RMSE: 640.0380211310754"
   ]
  },
  {
   "cell_type": "code",
   "execution_count": 13,
   "id": "8d580d52",
   "metadata": {},
   "outputs": [],
   "source": [
    "df_test = pd.read_csv(\"test_public.csv\")\n",
    "df_test[[\"YR\", \"MON\", \"DAY\", \"HR\", \"WK\"]] = df_test[[\"TIMESTAMP\"]].apply(parse_time, axis=1, result_type=\"expand\")\n",
    "df_test['Latitude'] = df_test['ORIGIN_STAND'].map(lambda x: location_dict.get(x, {}).get('Latitude', np.nan))\n",
    "df_test['Longitude'] = df_test['ORIGIN_STAND'].map(lambda x: location_dict.get(x, {}).get('Longitude', np.nan))\n",
    "df_test['ORIGIN_CALL'].fillna(0, inplace=True)\n",
    "df_test['ORIGIN_STAND'].fillna(0, inplace=True)\n",
    "df_test['Latitude'].fillna(0, inplace=True)\n",
    "df_test['Longitude'].fillna(0, inplace=True)\n",
    "df_test = df_test[df_test['MISSING_DATA'] != True]\n",
    "# df_test['ORIGIN_CALL'] = df_test['ORIGIN_CALL'].map(lambda x: origincall_dic.get(x, 0))\n",
    "\n",
    "\n",
    "X = df_test.drop(columns=['ORIGIN_CALL', 'TRIP_ID', 'TIMESTAMP', 'MISSING_DATA'])\n",
    "\n",
    "X_train_preprocessed = preprocessor.fit_transform(X_train).toarray()  # convert to dense array here\n",
    "X_test_preprocessed = preprocessor.transform(X).toarray()  # convert to dense array here\n",
    "\n",
    "test_data = torch.tensor(X_test_preprocessed, dtype=torch.float)\n",
    "test_loader = DataLoader(test_data, batch_size=batch_size, shuffle=False)\n",
    "\n",
    "model.eval()\n",
    "predictions = []\n",
    "\n",
    "with torch.no_grad():\n",
    "    for inputs in test_loader:\n",
    "        outputs = model(inputs)\n",
    "        predictions.extend(outputs.numpy())\n",
    "\n",
    "predictions = [arr.item() for arr in predictions]\n",
    "\n",
    "# Sample submission file that is given on kaggle\n",
    "df_test = pd.read_csv(\"test_public.csv\")\n",
    "df_sample = pd.read_csv(\"sampleSubmission.csv\")\n",
    "\n",
    "df_sample[\"TRAVEL_TIME\"] = predictions\n",
    "\n",
    "df_sample.to_csv(\"my_pred.csv\", index=None)"
   ]
  },
  {
   "cell_type": "code",
   "execution_count": 27,
   "id": "f270bdd3",
   "metadata": {},
   "outputs": [],
   "source": [
    "df_test = pd.read_csv(\"test_public.csv\")\n",
    "df_test[[\"YR\", \"MON\", \"DAY\", \"HR\", \"WK\"]] = df_test[[\"TIMESTAMP\"]].apply(parse_time, axis=1, result_type=\"expand\")\n",
    "df_test['Latitude'] = df_test['ORIGIN_STAND'].map(lambda x: location_dict.get(x, {}).get('Latitude', np.nan))\n",
    "df_test['Longitude'] = df_test['ORIGIN_STAND'].map(lambda x: location_dict.get(x, {}).get('Longitude', np.nan))\n",
    "df_test['ORIGIN_CALL'].fillna(0, inplace=True)\n",
    "df_test['ORIGIN_STAND'].fillna(0, inplace=True)\n",
    "df_test['Latitude'].fillna(0, inplace=True)\n",
    "df_test['Longitude'].fillna(0, inplace=True)\n",
    "df_test = df_test[df_test['MISSING_DATA'] != True]\n",
    "\n",
    "df = df_tr.copy()\n",
    "df['ORIGIN_CALL'].fillna(0, inplace=True)\n",
    "df['ORIGIN_STAND'].fillna(0, inplace=True)\n",
    "df['Latitude'].fillna(0, inplace=True)\n",
    "df['Longitude'].fillna(0, inplace=True)\n",
    "df = df[df['MISSING_DATA'] != True]\n",
    "taxi_list = list()\n",
    "for ele in df_test['TAXI_ID']:\n",
    "    taxi_list.append(ele)\n",
    "ids = pd.Index(taxi_list, dtype='int64')\n",
    "dfs = {taxi_id: df[df[\"TAXI_ID\"] == taxi_id] for taxi_id in ids}\n",
    "dfs['others'] = df[~df[\"TAXI_ID\"].isin(ids)]\n",
    "\n",
    "dfs_test = {taxi_id: df_test[df_test[\"TAXI_ID\"] == taxi_id] for taxi_id in ids}"
   ]
  },
  {
   "cell_type": "code",
   "execution_count": 31,
   "id": "c2ca5f65",
   "metadata": {},
   "outputs": [
    {
     "name": "stderr",
     "output_type": "stream",
     "text": [
      "\r",
      "  0%|                                                                                          | 0/320 [00:00<?, ?it/s]"
     ]
    },
    {
     "name": "stdout",
     "output_type": "stream",
     "text": [
      "taxi_id: 20000542,index: 0\n",
      "Epoch: 1, RMSE Loss: 695.0496215820312\n",
      "Epoch: 2, RMSE Loss: 627.8548583984375\n",
      "Epoch: 3, RMSE Loss: 626.2178955078125\n",
      "Epoch: 4, RMSE Loss: 622.5540771484375\n"
     ]
    },
    {
     "name": "stderr",
     "output_type": "stream",
     "text": [
      "\r",
      "  0%|▎                                                                                 | 1/320 [00:04<24:40,  4.64s/it]"
     ]
    },
    {
     "name": "stdout",
     "output_type": "stream",
     "text": [
      "Epoch: 5, RMSE Loss: 623.7300415039062\n",
      "Finished Training\n",
      "taxi_id: 20000108,index: 1\n",
      "Epoch: 1, RMSE Loss: 606.336669921875\n",
      "Epoch: 2, RMSE Loss: 534.1712646484375\n",
      "Epoch: 3, RMSE Loss: 531.9000854492188\n",
      "Epoch: 4, RMSE Loss: 532.809326171875\n"
     ]
    },
    {
     "name": "stderr",
     "output_type": "stream",
     "text": [
      "\r",
      "  1%|▌                                                                                 | 2/320 [00:09<23:58,  4.52s/it]"
     ]
    },
    {
     "name": "stdout",
     "output_type": "stream",
     "text": [
      "Epoch: 5, RMSE Loss: 532.4407958984375\n",
      "Finished Training\n",
      "taxi_id: 20000370,index: 2\n",
      "Epoch: 1, RMSE Loss: 494.5721740722656\n",
      "Epoch: 2, RMSE Loss: 414.34344482421875\n",
      "Epoch: 3, RMSE Loss: 413.683349609375\n",
      "Epoch: 4, RMSE Loss: 413.15106201171875\n"
     ]
    },
    {
     "name": "stderr",
     "output_type": "stream",
     "text": [
      "\r",
      "  1%|▊                                                                                 | 3/320 [00:12<21:15,  4.02s/it]"
     ]
    },
    {
     "name": "stdout",
     "output_type": "stream",
     "text": [
      "Epoch: 5, RMSE Loss: 411.99169921875\n",
      "Finished Training\n",
      "taxi_id: 20000492,index: 3\n",
      "Epoch: 1, RMSE Loss: 504.0350341796875\n",
      "Epoch: 2, RMSE Loss: 450.86083984375\n",
      "Epoch: 3, RMSE Loss: 451.20489501953125\n",
      "Epoch: 4, RMSE Loss: 450.4126892089844\n"
     ]
    },
    {
     "name": "stderr",
     "output_type": "stream",
     "text": [
      "\r",
      "  1%|█                                                                                 | 4/320 [00:18<24:37,  4.68s/it]"
     ]
    },
    {
     "name": "stdout",
     "output_type": "stream",
     "text": [
      "Epoch: 5, RMSE Loss: 450.3306884765625\n",
      "Finished Training\n",
      "taxi_id: 20000621,index: 4\n",
      "Epoch: 1, RMSE Loss: 478.30670166015625\n",
      "Epoch: 2, RMSE Loss: 426.73394775390625\n",
      "Epoch: 3, RMSE Loss: 424.3149719238281\n",
      "Epoch: 4, RMSE Loss: 424.4334716796875\n"
     ]
    },
    {
     "name": "stderr",
     "output_type": "stream",
     "text": [
      "\r",
      "  2%|█▎                                                                                | 5/320 [00:23<26:24,  5.03s/it]"
     ]
    },
    {
     "name": "stdout",
     "output_type": "stream",
     "text": [
      "Epoch: 5, RMSE Loss: 422.7383117675781\n",
      "Finished Training\n",
      "taxi_id: 20000607,index: 5\n",
      "Epoch: 1, RMSE Loss: 1508.9683837890625\n",
      "Epoch: 2, RMSE Loss: 1307.6380615234375\n",
      "Epoch: 3, RMSE Loss: 1291.87841796875\n",
      "Epoch: 4, RMSE Loss: 1286.892822265625\n"
     ]
    },
    {
     "name": "stderr",
     "output_type": "stream",
     "text": [
      "\r",
      "  2%|█▌                                                                                | 6/320 [00:26<22:29,  4.30s/it]"
     ]
    },
    {
     "name": "stdout",
     "output_type": "stream",
     "text": [
      "Epoch: 5, RMSE Loss: 1280.5845947265625\n",
      "Finished Training\n",
      "taxi_id: 20000310,index: 6\n",
      "Epoch: 1, RMSE Loss: 589.77783203125\n",
      "Epoch: 2, RMSE Loss: 513.5205078125\n",
      "Epoch: 3, RMSE Loss: 512.9671020507812\n",
      "Epoch: 4, RMSE Loss: 512.162353515625\n"
     ]
    },
    {
     "name": "stderr",
     "output_type": "stream",
     "text": [
      "\r",
      "  2%|█▊                                                                                | 7/320 [00:30<21:33,  4.13s/it]"
     ]
    },
    {
     "name": "stdout",
     "output_type": "stream",
     "text": [
      "Epoch: 5, RMSE Loss: 511.00592041015625\n",
      "Finished Training\n",
      "taxi_id: 20000619,index: 7\n",
      "Epoch: 1, RMSE Loss: 697.7239379882812\n",
      "Epoch: 2, RMSE Loss: 558.3536987304688\n",
      "Epoch: 3, RMSE Loss: 556.0094604492188\n",
      "Epoch: 4, RMSE Loss: 554.686279296875\n"
     ]
    },
    {
     "name": "stderr",
     "output_type": "stream",
     "text": [
      "\r",
      "  2%|██                                                                                | 8/320 [00:33<18:47,  3.61s/it]"
     ]
    },
    {
     "name": "stdout",
     "output_type": "stream",
     "text": [
      "Epoch: 5, RMSE Loss: 553.5718994140625\n",
      "Finished Training\n",
      "taxi_id: 20000503,index: 8\n",
      "Epoch: 1, RMSE Loss: 497.4539489746094\n",
      "Epoch: 2, RMSE Loss: 424.2894592285156\n",
      "Epoch: 3, RMSE Loss: 422.57879638671875\n",
      "Epoch: 4, RMSE Loss: 422.0944519042969\n"
     ]
    },
    {
     "name": "stderr",
     "output_type": "stream",
     "text": [
      "\r",
      "  3%|██▎                                                                               | 9/320 [00:37<20:18,  3.92s/it]"
     ]
    },
    {
     "name": "stdout",
     "output_type": "stream",
     "text": [
      "Epoch: 5, RMSE Loss: 421.6065368652344\n",
      "Finished Training\n",
      "taxi_id: 20000327,index: 9\n",
      "Epoch: 1, RMSE Loss: 619.066162109375\n",
      "Epoch: 2, RMSE Loss: 430.6076965332031\n",
      "Epoch: 3, RMSE Loss: 428.33441162109375\n",
      "Epoch: 4, RMSE Loss: 432.1610107421875\n"
     ]
    },
    {
     "name": "stderr",
     "output_type": "stream",
     "text": [
      "\r",
      "  3%|██▌                                                                              | 10/320 [00:39<17:38,  3.41s/it]"
     ]
    },
    {
     "name": "stdout",
     "output_type": "stream",
     "text": [
      "Epoch: 5, RMSE Loss: 427.3927917480469\n",
      "Finished Training\n",
      "taxi_id: 20000664,index: 10\n",
      "Epoch: 1, RMSE Loss: 698.9166259765625\n",
      "Epoch: 2, RMSE Loss: 606.8867797851562\n",
      "Epoch: 3, RMSE Loss: 602.6773681640625\n",
      "Epoch: 4, RMSE Loss: 602.9635620117188\n"
     ]
    },
    {
     "name": "stderr",
     "output_type": "stream",
     "text": [
      "\r",
      "  3%|██▊                                                                              | 11/320 [00:43<17:53,  3.47s/it]"
     ]
    },
    {
     "name": "stdout",
     "output_type": "stream",
     "text": [
      "Epoch: 5, RMSE Loss: 597.6661987304688\n",
      "Finished Training\n",
      "taxi_id: 20000160,index: 11\n",
      "Epoch: 1, RMSE Loss: 635.7485961914062\n",
      "Epoch: 2, RMSE Loss: 537.8729858398438\n",
      "Epoch: 3, RMSE Loss: 537.0401611328125\n",
      "Epoch: 4, RMSE Loss: 536.9979248046875\n"
     ]
    },
    {
     "name": "stderr",
     "output_type": "stream",
     "text": [
      "\r",
      "  4%|███                                                                              | 12/320 [00:46<17:39,  3.44s/it]"
     ]
    },
    {
     "name": "stdout",
     "output_type": "stream",
     "text": [
      "Epoch: 5, RMSE Loss: 535.1835327148438\n",
      "Finished Training\n",
      "taxi_id: 20000017,index: 12\n",
      "Epoch: 1, RMSE Loss: 595.2485961914062\n",
      "Epoch: 2, RMSE Loss: 461.51220703125\n",
      "Epoch: 3, RMSE Loss: 459.8302917480469\n",
      "Epoch: 4, RMSE Loss: 458.56536865234375\n"
     ]
    },
    {
     "name": "stderr",
     "output_type": "stream",
     "text": [
      "\r",
      "  4%|███▎                                                                             | 13/320 [00:49<16:01,  3.13s/it]"
     ]
    },
    {
     "name": "stdout",
     "output_type": "stream",
     "text": [
      "Epoch: 5, RMSE Loss: 457.7763977050781\n",
      "Finished Training\n",
      "taxi_id: 20000312,index: 13\n",
      "Epoch: 1, RMSE Loss: 1813.7098388671875\n",
      "Epoch: 2, RMSE Loss: 1750.19775390625\n",
      "Epoch: 3, RMSE Loss: 1408.5799560546875\n",
      "Epoch: 4, RMSE Loss: 1252.599853515625\n",
      "Epoch: 5, RMSE Loss: 1278.81884765625\n",
      "Finished Training\n"
     ]
    },
    {
     "name": "stderr",
     "output_type": "stream",
     "text": [
      "\r",
      "  4%|███▌                                                                             | 14/320 [00:50<12:17,  2.41s/it]"
     ]
    },
    {
     "name": "stdout",
     "output_type": "stream",
     "text": [
      "taxi_id: 20000497,index: 14\n",
      "Epoch: 1, RMSE Loss: 690.2755737304688\n",
      "Epoch: 2, RMSE Loss: 601.2756958007812\n",
      "Epoch: 3, RMSE Loss: 597.7762451171875\n",
      "Epoch: 4, RMSE Loss: 597.3211059570312\n"
     ]
    },
    {
     "name": "stderr",
     "output_type": "stream",
     "text": [
      "\r",
      "  5%|███▊                                                                             | 15/320 [00:53<13:53,  2.73s/it]"
     ]
    },
    {
     "name": "stdout",
     "output_type": "stream",
     "text": [
      "Epoch: 5, RMSE Loss: 597.054931640625\n",
      "Finished Training\n",
      "taxi_id: 20000440,index: 15\n",
      "Epoch: 1, RMSE Loss: 661.0521850585938\n",
      "Epoch: 2, RMSE Loss: 548.257080078125\n",
      "Epoch: 3, RMSE Loss: 546.4786376953125\n",
      "Epoch: 4, RMSE Loss: 546.78369140625\n"
     ]
    },
    {
     "name": "stderr",
     "output_type": "stream",
     "text": [
      "\r",
      "  5%|████                                                                             | 16/320 [00:56<14:30,  2.86s/it]"
     ]
    },
    {
     "name": "stdout",
     "output_type": "stream",
     "text": [
      "Epoch: 5, RMSE Loss: 546.296142578125\n",
      "Finished Training\n",
      "taxi_id: 20000467,index: 16\n",
      "Epoch: 1, RMSE Loss: 529.3944091796875\n",
      "Epoch: 2, RMSE Loss: 373.77264404296875\n",
      "Epoch: 3, RMSE Loss: 371.9232177734375\n",
      "Epoch: 4, RMSE Loss: 371.9319763183594\n"
     ]
    },
    {
     "name": "stderr",
     "output_type": "stream",
     "text": [
      "\r",
      "  5%|████▎                                                                            | 17/320 [00:59<14:35,  2.89s/it]"
     ]
    },
    {
     "name": "stdout",
     "output_type": "stream",
     "text": [
      "Epoch: 5, RMSE Loss: 371.25054931640625\n",
      "Finished Training\n",
      "taxi_id: 20000338,index: 17\n",
      "Epoch: 1, RMSE Loss: 874.902587890625\n",
      "Epoch: 2, RMSE Loss: 779.3663330078125\n",
      "Epoch: 3, RMSE Loss: 776.5703125\n",
      "Epoch: 4, RMSE Loss: 773.70556640625\n"
     ]
    },
    {
     "name": "stderr",
     "output_type": "stream",
     "text": [
      "\r",
      "  6%|████▌                                                                            | 18/320 [01:02<14:38,  2.91s/it]"
     ]
    },
    {
     "name": "stdout",
     "output_type": "stream",
     "text": [
      "Epoch: 5, RMSE Loss: 770.7357788085938\n",
      "Finished Training\n",
      "taxi_id: 20000101,index: 18\n",
      "Epoch: 1, RMSE Loss: 640.0578002929688\n",
      "Epoch: 2, RMSE Loss: 554.7686157226562\n",
      "Epoch: 3, RMSE Loss: 553.7914428710938\n",
      "Epoch: 4, RMSE Loss: 555.1256713867188\n"
     ]
    },
    {
     "name": "stderr",
     "output_type": "stream",
     "text": [
      "\r",
      "  6%|████▊                                                                            | 19/320 [01:04<13:32,  2.70s/it]"
     ]
    },
    {
     "name": "stdout",
     "output_type": "stream",
     "text": [
      "Epoch: 5, RMSE Loss: 553.5049438476562\n",
      "Finished Training\n",
      "taxi_id: 20000523,index: 19\n",
      "Epoch: 1, RMSE Loss: 684.9483032226562\n",
      "Epoch: 2, RMSE Loss: 542.4462280273438\n",
      "Epoch: 3, RMSE Loss: 541.7259521484375\n",
      "Epoch: 4, RMSE Loss: 539.2335815429688\n"
     ]
    },
    {
     "name": "stderr",
     "output_type": "stream",
     "text": [
      "\r",
      "  6%|█████                                                                            | 20/320 [01:05<10:46,  2.16s/it]"
     ]
    },
    {
     "name": "stdout",
     "output_type": "stream",
     "text": [
      "Epoch: 5, RMSE Loss: 538.574951171875\n",
      "Finished Training\n",
      "taxi_id: 20000460,index: 20\n",
      "Epoch: 1, RMSE Loss: 525.6083374023438\n",
      "Epoch: 2, RMSE Loss: 355.5498352050781\n",
      "Epoch: 3, RMSE Loss: 355.42144775390625\n",
      "Epoch: 4, RMSE Loss: 353.8571472167969\n"
     ]
    },
    {
     "name": "stderr",
     "output_type": "stream",
     "text": [
      "\r",
      "  7%|█████▎                                                                           | 21/320 [01:07<10:07,  2.03s/it]"
     ]
    },
    {
     "name": "stdout",
     "output_type": "stream",
     "text": [
      "Epoch: 5, RMSE Loss: 353.63421630859375\n",
      "Finished Training\n",
      "taxi_id: 20000199,index: 21\n",
      "Epoch: 1, RMSE Loss: 583.3943481445312\n",
      "Epoch: 2, RMSE Loss: 491.1534729003906\n",
      "Epoch: 3, RMSE Loss: 489.5233154296875\n",
      "Epoch: 4, RMSE Loss: 489.3533020019531\n"
     ]
    },
    {
     "name": "stderr",
     "output_type": "stream",
     "text": [
      "\r",
      "  7%|█████▌                                                                           | 22/320 [01:12<14:53,  3.00s/it]"
     ]
    },
    {
     "name": "stdout",
     "output_type": "stream",
     "text": [
      "Epoch: 5, RMSE Loss: 488.18408203125\n",
      "Finished Training\n",
      "taxi_id: 20000480,index: 22\n",
      "Epoch: 1, RMSE Loss: 554.5697021484375\n",
      "Epoch: 2, RMSE Loss: 453.751220703125\n",
      "Epoch: 3, RMSE Loss: 454.1858215332031\n",
      "Epoch: 4, RMSE Loss: 452.8481140136719\n"
     ]
    },
    {
     "name": "stderr",
     "output_type": "stream",
     "text": [
      "\r",
      "  7%|█████▊                                                                           | 23/320 [01:16<16:03,  3.24s/it]"
     ]
    },
    {
     "name": "stdout",
     "output_type": "stream",
     "text": [
      "Epoch: 5, RMSE Loss: 453.5586242675781\n",
      "Finished Training\n",
      "taxi_id: 20000250,index: 23\n",
      "Epoch: 1, RMSE Loss: 1299.570068359375\n",
      "Epoch: 2, RMSE Loss: 1210.6861572265625\n",
      "Epoch: 3, RMSE Loss: 1209.41552734375\n",
      "Epoch: 4, RMSE Loss: 1208.337158203125\n"
     ]
    },
    {
     "name": "stderr",
     "output_type": "stream",
     "text": [
      "\r",
      "  8%|██████                                                                           | 24/320 [01:19<15:16,  3.10s/it]"
     ]
    },
    {
     "name": "stdout",
     "output_type": "stream",
     "text": [
      "Epoch: 5, RMSE Loss: 1205.74658203125\n",
      "Finished Training\n",
      "taxi_id: 20000903,index: 24\n",
      "Epoch: 1, RMSE Loss: 716.7152709960938\n",
      "Epoch: 2, RMSE Loss: 531.7442626953125\n",
      "Epoch: 3, RMSE Loss: 523.1998291015625\n",
      "Epoch: 4, RMSE Loss: 522.4133911132812\n"
     ]
    },
    {
     "name": "stderr",
     "output_type": "stream",
     "text": [
      "\r",
      "  8%|██████▎                                                                          | 25/320 [01:21<13:41,  2.78s/it]"
     ]
    },
    {
     "name": "stdout",
     "output_type": "stream",
     "text": [
      "Epoch: 5, RMSE Loss: 518.3768310546875\n",
      "Finished Training\n",
      "taxi_id: 20000247,index: 25\n",
      "Epoch: 1, RMSE Loss: 788.1911010742188\n",
      "Epoch: 2, RMSE Loss: 673.5574951171875\n",
      "Epoch: 3, RMSE Loss: 670.40087890625\n",
      "Epoch: 4, RMSE Loss: 670.542236328125\n"
     ]
    },
    {
     "name": "stderr",
     "output_type": "stream",
     "text": [
      "\r",
      "  8%|██████▌                                                                          | 26/320 [01:24<13:40,  2.79s/it]"
     ]
    },
    {
     "name": "stdout",
     "output_type": "stream",
     "text": [
      "Epoch: 5, RMSE Loss: 667.0023193359375\n",
      "Finished Training\n",
      "taxi_id: 20000263,index: 26\n",
      "Epoch: 1, RMSE Loss: 747.4181518554688\n",
      "Epoch: 2, RMSE Loss: 697.1312255859375\n",
      "Epoch: 3, RMSE Loss: 697.0520629882812\n",
      "Epoch: 4, RMSE Loss: 695.917724609375\n"
     ]
    },
    {
     "name": "stderr",
     "output_type": "stream",
     "text": [
      "\r",
      "  8%|██████▊                                                                          | 27/320 [01:29<17:08,  3.51s/it]"
     ]
    },
    {
     "name": "stdout",
     "output_type": "stream",
     "text": [
      "Epoch: 5, RMSE Loss: 695.8617553710938\n",
      "Finished Training\n",
      "taxi_id: 20000500,index: 27\n",
      "Epoch: 1, RMSE Loss: 791.1981811523438\n",
      "Epoch: 2, RMSE Loss: 642.832275390625\n",
      "Epoch: 3, RMSE Loss: 640.2572021484375\n",
      "Epoch: 4, RMSE Loss: 637.7310791015625\n"
     ]
    },
    {
     "name": "stderr",
     "output_type": "stream",
     "text": [
      "\r",
      "  9%|███████                                                                          | 28/320 [01:31<15:17,  3.14s/it]"
     ]
    },
    {
     "name": "stdout",
     "output_type": "stream",
     "text": [
      "Epoch: 5, RMSE Loss: 640.9492797851562\n",
      "Finished Training\n",
      "taxi_id: 20000617,index: 28\n",
      "Epoch: 1, RMSE Loss: 621.3483276367188\n",
      "Epoch: 2, RMSE Loss: 527.3806762695312\n",
      "Epoch: 3, RMSE Loss: 527.345703125\n",
      "Epoch: 4, RMSE Loss: 526.203857421875\n"
     ]
    },
    {
     "name": "stderr",
     "output_type": "stream",
     "text": [
      "\r",
      "  9%|███████▎                                                                         | 29/320 [01:36<17:08,  3.53s/it]"
     ]
    },
    {
     "name": "stdout",
     "output_type": "stream",
     "text": [
      "Epoch: 5, RMSE Loss: 526.1491088867188\n",
      "Finished Training\n",
      "taxi_id: 20000288,index: 29\n",
      "Epoch: 1, RMSE Loss: 615.5929565429688\n",
      "Epoch: 2, RMSE Loss: 495.82244873046875\n",
      "Epoch: 3, RMSE Loss: 494.69891357421875\n",
      "Epoch: 4, RMSE Loss: 492.2327880859375\n"
     ]
    },
    {
     "name": "stderr",
     "output_type": "stream",
     "text": [
      "\r",
      "  9%|███████▌                                                                         | 30/320 [01:39<16:29,  3.41s/it]"
     ]
    },
    {
     "name": "stdout",
     "output_type": "stream",
     "text": [
      "Epoch: 5, RMSE Loss: 492.22174072265625\n",
      "Finished Training\n",
      "taxi_id: 20000268,index: 30\n",
      "Epoch: 1, RMSE Loss: 621.4363403320312\n",
      "Epoch: 2, RMSE Loss: 540.0067749023438\n",
      "Epoch: 3, RMSE Loss: 538.9462280273438\n",
      "Epoch: 4, RMSE Loss: 539.0767822265625\n"
     ]
    },
    {
     "name": "stderr",
     "output_type": "stream",
     "text": [
      "\r",
      " 10%|███████▊                                                                         | 31/320 [01:42<17:00,  3.53s/it]"
     ]
    },
    {
     "name": "stdout",
     "output_type": "stream",
     "text": [
      "Epoch: 5, RMSE Loss: 536.8007202148438\n",
      "Finished Training\n",
      "taxi_id: 20000495,index: 31\n",
      "Epoch: 1, RMSE Loss: 685.6920166015625\n",
      "Epoch: 2, RMSE Loss: 482.1400451660156\n",
      "Epoch: 3, RMSE Loss: 478.6341552734375\n",
      "Epoch: 4, RMSE Loss: 477.8433837890625\n"
     ]
    },
    {
     "name": "stderr",
     "output_type": "stream",
     "text": [
      "\r",
      " 10%|████████                                                                         | 32/320 [01:44<14:48,  3.09s/it]"
     ]
    },
    {
     "name": "stdout",
     "output_type": "stream",
     "text": [
      "Epoch: 5, RMSE Loss: 476.0662536621094\n",
      "Finished Training\n",
      "taxi_id: 20000328,index: 32\n",
      "Epoch: 1, RMSE Loss: 495.7333679199219\n",
      "Epoch: 2, RMSE Loss: 410.6789855957031\n",
      "Epoch: 3, RMSE Loss: 409.4967956542969\n",
      "Epoch: 4, RMSE Loss: 408.83209228515625\n"
     ]
    },
    {
     "name": "stderr",
     "output_type": "stream",
     "text": [
      "\r",
      " 10%|████████▎                                                                        | 33/320 [01:49<17:07,  3.58s/it]"
     ]
    },
    {
     "name": "stdout",
     "output_type": "stream",
     "text": [
      "Epoch: 5, RMSE Loss: 409.82171630859375\n",
      "Finished Training\n",
      "taxi_id: 20000129,index: 33\n",
      "Epoch: 1, RMSE Loss: 634.91357421875\n",
      "Epoch: 2, RMSE Loss: 560.3312377929688\n",
      "Epoch: 3, RMSE Loss: 559.906494140625\n",
      "Epoch: 4, RMSE Loss: 559.9664306640625\n"
     ]
    },
    {
     "name": "stderr",
     "output_type": "stream",
     "text": [
      "\r",
      " 11%|████████▌                                                                        | 34/320 [01:54<19:22,  4.07s/it]"
     ]
    },
    {
     "name": "stdout",
     "output_type": "stream",
     "text": [
      "Epoch: 5, RMSE Loss: 559.955810546875\n",
      "Finished Training\n",
      "taxi_id: 20000434,index: 34\n",
      "Epoch: 1, RMSE Loss: 787.6810302734375\n",
      "Epoch: 2, RMSE Loss: 671.6058959960938\n",
      "Epoch: 3, RMSE Loss: 670.0215454101562\n",
      "Epoch: 4, RMSE Loss: 668.6134033203125\n"
     ]
    },
    {
     "name": "stderr",
     "output_type": "stream",
     "text": [
      "\r",
      " 11%|████████▊                                                                        | 35/320 [01:58<18:40,  3.93s/it]"
     ]
    },
    {
     "name": "stdout",
     "output_type": "stream",
     "text": [
      "Epoch: 5, RMSE Loss: 670.0501708984375\n",
      "Finished Training\n",
      "taxi_id: 20000381,index: 35\n",
      "Epoch: 1, RMSE Loss: 620.9150390625\n",
      "Epoch: 2, RMSE Loss: 522.34228515625\n",
      "Epoch: 3, RMSE Loss: 520.7615966796875\n",
      "Epoch: 4, RMSE Loss: 519.2721557617188\n"
     ]
    },
    {
     "name": "stderr",
     "output_type": "stream",
     "text": [
      "\r",
      " 11%|█████████                                                                        | 36/320 [02:01<17:31,  3.70s/it]"
     ]
    },
    {
     "name": "stdout",
     "output_type": "stream",
     "text": [
      "Epoch: 5, RMSE Loss: 518.777099609375\n",
      "Finished Training\n",
      "taxi_id: 20000159,index: 36\n",
      "Epoch: 1, RMSE Loss: 1000.2072143554688\n",
      "Epoch: 2, RMSE Loss: 815.7791748046875\n",
      "Epoch: 3, RMSE Loss: 815.818603515625\n",
      "Epoch: 4, RMSE Loss: 806.7283325195312\n"
     ]
    },
    {
     "name": "stderr",
     "output_type": "stream",
     "text": [
      "\r",
      " 12%|█████████▎                                                                       | 37/320 [02:03<15:20,  3.25s/it]"
     ]
    },
    {
     "name": "stdout",
     "output_type": "stream",
     "text": [
      "Epoch: 5, RMSE Loss: 803.2857055664062\n",
      "Finished Training\n",
      "taxi_id: 20000048,index: 37\n",
      "Epoch: 1, RMSE Loss: 759.0809326171875\n",
      "Epoch: 2, RMSE Loss: 551.787353515625\n",
      "Epoch: 3, RMSE Loss: 544.3308715820312\n",
      "Epoch: 4, RMSE Loss: 544.546875\n"
     ]
    },
    {
     "name": "stderr",
     "output_type": "stream",
     "text": [
      "\r",
      " 12%|█████████▌                                                                       | 38/320 [02:05<13:34,  2.89s/it]"
     ]
    },
    {
     "name": "stdout",
     "output_type": "stream",
     "text": [
      "Epoch: 5, RMSE Loss: 542.9097900390625\n",
      "Finished Training\n",
      "taxi_id: 20000008,index: 38\n",
      "Epoch: 1, RMSE Loss: 618.3914794921875\n",
      "Epoch: 2, RMSE Loss: 535.1090698242188\n",
      "Epoch: 3, RMSE Loss: 533.6777954101562\n",
      "Epoch: 4, RMSE Loss: 534.4754028320312\n"
     ]
    },
    {
     "name": "stderr",
     "output_type": "stream",
     "text": [
      "\r",
      " 12%|█████████▊                                                                       | 39/320 [02:10<15:10,  3.24s/it]"
     ]
    },
    {
     "name": "stdout",
     "output_type": "stream",
     "text": [
      "Epoch: 5, RMSE Loss: 533.5333251953125\n",
      "Finished Training\n",
      "taxi_id: 20000285,index: 39\n",
      "Epoch: 1, RMSE Loss: 604.0419921875\n",
      "Epoch: 2, RMSE Loss: 506.8065490722656\n",
      "Epoch: 3, RMSE Loss: 507.89300537109375\n",
      "Epoch: 4, RMSE Loss: 507.3641662597656\n"
     ]
    },
    {
     "name": "stderr",
     "output_type": "stream",
     "text": [
      "\r",
      " 12%|██████████▏                                                                      | 40/320 [02:14<16:48,  3.60s/it]"
     ]
    },
    {
     "name": "stdout",
     "output_type": "stream",
     "text": [
      "Epoch: 5, RMSE Loss: 506.4481201171875\n",
      "Finished Training\n",
      "taxi_id: 20000546,index: 40\n",
      "Epoch: 1, RMSE Loss: 605.3342895507812\n",
      "Epoch: 2, RMSE Loss: 484.6527099609375\n",
      "Epoch: 3, RMSE Loss: 483.0679016113281\n",
      "Epoch: 4, RMSE Loss: 481.46136474609375\n"
     ]
    },
    {
     "name": "stderr",
     "output_type": "stream",
     "text": [
      "\r",
      " 13%|██████████▍                                                                      | 41/320 [02:17<15:52,  3.42s/it]"
     ]
    },
    {
     "name": "stdout",
     "output_type": "stream",
     "text": [
      "Epoch: 5, RMSE Loss: 479.0374450683594\n",
      "Finished Training\n",
      "taxi_id: 20000353,index: 41\n",
      "Epoch: 1, RMSE Loss: 550.6971435546875\n",
      "Epoch: 2, RMSE Loss: 421.8908386230469\n",
      "Epoch: 3, RMSE Loss: 421.2542419433594\n",
      "Epoch: 4, RMSE Loss: 421.0091247558594\n"
     ]
    },
    {
     "name": "stderr",
     "output_type": "stream",
     "text": [
      "\r",
      " 13%|██████████▋                                                                      | 42/320 [02:20<14:45,  3.19s/it]"
     ]
    },
    {
     "name": "stdout",
     "output_type": "stream",
     "text": [
      "Epoch: 5, RMSE Loss: 421.3100280761719\n",
      "Finished Training\n",
      "taxi_id: 20000569,index: 42\n",
      "Epoch: 1, RMSE Loss: 1094.009765625\n",
      "Epoch: 2, RMSE Loss: 977.967041015625\n",
      "Epoch: 3, RMSE Loss: 952.6043090820312\n",
      "Epoch: 4, RMSE Loss: 940.0807495117188\n"
     ]
    },
    {
     "name": "stderr",
     "output_type": "stream",
     "text": [
      "\r",
      " 13%|██████████▉                                                                      | 43/320 [02:23<14:38,  3.17s/it]"
     ]
    },
    {
     "name": "stdout",
     "output_type": "stream",
     "text": [
      "Epoch: 5, RMSE Loss: 932.583740234375\n",
      "Finished Training\n",
      "taxi_id: 20000384,index: 43\n",
      "Epoch: 1, RMSE Loss: 763.7882690429688\n",
      "Epoch: 2, RMSE Loss: 688.673828125\n",
      "Epoch: 3, RMSE Loss: 687.0487670898438\n",
      "Epoch: 4, RMSE Loss: 687.1443481445312\n"
     ]
    },
    {
     "name": "stderr",
     "output_type": "stream",
     "text": [
      "\r",
      " 14%|███████████▏                                                                     | 44/320 [02:26<14:15,  3.10s/it]"
     ]
    },
    {
     "name": "stdout",
     "output_type": "stream",
     "text": [
      "Epoch: 5, RMSE Loss: 687.8145141601562\n",
      "Finished Training\n",
      "taxi_id: 20000653,index: 44\n",
      "Epoch: 1, RMSE Loss: 512.5662841796875\n",
      "Epoch: 2, RMSE Loss: 428.08306884765625\n",
      "Epoch: 3, RMSE Loss: 425.39947509765625\n",
      "Epoch: 4, RMSE Loss: 425.90924072265625\n"
     ]
    },
    {
     "name": "stderr",
     "output_type": "stream",
     "text": [
      "\r",
      " 14%|███████████▍                                                                     | 45/320 [02:31<16:43,  3.65s/it]"
     ]
    },
    {
     "name": "stdout",
     "output_type": "stream",
     "text": [
      "Epoch: 5, RMSE Loss: 425.756591796875\n",
      "Finished Training\n",
      "taxi_id: 20000540,index: 45\n",
      "Epoch: 1, RMSE Loss: 978.1754760742188\n",
      "Epoch: 2, RMSE Loss: 912.88037109375\n",
      "Epoch: 3, RMSE Loss: 910.8142700195312\n",
      "Epoch: 4, RMSE Loss: 910.7000732421875\n"
     ]
    },
    {
     "name": "stderr",
     "output_type": "stream",
     "text": [
      "\r",
      " 14%|███████████▋                                                                     | 46/320 [02:35<17:57,  3.93s/it]"
     ]
    },
    {
     "name": "stdout",
     "output_type": "stream",
     "text": [
      "Epoch: 5, RMSE Loss: 913.9973754882812\n",
      "Finished Training\n",
      "taxi_id: 20000280,index: 46\n",
      "Epoch: 1, RMSE Loss: 526.2557983398438\n",
      "Epoch: 2, RMSE Loss: 404.14080810546875\n",
      "Epoch: 3, RMSE Loss: 402.9411315917969\n",
      "Epoch: 4, RMSE Loss: 403.2458801269531\n"
     ]
    },
    {
     "name": "stderr",
     "output_type": "stream",
     "text": [
      "\r",
      " 15%|███████████▉                                                                     | 47/320 [02:39<17:13,  3.79s/it]"
     ]
    },
    {
     "name": "stdout",
     "output_type": "stream",
     "text": [
      "Epoch: 5, RMSE Loss: 403.4675598144531\n",
      "Finished Training\n",
      "taxi_id: 20000177,index: 47\n",
      "Epoch: 1, RMSE Loss: 773.769775390625\n",
      "Epoch: 2, RMSE Loss: 604.3880004882812\n",
      "Epoch: 3, RMSE Loss: 602.952392578125\n",
      "Epoch: 4, RMSE Loss: 600.3473510742188\n"
     ]
    },
    {
     "name": "stderr",
     "output_type": "stream",
     "text": [
      "\r",
      " 15%|████████████▏                                                                    | 48/320 [02:41<15:05,  3.33s/it]"
     ]
    },
    {
     "name": "stdout",
     "output_type": "stream",
     "text": [
      "Epoch: 5, RMSE Loss: 601.2080688476562\n",
      "Finished Training\n",
      "taxi_id: 20000085,index: 48\n",
      "Epoch: 1, RMSE Loss: 1105.849609375\n",
      "Epoch: 2, RMSE Loss: 931.9263916015625\n",
      "Epoch: 3, RMSE Loss: 935.4241333007812\n",
      "Epoch: 4, RMSE Loss: 925.4693603515625\n"
     ]
    },
    {
     "name": "stderr",
     "output_type": "stream",
     "text": [
      "\r",
      " 15%|████████████▍                                                                    | 49/320 [02:43<14:02,  3.11s/it]"
     ]
    },
    {
     "name": "stdout",
     "output_type": "stream",
     "text": [
      "Epoch: 5, RMSE Loss: 924.998779296875\n",
      "Finished Training\n",
      "taxi_id: 20000022,index: 49\n",
      "Epoch: 1, RMSE Loss: 543.412109375\n",
      "Epoch: 2, RMSE Loss: 430.4164733886719\n",
      "Epoch: 3, RMSE Loss: 429.3638610839844\n",
      "Epoch: 4, RMSE Loss: 429.0225524902344\n"
     ]
    },
    {
     "name": "stderr",
     "output_type": "stream",
     "text": [
      "\r",
      " 16%|████████████▋                                                                    | 50/320 [02:47<14:09,  3.15s/it]"
     ]
    },
    {
     "name": "stdout",
     "output_type": "stream",
     "text": [
      "Epoch: 5, RMSE Loss: 429.848388671875\n",
      "Finished Training\n",
      "taxi_id: 20000311,index: 50\n",
      "Epoch: 1, RMSE Loss: 710.4752197265625\n",
      "Epoch: 2, RMSE Loss: 548.331787109375\n",
      "Epoch: 3, RMSE Loss: 541.21240234375\n",
      "Epoch: 4, RMSE Loss: 540.070068359375\n"
     ]
    },
    {
     "name": "stderr",
     "output_type": "stream",
     "text": [
      "\r",
      " 16%|████████████▉                                                                    | 51/320 [02:50<14:51,  3.31s/it]"
     ]
    },
    {
     "name": "stdout",
     "output_type": "stream",
     "text": [
      "Epoch: 5, RMSE Loss: 538.57373046875\n",
      "Finished Training\n",
      "taxi_id: 20000294,index: 51\n",
      "Epoch: 1, RMSE Loss: 994.3551635742188\n",
      "Epoch: 2, RMSE Loss: 812.0423583984375\n",
      "Epoch: 3, RMSE Loss: 809.9232177734375\n",
      "Epoch: 4, RMSE Loss: 805.8038940429688\n"
     ]
    },
    {
     "name": "stderr",
     "output_type": "stream",
     "text": [
      "\r",
      " 16%|█████████████▏                                                                   | 52/320 [02:52<12:35,  2.82s/it]"
     ]
    },
    {
     "name": "stdout",
     "output_type": "stream",
     "text": [
      "Epoch: 5, RMSE Loss: 807.8545532226562\n",
      "Finished Training\n",
      "taxi_id: 20000081,index: 52\n",
      "Epoch: 1, RMSE Loss: 869.7991333007812\n",
      "Epoch: 2, RMSE Loss: 808.6399536132812\n",
      "Epoch: 3, RMSE Loss: 806.614013671875\n",
      "Epoch: 4, RMSE Loss: 807.14990234375\n"
     ]
    },
    {
     "name": "stderr",
     "output_type": "stream",
     "text": [
      "\r",
      " 17%|█████████████▍                                                                   | 53/320 [02:56<14:06,  3.17s/it]"
     ]
    },
    {
     "name": "stdout",
     "output_type": "stream",
     "text": [
      "Epoch: 5, RMSE Loss: 806.240478515625\n",
      "Finished Training\n",
      "taxi_id: 20000561,index: 53\n",
      "Epoch: 1, RMSE Loss: 563.1066284179688\n",
      "Epoch: 2, RMSE Loss: 476.47637939453125\n",
      "Epoch: 3, RMSE Loss: 477.1610107421875\n",
      "Epoch: 4, RMSE Loss: 477.63690185546875\n"
     ]
    },
    {
     "name": "stderr",
     "output_type": "stream",
     "text": [
      "\r",
      " 17%|█████████████▋                                                                   | 54/320 [03:01<15:46,  3.56s/it]"
     ]
    },
    {
     "name": "stdout",
     "output_type": "stream",
     "text": [
      "Epoch: 5, RMSE Loss: 476.0057373046875\n",
      "Finished Training\n",
      "taxi_id: 20000178,index: 54\n",
      "Epoch: 1, RMSE Loss: 671.301025390625\n",
      "Epoch: 2, RMSE Loss: 533.4248046875\n",
      "Epoch: 3, RMSE Loss: 530.5361938476562\n",
      "Epoch: 4, RMSE Loss: 529.8192138671875\n"
     ]
    },
    {
     "name": "stderr",
     "output_type": "stream",
     "text": [
      "\r",
      " 17%|█████████████▉                                                                   | 55/320 [03:03<14:41,  3.33s/it]"
     ]
    },
    {
     "name": "stdout",
     "output_type": "stream",
     "text": [
      "Epoch: 5, RMSE Loss: 529.9957885742188\n",
      "Finished Training\n",
      "taxi_id: 20000255,index: 55\n",
      "Epoch: 1, RMSE Loss: 509.80621337890625\n",
      "Epoch: 2, RMSE Loss: 391.9141845703125\n",
      "Epoch: 3, RMSE Loss: 390.8508605957031\n",
      "Epoch: 4, RMSE Loss: 390.308349609375\n"
     ]
    },
    {
     "name": "stderr",
     "output_type": "stream",
     "text": [
      "\r",
      " 18%|██████████████▏                                                                  | 56/320 [03:06<14:24,  3.27s/it]"
     ]
    },
    {
     "name": "stdout",
     "output_type": "stream",
     "text": [
      "Epoch: 5, RMSE Loss: 389.6200256347656\n",
      "Finished Training\n",
      "taxi_id: 20000547,index: 56\n",
      "Epoch: 1, RMSE Loss: 580.89892578125\n",
      "Epoch: 2, RMSE Loss: 387.8275146484375\n",
      "Epoch: 3, RMSE Loss: 381.8204345703125\n",
      "Epoch: 4, RMSE Loss: 381.8090515136719\n"
     ]
    },
    {
     "name": "stderr",
     "output_type": "stream",
     "text": [
      "\r",
      " 18%|██████████████▍                                                                  | 57/320 [03:09<12:45,  2.91s/it]"
     ]
    },
    {
     "name": "stdout",
     "output_type": "stream",
     "text": [
      "Epoch: 5, RMSE Loss: 378.7713623046875\n",
      "Finished Training\n",
      "taxi_id: 20000603,index: 57\n",
      "Epoch: 1, RMSE Loss: 637.9135131835938\n",
      "Epoch: 2, RMSE Loss: 474.7181701660156\n",
      "Epoch: 3, RMSE Loss: 470.4445495605469\n",
      "Epoch: 4, RMSE Loss: 469.5911865234375\n"
     ]
    },
    {
     "name": "stderr",
     "output_type": "stream",
     "text": [
      "\r",
      " 18%|██████████████▋                                                                  | 58/320 [03:11<11:42,  2.68s/it]"
     ]
    },
    {
     "name": "stdout",
     "output_type": "stream",
     "text": [
      "Epoch: 5, RMSE Loss: 469.63214111328125\n",
      "Finished Training\n",
      "taxi_id: 20000668,index: 58\n",
      "Epoch: 1, RMSE Loss: 1319.14013671875\n",
      "Epoch: 2, RMSE Loss: 1149.6361083984375\n",
      "Epoch: 3, RMSE Loss: 1144.9503173828125\n",
      "Epoch: 4, RMSE Loss: 1144.734130859375\n"
     ]
    },
    {
     "name": "stderr",
     "output_type": "stream",
     "text": [
      "\r",
      " 18%|██████████████▉                                                                  | 59/320 [03:13<11:35,  2.66s/it]"
     ]
    },
    {
     "name": "stdout",
     "output_type": "stream",
     "text": [
      "Epoch: 5, RMSE Loss: 1144.8876953125\n",
      "Finished Training\n",
      "taxi_id: 20000044,index: 59\n",
      "Epoch: 1, RMSE Loss: 654.8936767578125\n",
      "Epoch: 2, RMSE Loss: 526.1970825195312\n",
      "Epoch: 3, RMSE Loss: 524.6024169921875\n",
      "Epoch: 4, RMSE Loss: 523.763916015625\n"
     ]
    },
    {
     "name": "stderr",
     "output_type": "stream",
     "text": [
      "\r",
      " 19%|███████████████▏                                                                 | 60/320 [03:16<11:24,  2.63s/it]"
     ]
    },
    {
     "name": "stdout",
     "output_type": "stream",
     "text": [
      "Epoch: 5, RMSE Loss: 525.2283325195312\n",
      "Finished Training\n",
      "taxi_id: 20000041,index: 60\n",
      "Epoch: 1, RMSE Loss: 788.00244140625\n",
      "Epoch: 2, RMSE Loss: 656.8090209960938\n",
      "Epoch: 3, RMSE Loss: 654.5198364257812\n",
      "Epoch: 4, RMSE Loss: 652.7113037109375\n"
     ]
    },
    {
     "name": "stderr",
     "output_type": "stream",
     "text": [
      "\r",
      " 19%|███████████████▍                                                                 | 61/320 [03:19<12:05,  2.80s/it]"
     ]
    },
    {
     "name": "stdout",
     "output_type": "stream",
     "text": [
      "Epoch: 5, RMSE Loss: 649.8741455078125\n",
      "Finished Training\n",
      "taxi_id: 20000245,index: 61\n",
      "Epoch: 1, RMSE Loss: 545.9503173828125\n",
      "Epoch: 2, RMSE Loss: 460.19873046875\n",
      "Epoch: 3, RMSE Loss: 457.7618103027344\n",
      "Epoch: 4, RMSE Loss: 457.4991760253906\n"
     ]
    },
    {
     "name": "stderr",
     "output_type": "stream",
     "text": [
      "\r",
      " 19%|███████████████▋                                                                 | 62/320 [03:23<13:39,  3.18s/it]"
     ]
    },
    {
     "name": "stdout",
     "output_type": "stream",
     "text": [
      "Epoch: 5, RMSE Loss: 458.0851745605469\n",
      "Finished Training\n",
      "taxi_id: 20000649,index: 62\n",
      "Epoch: 1, RMSE Loss: 486.96136474609375\n",
      "Epoch: 2, RMSE Loss: 410.63311767578125\n",
      "Epoch: 3, RMSE Loss: 410.4989013671875\n",
      "Epoch: 4, RMSE Loss: 413.2571105957031\n"
     ]
    },
    {
     "name": "stderr",
     "output_type": "stream",
     "text": [
      "\r",
      " 20%|███████████████▉                                                                 | 63/320 [03:28<15:08,  3.53s/it]"
     ]
    },
    {
     "name": "stdout",
     "output_type": "stream",
     "text": [
      "Epoch: 5, RMSE Loss: 407.9252624511719\n",
      "Finished Training\n",
      "taxi_id: 20000662,index: 63\n",
      "Epoch: 1, RMSE Loss: 622.4609985351562\n",
      "Epoch: 2, RMSE Loss: 516.3903198242188\n",
      "Epoch: 3, RMSE Loss: 514.9386596679688\n",
      "Epoch: 4, RMSE Loss: 515.1924438476562\n"
     ]
    },
    {
     "name": "stderr",
     "output_type": "stream",
     "text": [
      "\r",
      " 20%|████████████████▏                                                                | 64/320 [03:32<15:52,  3.72s/it]"
     ]
    },
    {
     "name": "stdout",
     "output_type": "stream",
     "text": [
      "Epoch: 5, RMSE Loss: 513.615478515625\n",
      "Finished Training\n",
      "taxi_id: 20000055,index: 64\n",
      "Epoch: 1, RMSE Loss: 531.8327026367188\n",
      "Epoch: 2, RMSE Loss: 379.0926208496094\n",
      "Epoch: 3, RMSE Loss: 371.4289855957031\n",
      "Epoch: 4, RMSE Loss: 370.52020263671875\n"
     ]
    },
    {
     "name": "stderr",
     "output_type": "stream",
     "text": [
      "\r",
      " 20%|████████████████▍                                                                | 65/320 [03:34<13:37,  3.21s/it]"
     ]
    },
    {
     "name": "stdout",
     "output_type": "stream",
     "text": [
      "Epoch: 5, RMSE Loss: 374.56219482421875\n",
      "Finished Training\n",
      "taxi_id: 20000595,index: 65\n",
      "Epoch: 1, RMSE Loss: 581.371826171875\n",
      "Epoch: 2, RMSE Loss: 480.4350280761719\n",
      "Epoch: 3, RMSE Loss: 477.0911865234375\n",
      "Epoch: 4, RMSE Loss: 471.951416015625\n"
     ]
    },
    {
     "name": "stderr",
     "output_type": "stream",
     "text": [
      "\r",
      " 21%|████████████████▋                                                                | 66/320 [03:37<14:05,  3.33s/it]"
     ]
    },
    {
     "name": "stdout",
     "output_type": "stream",
     "text": [
      "Epoch: 5, RMSE Loss: 464.48822021484375\n",
      "Finished Training\n",
      "taxi_id: 20000140,index: 66\n",
      "Epoch: 1, RMSE Loss: 486.9857177734375\n",
      "Epoch: 2, RMSE Loss: 422.23602294921875\n",
      "Epoch: 3, RMSE Loss: 421.7802734375\n",
      "Epoch: 4, RMSE Loss: 421.06695556640625\n"
     ]
    },
    {
     "name": "stderr",
     "output_type": "stream",
     "text": [
      "\r",
      " 21%|████████████████▉                                                                | 67/320 [03:42<16:06,  3.82s/it]"
     ]
    },
    {
     "name": "stdout",
     "output_type": "stream",
     "text": [
      "Epoch: 5, RMSE Loss: 424.6871032714844\n",
      "Finished Training\n",
      "taxi_id: 20000260,index: 67\n",
      "Epoch: 1, RMSE Loss: 629.1166381835938\n",
      "Epoch: 2, RMSE Loss: 574.26611328125\n",
      "Epoch: 3, RMSE Loss: 571.3439331054688\n",
      "Epoch: 4, RMSE Loss: 570.3158569335938\n"
     ]
    },
    {
     "name": "stderr",
     "output_type": "stream",
     "text": [
      "\r",
      " 21%|█████████████████▏                                                               | 68/320 [03:46<15:45,  3.75s/it]"
     ]
    },
    {
     "name": "stdout",
     "output_type": "stream",
     "text": [
      "Epoch: 5, RMSE Loss: 569.6744384765625\n",
      "Finished Training\n",
      "taxi_id: 20000576,index: 68\n",
      "Epoch: 1, RMSE Loss: 635.6517944335938\n",
      "Epoch: 2, RMSE Loss: 490.5201416015625\n",
      "Epoch: 3, RMSE Loss: 492.39697265625\n",
      "Epoch: 4, RMSE Loss: 490.7732849121094\n"
     ]
    },
    {
     "name": "stderr",
     "output_type": "stream",
     "text": [
      "\r",
      " 22%|█████████████████▍                                                               | 69/320 [03:49<14:42,  3.51s/it]"
     ]
    },
    {
     "name": "stdout",
     "output_type": "stream",
     "text": [
      "Epoch: 5, RMSE Loss: 485.90869140625\n",
      "Finished Training\n",
      "taxi_id: 20000047,index: 69\n",
      "Epoch: 1, RMSE Loss: 530.7137451171875\n",
      "Epoch: 2, RMSE Loss: 349.3607177734375\n",
      "Epoch: 3, RMSE Loss: 347.1503601074219\n",
      "Epoch: 4, RMSE Loss: 345.88348388671875\n"
     ]
    },
    {
     "name": "stderr",
     "output_type": "stream",
     "text": [
      "\r",
      " 22%|█████████████████▋                                                               | 70/320 [03:51<12:49,  3.08s/it]"
     ]
    },
    {
     "name": "stdout",
     "output_type": "stream",
     "text": [
      "Epoch: 5, RMSE Loss: 345.8697204589844\n",
      "Finished Training\n",
      "taxi_id: 20000010,index: 70\n",
      "Epoch: 1, RMSE Loss: 586.3114013671875\n",
      "Epoch: 2, RMSE Loss: 513.730224609375\n",
      "Epoch: 3, RMSE Loss: 513.9482421875\n",
      "Epoch: 4, RMSE Loss: 513.5172729492188\n"
     ]
    },
    {
     "name": "stderr",
     "output_type": "stream",
     "text": [
      "\r",
      " 22%|█████████████████▉                                                               | 71/320 [03:56<14:54,  3.59s/it]"
     ]
    },
    {
     "name": "stdout",
     "output_type": "stream",
     "text": [
      "Epoch: 5, RMSE Loss: 512.3211059570312\n",
      "Finished Training\n",
      "taxi_id: 20000004,index: 71\n",
      "Epoch: 1, RMSE Loss: 586.7110595703125\n",
      "Epoch: 2, RMSE Loss: 473.87060546875\n",
      "Epoch: 3, RMSE Loss: 475.0201416015625\n",
      "Epoch: 4, RMSE Loss: 471.8809814453125\n"
     ]
    },
    {
     "name": "stderr",
     "output_type": "stream",
     "text": [
      "\r",
      " 22%|██████████████████▏                                                              | 72/320 [04:00<15:22,  3.72s/it]"
     ]
    },
    {
     "name": "stdout",
     "output_type": "stream",
     "text": [
      "Epoch: 5, RMSE Loss: 473.1950988769531\n",
      "Finished Training\n",
      "taxi_id: 20000334,index: 72\n",
      "Epoch: 1, RMSE Loss: 844.6084594726562\n",
      "Epoch: 2, RMSE Loss: 760.5751953125\n",
      "Epoch: 3, RMSE Loss: 759.951904296875\n",
      "Epoch: 4, RMSE Loss: 758.62255859375\n"
     ]
    },
    {
     "name": "stderr",
     "output_type": "stream",
     "text": [
      "\r",
      " 23%|██████████████████▍                                                              | 73/320 [04:03<14:20,  3.49s/it]"
     ]
    },
    {
     "name": "stdout",
     "output_type": "stream",
     "text": [
      "Epoch: 5, RMSE Loss: 757.659912109375\n",
      "Finished Training\n",
      "taxi_id: 20000256,index: 73\n",
      "Epoch: 1, RMSE Loss: 966.565673828125\n",
      "Epoch: 2, RMSE Loss: 868.4060668945312\n",
      "Epoch: 3, RMSE Loss: 862.5956420898438\n",
      "Epoch: 4, RMSE Loss: 860.7698974609375\n"
     ]
    },
    {
     "name": "stderr",
     "output_type": "stream",
     "text": [
      "\r",
      " 23%|██████████████████▋                                                              | 74/320 [04:06<14:44,  3.60s/it]"
     ]
    },
    {
     "name": "stdout",
     "output_type": "stream",
     "text": [
      "Epoch: 5, RMSE Loss: 857.3316040039062\n",
      "Finished Training\n",
      "taxi_id: 20000349,index: 74\n",
      "Epoch: 1, RMSE Loss: 837.1250610351562\n",
      "Epoch: 2, RMSE Loss: 713.7470703125\n",
      "Epoch: 3, RMSE Loss: 713.03857421875\n",
      "Epoch: 4, RMSE Loss: 713.18505859375\n"
     ]
    },
    {
     "name": "stderr",
     "output_type": "stream",
     "text": [
      "\r",
      " 23%|██████████████████▉                                                              | 75/320 [04:09<13:45,  3.37s/it]"
     ]
    },
    {
     "name": "stdout",
     "output_type": "stream",
     "text": [
      "Epoch: 5, RMSE Loss: 710.1353149414062\n",
      "Finished Training\n",
      "taxi_id: 20000675,index: 75\n",
      "Epoch: 1, RMSE Loss: 593.3186645507812\n",
      "Epoch: 2, RMSE Loss: 517.4722290039062\n",
      "Epoch: 3, RMSE Loss: 517.0684204101562\n",
      "Epoch: 4, RMSE Loss: 514.4066162109375\n"
     ]
    },
    {
     "name": "stderr",
     "output_type": "stream",
     "text": [
      "\r",
      " 24%|███████████████████▏                                                             | 76/320 [04:14<15:13,  3.74s/it]"
     ]
    },
    {
     "name": "stdout",
     "output_type": "stream",
     "text": [
      "Epoch: 5, RMSE Loss: 512.9486083984375\n",
      "Finished Training\n",
      "taxi_id: 20000010,index: 76\n",
      "Epoch: 1, RMSE Loss: 582.2904663085938\n",
      "Epoch: 2, RMSE Loss: 511.7854919433594\n",
      "Epoch: 3, RMSE Loss: 513.5588989257812\n",
      "Epoch: 4, RMSE Loss: 512.83837890625\n"
     ]
    },
    {
     "name": "stderr",
     "output_type": "stream",
     "text": [
      "\r",
      " 24%|███████████████████▍                                                             | 77/320 [04:19<16:36,  4.10s/it]"
     ]
    },
    {
     "name": "stdout",
     "output_type": "stream",
     "text": [
      "Epoch: 5, RMSE Loss: 511.6570739746094\n",
      "Finished Training\n",
      "taxi_id: 20000224,index: 77\n",
      "Epoch: 1, RMSE Loss: 756.2499389648438\n",
      "Epoch: 2, RMSE Loss: 660.7864379882812\n",
      "Epoch: 3, RMSE Loss: 657.1115112304688\n",
      "Epoch: 4, RMSE Loss: 656.7781982421875\n"
     ]
    },
    {
     "name": "stderr",
     "output_type": "stream",
     "text": [
      "\r",
      " 24%|███████████████████▋                                                             | 78/320 [04:22<15:48,  3.92s/it]"
     ]
    },
    {
     "name": "stdout",
     "output_type": "stream",
     "text": [
      "Epoch: 5, RMSE Loss: 655.7426147460938\n",
      "Finished Training\n",
      "taxi_id: 20000901,index: 78\n",
      "Epoch: 1, RMSE Loss: 582.1853637695312\n",
      "Epoch: 2, RMSE Loss: 493.4757385253906\n",
      "Epoch: 3, RMSE Loss: 492.310791015625\n",
      "Epoch: 4, RMSE Loss: 491.2401428222656\n"
     ]
    },
    {
     "name": "stderr",
     "output_type": "stream",
     "text": [
      "\r",
      " 25%|███████████████████▉                                                             | 79/320 [04:26<15:36,  3.89s/it]"
     ]
    },
    {
     "name": "stdout",
     "output_type": "stream",
     "text": [
      "Epoch: 5, RMSE Loss: 491.67791748046875\n",
      "Finished Training\n",
      "taxi_id: 20000488,index: 79\n",
      "Epoch: 1, RMSE Loss: 712.3170166015625\n",
      "Epoch: 2, RMSE Loss: 549.21728515625\n",
      "Epoch: 3, RMSE Loss: 539.602783203125\n",
      "Epoch: 4, RMSE Loss: 537.077880859375\n"
     ]
    },
    {
     "name": "stderr",
     "output_type": "stream",
     "text": [
      "\r",
      " 25%|████████████████████▎                                                            | 80/320 [04:29<14:01,  3.51s/it]"
     ]
    },
    {
     "name": "stdout",
     "output_type": "stream",
     "text": [
      "Epoch: 5, RMSE Loss: 531.609130859375\n",
      "Finished Training\n",
      "taxi_id: 20000633,index: 80\n",
      "Epoch: 1, RMSE Loss: 548.4554443359375\n",
      "Epoch: 2, RMSE Loss: 447.576416015625\n",
      "Epoch: 3, RMSE Loss: 446.2813720703125\n",
      "Epoch: 4, RMSE Loss: 446.7757873535156\n"
     ]
    },
    {
     "name": "stderr",
     "output_type": "stream",
     "text": [
      "\r",
      " 25%|████████████████████▌                                                            | 81/320 [04:31<12:27,  3.13s/it]"
     ]
    },
    {
     "name": "stdout",
     "output_type": "stream",
     "text": [
      "Epoch: 5, RMSE Loss: 446.9714660644531\n",
      "Finished Training\n",
      "taxi_id: 20000617,index: 81\n",
      "Epoch: 1, RMSE Loss: 619.7604370117188\n",
      "Epoch: 2, RMSE Loss: 527.7698364257812\n",
      "Epoch: 3, RMSE Loss: 527.0208129882812\n",
      "Epoch: 4, RMSE Loss: 526.54296875\n"
     ]
    },
    {
     "name": "stderr",
     "output_type": "stream",
     "text": [
      "\r",
      " 26%|████████████████████▊                                                            | 82/320 [04:36<14:11,  3.58s/it]"
     ]
    },
    {
     "name": "stdout",
     "output_type": "stream",
     "text": [
      "Epoch: 5, RMSE Loss: 527.4166870117188\n",
      "Finished Training\n",
      "taxi_id: 20000188,index: 82\n",
      "Epoch: 1, RMSE Loss: 612.9057006835938\n",
      "Epoch: 2, RMSE Loss: 496.00811767578125\n",
      "Epoch: 3, RMSE Loss: 494.4339904785156\n",
      "Epoch: 4, RMSE Loss: 494.5686340332031\n"
     ]
    },
    {
     "name": "stderr",
     "output_type": "stream",
     "text": [
      "\r",
      " 26%|█████████████████████                                                            | 83/320 [04:39<14:02,  3.56s/it]"
     ]
    },
    {
     "name": "stdout",
     "output_type": "stream",
     "text": [
      "Epoch: 5, RMSE Loss: 493.5935974121094\n",
      "Finished Training\n",
      "taxi_id: 20000436,index: 83\n",
      "Epoch: 1, RMSE Loss: 1199.293212890625\n",
      "Epoch: 2, RMSE Loss: 1106.9549560546875\n",
      "Epoch: 3, RMSE Loss: 1101.7822265625\n",
      "Epoch: 4, RMSE Loss: 1109.8856201171875\n"
     ]
    },
    {
     "name": "stderr",
     "output_type": "stream",
     "text": [
      "\r",
      " 26%|█████████████████████▎                                                           | 84/320 [04:44<15:13,  3.87s/it]"
     ]
    },
    {
     "name": "stdout",
     "output_type": "stream",
     "text": [
      "Epoch: 5, RMSE Loss: 1097.4556884765625\n",
      "Finished Training\n",
      "taxi_id: 20000578,index: 84\n",
      "Epoch: 1, RMSE Loss: 613.170166015625\n",
      "Epoch: 2, RMSE Loss: 507.36016845703125\n",
      "Epoch: 3, RMSE Loss: 505.4339904785156\n",
      "Epoch: 4, RMSE Loss: 506.7520446777344\n"
     ]
    },
    {
     "name": "stderr",
     "output_type": "stream",
     "text": [
      "\r",
      " 27%|█████████████████████▌                                                           | 85/320 [04:46<13:44,  3.51s/it]"
     ]
    },
    {
     "name": "stdout",
     "output_type": "stream",
     "text": [
      "Epoch: 5, RMSE Loss: 505.3354797363281\n",
      "Finished Training\n",
      "taxi_id: 20000116,index: 85\n",
      "Epoch: 1, RMSE Loss: 1473.995361328125\n",
      "Epoch: 2, RMSE Loss: 1340.1412353515625\n",
      "Epoch: 3, RMSE Loss: 1303.2276611328125\n",
      "Epoch: 4, RMSE Loss: 1249.788330078125\n"
     ]
    },
    {
     "name": "stderr",
     "output_type": "stream",
     "text": [
      "\r",
      " 27%|█████████████████████▊                                                           | 86/320 [04:50<13:46,  3.53s/it]"
     ]
    },
    {
     "name": "stdout",
     "output_type": "stream",
     "text": [
      "Epoch: 5, RMSE Loss: 1174.648193359375\n",
      "Finished Training\n",
      "taxi_id: 20000477,index: 86\n",
      "Epoch: 1, RMSE Loss: 797.1786499023438\n",
      "Epoch: 2, RMSE Loss: 576.110107421875\n",
      "Epoch: 3, RMSE Loss: 569.1954345703125\n",
      "Epoch: 4, RMSE Loss: 567.6932373046875\n"
     ]
    },
    {
     "name": "stderr",
     "output_type": "stream",
     "text": [
      "\r",
      " 27%|██████████████████████                                                           | 87/320 [04:52<11:51,  3.05s/it]"
     ]
    },
    {
     "name": "stdout",
     "output_type": "stream",
     "text": [
      "Epoch: 5, RMSE Loss: 568.2239990234375\n",
      "Finished Training\n",
      "taxi_id: 20000624,index: 87\n",
      "Epoch: 1, RMSE Loss: 592.99267578125\n",
      "Epoch: 2, RMSE Loss: 513.0780639648438\n",
      "Epoch: 3, RMSE Loss: 511.5283508300781\n",
      "Epoch: 4, RMSE Loss: 511.8658447265625\n"
     ]
    },
    {
     "name": "stderr",
     "output_type": "stream",
     "text": [
      "\r",
      " 28%|██████████████████████▎                                                          | 88/320 [04:57<13:43,  3.55s/it]"
     ]
    },
    {
     "name": "stdout",
     "output_type": "stream",
     "text": [
      "Epoch: 5, RMSE Loss: 510.7075500488281\n",
      "Finished Training\n",
      "taxi_id: 20000572,index: 88\n",
      "Epoch: 1, RMSE Loss: 564.3990478515625\n",
      "Epoch: 2, RMSE Loss: 441.65362548828125\n",
      "Epoch: 3, RMSE Loss: 440.0298156738281\n",
      "Epoch: 4, RMSE Loss: 439.3529968261719\n"
     ]
    },
    {
     "name": "stderr",
     "output_type": "stream",
     "text": [
      "\r",
      " 28%|██████████████████████▌                                                          | 89/320 [04:59<12:48,  3.33s/it]"
     ]
    },
    {
     "name": "stdout",
     "output_type": "stream",
     "text": [
      "Epoch: 5, RMSE Loss: 438.751953125\n",
      "Finished Training\n",
      "taxi_id: 20000249,index: 89\n",
      "Epoch: 1, RMSE Loss: 619.5155639648438\n",
      "Epoch: 2, RMSE Loss: 550.8937377929688\n",
      "Epoch: 3, RMSE Loss: 550.2426147460938\n",
      "Epoch: 4, RMSE Loss: 550.3641967773438\n"
     ]
    },
    {
     "name": "stderr",
     "output_type": "stream",
     "text": [
      "\r",
      " 28%|██████████████████████▊                                                          | 90/320 [05:04<14:33,  3.80s/it]"
     ]
    },
    {
     "name": "stdout",
     "output_type": "stream",
     "text": [
      "Epoch: 5, RMSE Loss: 550.5429077148438\n",
      "Finished Training\n",
      "taxi_id: 20000612,index: 90\n",
      "Epoch: 1, RMSE Loss: 521.4706420898438\n",
      "Epoch: 2, RMSE Loss: 434.78521728515625\n",
      "Epoch: 3, RMSE Loss: 435.4295959472656\n",
      "Epoch: 4, RMSE Loss: 434.9002685546875\n"
     ]
    },
    {
     "name": "stderr",
     "output_type": "stream",
     "text": [
      "\r",
      " 28%|███████████████████████                                                          | 91/320 [05:09<14:53,  3.90s/it]"
     ]
    },
    {
     "name": "stdout",
     "output_type": "stream",
     "text": [
      "Epoch: 5, RMSE Loss: 434.7211608886719\n",
      "Finished Training\n",
      "taxi_id: 20000560,index: 91\n",
      "Epoch: 1, RMSE Loss: 596.880859375\n",
      "Epoch: 2, RMSE Loss: 532.0875244140625\n",
      "Epoch: 3, RMSE Loss: 531.6365356445312\n",
      "Epoch: 4, RMSE Loss: 531.4970092773438\n"
     ]
    },
    {
     "name": "stderr",
     "output_type": "stream",
     "text": [
      "\r",
      " 29%|███████████████████████▎                                                         | 92/320 [05:13<15:31,  4.09s/it]"
     ]
    },
    {
     "name": "stdout",
     "output_type": "stream",
     "text": [
      "Epoch: 5, RMSE Loss: 532.0858154296875\n",
      "Finished Training\n",
      "taxi_id: 20000372,index: 92\n",
      "Epoch: 1, RMSE Loss: 743.2349243164062\n",
      "Epoch: 2, RMSE Loss: 634.6691284179688\n",
      "Epoch: 3, RMSE Loss: 611.1693115234375\n",
      "Epoch: 4, RMSE Loss: 594.7354125976562\n"
     ]
    },
    {
     "name": "stderr",
     "output_type": "stream",
     "text": [
      "\r",
      " 29%|███████████████████████▌                                                         | 93/320 [05:18<16:41,  4.41s/it]"
     ]
    },
    {
     "name": "stdout",
     "output_type": "stream",
     "text": [
      "Epoch: 5, RMSE Loss: 578.1270141601562\n",
      "Finished Training\n",
      "taxi_id: 20000071,index: 93\n",
      "Epoch: 1, RMSE Loss: 896.3563232421875\n",
      "Epoch: 2, RMSE Loss: 683.4437255859375\n",
      "Epoch: 3, RMSE Loss: 675.2083740234375\n",
      "Epoch: 4, RMSE Loss: 676.8961791992188\n"
     ]
    },
    {
     "name": "stderr",
     "output_type": "stream",
     "text": [
      "\r",
      " 29%|███████████████████████▊                                                         | 94/320 [05:19<13:05,  3.48s/it]"
     ]
    },
    {
     "name": "stdout",
     "output_type": "stream",
     "text": [
      "Epoch: 5, RMSE Loss: 673.50048828125\n",
      "Finished Training\n",
      "taxi_id: 20000688,index: 94\n",
      "Epoch: 1, RMSE Loss: 826.7894897460938\n",
      "Epoch: 2, RMSE Loss: 752.1804809570312\n",
      "Epoch: 3, RMSE Loss: 747.9940795898438\n",
      "Epoch: 4, RMSE Loss: 741.3729248046875\n"
     ]
    },
    {
     "name": "stderr",
     "output_type": "stream",
     "text": [
      "\r",
      " 30%|████████████████████████                                                         | 95/320 [05:24<14:17,  3.81s/it]"
     ]
    },
    {
     "name": "stdout",
     "output_type": "stream",
     "text": [
      "Epoch: 5, RMSE Loss: 738.5857543945312\n",
      "Finished Training\n",
      "taxi_id: 20000904,index: 95\n",
      "Epoch: 1, RMSE Loss: 2151.769775390625\n",
      "Epoch: 2, RMSE Loss: 2010.9276123046875\n",
      "Epoch: 3, RMSE Loss: 2007.065185546875\n",
      "Epoch: 4, RMSE Loss: 1999.4490966796875\n"
     ]
    },
    {
     "name": "stderr",
     "output_type": "stream",
     "text": [
      "\r",
      " 30%|████████████████████████▎                                                        | 96/320 [05:28<14:32,  3.89s/it]"
     ]
    },
    {
     "name": "stdout",
     "output_type": "stream",
     "text": [
      "Epoch: 5, RMSE Loss: 2001.560302734375\n",
      "Finished Training\n",
      "taxi_id: 20000060,index: 96\n",
      "Epoch: 1, RMSE Loss: 540.6026611328125\n",
      "Epoch: 2, RMSE Loss: 446.9890441894531\n",
      "Epoch: 3, RMSE Loss: 446.44384765625\n",
      "Epoch: 4, RMSE Loss: 445.71807861328125\n"
     ]
    },
    {
     "name": "stderr",
     "output_type": "stream",
     "text": [
      "\r",
      " 30%|████████████████████████▌                                                        | 97/320 [05:32<14:45,  3.97s/it]"
     ]
    },
    {
     "name": "stdout",
     "output_type": "stream",
     "text": [
      "Epoch: 5, RMSE Loss: 445.60650634765625\n",
      "Finished Training\n",
      "taxi_id: 20000434,index: 97\n",
      "Epoch: 1, RMSE Loss: 800.8146362304688\n",
      "Epoch: 2, RMSE Loss: 673.0214233398438\n",
      "Epoch: 3, RMSE Loss: 669.1674194335938\n",
      "Epoch: 4, RMSE Loss: 669.5855712890625\n"
     ]
    },
    {
     "name": "stderr",
     "output_type": "stream",
     "text": [
      "\r",
      " 31%|████████████████████████▊                                                        | 98/320 [05:36<13:57,  3.77s/it]"
     ]
    },
    {
     "name": "stdout",
     "output_type": "stream",
     "text": [
      "Epoch: 5, RMSE Loss: 672.8720092773438\n",
      "Finished Training\n",
      "taxi_id: 20000112,index: 98\n",
      "Epoch: 1, RMSE Loss: 538.9595947265625\n",
      "Epoch: 2, RMSE Loss: 430.2724914550781\n",
      "Epoch: 3, RMSE Loss: 430.04547119140625\n",
      "Epoch: 4, RMSE Loss: 429.41644287109375\n"
     ]
    },
    {
     "name": "stderr",
     "output_type": "stream",
     "text": [
      "\r",
      " 31%|█████████████████████████                                                        | 99/320 [05:39<13:30,  3.67s/it]"
     ]
    },
    {
     "name": "stdout",
     "output_type": "stream",
     "text": [
      "Epoch: 5, RMSE Loss: 430.4058532714844\n",
      "Finished Training\n",
      "taxi_id: 20000286,index: 99\n",
      "Epoch: 1, RMSE Loss: 650.214599609375\n",
      "Epoch: 2, RMSE Loss: 551.2906494140625\n",
      "Epoch: 3, RMSE Loss: 541.0930786132812\n",
      "Epoch: 4, RMSE Loss: 536.0685424804688\n"
     ]
    },
    {
     "name": "stderr",
     "output_type": "stream",
     "text": [
      "\r",
      " 31%|█████████████████████████                                                       | 100/320 [05:41<12:03,  3.29s/it]"
     ]
    },
    {
     "name": "stdout",
     "output_type": "stream",
     "text": [
      "Epoch: 5, RMSE Loss: 533.5042114257812\n",
      "Finished Training\n",
      "taxi_id: 20000036,index: 100\n",
      "Epoch: 1, RMSE Loss: 784.5303344726562\n",
      "Epoch: 2, RMSE Loss: 649.7327270507812\n",
      "Epoch: 3, RMSE Loss: 648.3843383789062\n",
      "Epoch: 4, RMSE Loss: 647.1774291992188\n"
     ]
    },
    {
     "name": "stderr",
     "output_type": "stream",
     "text": [
      "\r",
      " 32%|█████████████████████████▎                                                      | 101/320 [05:44<11:38,  3.19s/it]"
     ]
    },
    {
     "name": "stdout",
     "output_type": "stream",
     "text": [
      "Epoch: 5, RMSE Loss: 646.33349609375\n",
      "Finished Training\n",
      "taxi_id: 20000086,index: 101\n",
      "Epoch: 1, RMSE Loss: 1190.5987548828125\n",
      "Epoch: 2, RMSE Loss: 1120.919921875\n",
      "Epoch: 3, RMSE Loss: 1124.0994873046875\n",
      "Epoch: 4, RMSE Loss: 1121.1658935546875\n"
     ]
    },
    {
     "name": "stderr",
     "output_type": "stream",
     "text": [
      "\r",
      " 32%|█████████████████████████▌                                                      | 102/320 [05:47<11:00,  3.03s/it]"
     ]
    },
    {
     "name": "stdout",
     "output_type": "stream",
     "text": [
      "Epoch: 5, RMSE Loss: 1121.4608154296875\n",
      "Finished Training\n",
      "taxi_id: 20000574,index: 102\n",
      "Epoch: 1, RMSE Loss: 931.6624145507812\n",
      "Epoch: 2, RMSE Loss: 869.1473388671875\n",
      "Epoch: 3, RMSE Loss: 866.1298828125\n",
      "Epoch: 4, RMSE Loss: 865.8494873046875\n"
     ]
    },
    {
     "name": "stderr",
     "output_type": "stream",
     "text": [
      "\r",
      " 32%|█████████████████████████▊                                                      | 103/320 [05:52<12:49,  3.54s/it]"
     ]
    },
    {
     "name": "stdout",
     "output_type": "stream",
     "text": [
      "Epoch: 5, RMSE Loss: 878.3735961914062\n",
      "Finished Training\n",
      "taxi_id: 20000331,index: 103\n",
      "Epoch: 1, RMSE Loss: 533.4762573242188\n",
      "Epoch: 2, RMSE Loss: 417.46905517578125\n",
      "Epoch: 3, RMSE Loss: 415.5250549316406\n",
      "Epoch: 4, RMSE Loss: 415.42071533203125\n"
     ]
    },
    {
     "name": "stderr",
     "output_type": "stream",
     "text": [
      "\r",
      " 32%|██████████████████████████                                                      | 104/320 [05:55<12:05,  3.36s/it]"
     ]
    },
    {
     "name": "stdout",
     "output_type": "stream",
     "text": [
      "Epoch: 5, RMSE Loss: 415.3729248046875\n",
      "Finished Training\n",
      "taxi_id: 20000026,index: 104\n",
      "Epoch: 1, RMSE Loss: 667.690185546875\n",
      "Epoch: 2, RMSE Loss: 534.0442504882812\n",
      "Epoch: 3, RMSE Loss: 527.7430419921875\n",
      "Epoch: 4, RMSE Loss: 526.874267578125\n"
     ]
    },
    {
     "name": "stderr",
     "output_type": "stream",
     "text": [
      "\r",
      " 33%|██████████████████████████▎                                                     | 105/320 [05:57<10:42,  2.99s/it]"
     ]
    },
    {
     "name": "stdout",
     "output_type": "stream",
     "text": [
      "Epoch: 5, RMSE Loss: 532.9522705078125\n",
      "Finished Training\n",
      "taxi_id: 20000518,index: 105\n",
      "Epoch: 1, RMSE Loss: 572.3782348632812\n",
      "Epoch: 2, RMSE Loss: 483.6649169921875\n",
      "Epoch: 3, RMSE Loss: 482.8874206542969\n",
      "Epoch: 4, RMSE Loss: 484.6332092285156\n"
     ]
    },
    {
     "name": "stderr",
     "output_type": "stream",
     "text": [
      "\r",
      " 33%|██████████████████████████▌                                                     | 106/320 [06:01<11:24,  3.20s/it]"
     ]
    },
    {
     "name": "stdout",
     "output_type": "stream",
     "text": [
      "Epoch: 5, RMSE Loss: 480.7326354980469\n",
      "Finished Training\n",
      "taxi_id: 20000541,index: 106\n",
      "Epoch: 1, RMSE Loss: 953.3055419921875\n",
      "Epoch: 2, RMSE Loss: 876.5939331054688\n",
      "Epoch: 3, RMSE Loss: 873.0802612304688\n",
      "Epoch: 4, RMSE Loss: 873.747802734375\n"
     ]
    },
    {
     "name": "stderr",
     "output_type": "stream",
     "text": [
      "\r",
      " 33%|██████████████████████████▊                                                     | 107/320 [06:04<11:26,  3.22s/it]"
     ]
    },
    {
     "name": "stdout",
     "output_type": "stream",
     "text": [
      "Epoch: 5, RMSE Loss: 871.7459716796875\n",
      "Finished Training\n",
      "taxi_id: 20000400,index: 107\n",
      "Epoch: 1, RMSE Loss: 1224.1812744140625\n",
      "Epoch: 2, RMSE Loss: 1145.329345703125\n",
      "Epoch: 3, RMSE Loss: 1125.092529296875\n",
      "Epoch: 4, RMSE Loss: 1118.9908447265625\n"
     ]
    },
    {
     "name": "stderr",
     "output_type": "stream",
     "text": [
      "\r",
      " 34%|███████████████████████████                                                     | 108/320 [06:07<10:57,  3.10s/it]"
     ]
    },
    {
     "name": "stdout",
     "output_type": "stream",
     "text": [
      "Epoch: 5, RMSE Loss: 1117.928955078125\n",
      "Finished Training\n",
      "taxi_id: 20000682,index: 108\n",
      "Epoch: 1, RMSE Loss: 686.8135986328125\n",
      "Epoch: 2, RMSE Loss: 507.66888427734375\n",
      "Epoch: 3, RMSE Loss: 498.69091796875\n",
      "Epoch: 4, RMSE Loss: 498.08221435546875\n"
     ]
    },
    {
     "name": "stderr",
     "output_type": "stream",
     "text": [
      "\r",
      " 34%|███████████████████████████▎                                                    | 109/320 [06:09<09:54,  2.82s/it]"
     ]
    },
    {
     "name": "stdout",
     "output_type": "stream",
     "text": [
      "Epoch: 5, RMSE Loss: 499.1246032714844\n",
      "Finished Training\n",
      "taxi_id: 20000039,index: 109\n",
      "Epoch: 1, RMSE Loss: 691.1058349609375\n",
      "Epoch: 2, RMSE Loss: 545.93408203125\n",
      "Epoch: 3, RMSE Loss: 544.9996948242188\n",
      "Epoch: 4, RMSE Loss: 544.9998779296875\n"
     ]
    },
    {
     "name": "stderr",
     "output_type": "stream",
     "text": [
      "\r",
      " 34%|███████████████████████████▌                                                    | 110/320 [06:12<10:11,  2.91s/it]"
     ]
    },
    {
     "name": "stdout",
     "output_type": "stream",
     "text": [
      "Epoch: 5, RMSE Loss: 544.3218383789062\n",
      "Finished Training\n",
      "taxi_id: 20000597,index: 110\n",
      "Epoch: 1, RMSE Loss: 606.8263549804688\n",
      "Epoch: 2, RMSE Loss: 442.69073486328125\n",
      "Epoch: 3, RMSE Loss: 442.5680236816406\n",
      "Epoch: 4, RMSE Loss: 440.88043212890625\n"
     ]
    },
    {
     "name": "stderr",
     "output_type": "stream",
     "text": [
      "\r",
      " 35%|███████████████████████████▊                                                    | 111/320 [06:15<09:53,  2.84s/it]"
     ]
    },
    {
     "name": "stdout",
     "output_type": "stream",
     "text": [
      "Epoch: 5, RMSE Loss: 440.01092529296875\n",
      "Finished Training\n",
      "taxi_id: 20000230,index: 111\n",
      "Epoch: 1, RMSE Loss: 771.0208129882812\n",
      "Epoch: 2, RMSE Loss: 625.9429931640625\n",
      "Epoch: 3, RMSE Loss: 626.4591674804688\n",
      "Epoch: 4, RMSE Loss: 625.3699340820312\n"
     ]
    },
    {
     "name": "stderr",
     "output_type": "stream",
     "text": [
      "\r",
      " 35%|████████████████████████████                                                    | 112/320 [06:17<09:12,  2.66s/it]"
     ]
    },
    {
     "name": "stdout",
     "output_type": "stream",
     "text": [
      "Epoch: 5, RMSE Loss: 625.3983764648438\n",
      "Finished Training\n",
      "taxi_id: 20000206,index: 112\n",
      "Epoch: 1, RMSE Loss: 1435.3521728515625\n",
      "Epoch: 2, RMSE Loss: 1278.5350341796875\n",
      "Epoch: 3, RMSE Loss: 1276.5115966796875\n",
      "Epoch: 4, RMSE Loss: 1253.99560546875\n"
     ]
    },
    {
     "name": "stderr",
     "output_type": "stream",
     "text": [
      "\r",
      " 35%|████████████████████████████▎                                                   | 113/320 [06:19<08:59,  2.61s/it]"
     ]
    },
    {
     "name": "stdout",
     "output_type": "stream",
     "text": [
      "Epoch: 5, RMSE Loss: 1262.162109375\n",
      "Finished Training\n",
      "taxi_id: 20000126,index: 113\n",
      "Epoch: 1, RMSE Loss: 508.6025085449219\n",
      "Epoch: 2, RMSE Loss: 385.5426940917969\n",
      "Epoch: 3, RMSE Loss: 379.0570068359375\n",
      "Epoch: 4, RMSE Loss: 380.6944580078125\n"
     ]
    },
    {
     "name": "stderr",
     "output_type": "stream",
     "text": [
      "\r",
      " 36%|████████████████████████████▌                                                   | 114/320 [06:22<08:49,  2.57s/it]"
     ]
    },
    {
     "name": "stdout",
     "output_type": "stream",
     "text": [
      "Epoch: 5, RMSE Loss: 381.3863830566406\n",
      "Finished Training\n",
      "taxi_id: 20000296,index: 114\n",
      "Epoch: 1, RMSE Loss: 903.3511962890625\n",
      "Epoch: 2, RMSE Loss: 751.5762329101562\n",
      "Epoch: 3, RMSE Loss: 748.3504638671875\n",
      "Epoch: 4, RMSE Loss: 747.7605590820312\n"
     ]
    },
    {
     "name": "stderr",
     "output_type": "stream",
     "text": [
      "\r",
      " 36%|████████████████████████████▊                                                   | 115/320 [06:24<08:19,  2.44s/it]"
     ]
    },
    {
     "name": "stdout",
     "output_type": "stream",
     "text": [
      "Epoch: 5, RMSE Loss: 753.8590087890625\n",
      "Finished Training\n",
      "taxi_id: 20000049,index: 115\n",
      "Epoch: 1, RMSE Loss: 664.2446899414062\n",
      "Epoch: 2, RMSE Loss: 415.66461181640625\n",
      "Epoch: 3, RMSE Loss: 415.09368896484375\n",
      "Epoch: 4, RMSE Loss: 414.93609619140625\n"
     ]
    },
    {
     "name": "stderr",
     "output_type": "stream",
     "text": [
      "\r",
      " 36%|█████████████████████████████                                                   | 116/320 [06:26<07:49,  2.30s/it]"
     ]
    },
    {
     "name": "stdout",
     "output_type": "stream",
     "text": [
      "Epoch: 5, RMSE Loss: 412.4998779296875\n",
      "Finished Training\n",
      "taxi_id: 20000383,index: 116\n",
      "Epoch: 1, RMSE Loss: 731.0836791992188\n",
      "Epoch: 2, RMSE Loss: 626.5491333007812\n",
      "Epoch: 3, RMSE Loss: 589.9212646484375\n",
      "Epoch: 4, RMSE Loss: 588.3247680664062\n"
     ]
    },
    {
     "name": "stderr",
     "output_type": "stream",
     "text": [
      "\r",
      " 37%|█████████████████████████████▎                                                  | 117/320 [06:29<08:09,  2.41s/it]"
     ]
    },
    {
     "name": "stdout",
     "output_type": "stream",
     "text": [
      "Epoch: 5, RMSE Loss: 587.4866333007812\n",
      "Finished Training\n",
      "taxi_id: 20000156,index: 117\n",
      "Epoch: 1, RMSE Loss: 669.9459228515625\n",
      "Epoch: 2, RMSE Loss: 523.19873046875\n",
      "Epoch: 3, RMSE Loss: 523.3361206054688\n",
      "Epoch: 4, RMSE Loss: 522.2691650390625\n"
     ]
    },
    {
     "name": "stderr",
     "output_type": "stream",
     "text": [
      "\r",
      " 37%|█████████████████████████████▌                                                  | 118/320 [06:31<08:24,  2.50s/it]"
     ]
    },
    {
     "name": "stdout",
     "output_type": "stream",
     "text": [
      "Epoch: 5, RMSE Loss: 522.6998901367188\n",
      "Finished Training\n",
      "taxi_id: 20000198,index: 118\n",
      "Epoch: 1, RMSE Loss: 516.039306640625\n",
      "Epoch: 2, RMSE Loss: 385.54656982421875\n",
      "Epoch: 3, RMSE Loss: 385.1437683105469\n",
      "Epoch: 4, RMSE Loss: 386.6680908203125\n"
     ]
    },
    {
     "name": "stderr",
     "output_type": "stream",
     "text": [
      "\r",
      " 37%|█████████████████████████████▊                                                  | 119/320 [06:34<08:37,  2.57s/it]"
     ]
    },
    {
     "name": "stdout",
     "output_type": "stream",
     "text": [
      "Epoch: 5, RMSE Loss: 385.743896484375\n",
      "Finished Training\n",
      "taxi_id: 20000596,index: 119\n",
      "Epoch: 1, RMSE Loss: 616.5969848632812\n",
      "Epoch: 2, RMSE Loss: 509.3872375488281\n",
      "Epoch: 3, RMSE Loss: 508.0589904785156\n",
      "Epoch: 4, RMSE Loss: 513.2127075195312\n"
     ]
    },
    {
     "name": "stderr",
     "output_type": "stream",
     "text": [
      "\r",
      " 38%|██████████████████████████████                                                  | 120/320 [06:37<09:25,  2.83s/it]"
     ]
    },
    {
     "name": "stdout",
     "output_type": "stream",
     "text": [
      "Epoch: 5, RMSE Loss: 505.7748718261719\n",
      "Finished Training\n",
      "taxi_id: 20000248,index: 120\n",
      "Epoch: 1, RMSE Loss: 757.2257080078125\n",
      "Epoch: 2, RMSE Loss: 712.3948974609375\n",
      "Epoch: 3, RMSE Loss: 530.3788452148438\n",
      "Epoch: 4, RMSE Loss: 422.1905517578125\n",
      "Epoch: 5, RMSE Loss: 399.9042053222656\n",
      "Finished Training\n"
     ]
    },
    {
     "name": "stderr",
     "output_type": "stream",
     "text": [
      "\r",
      " 38%|██████████████████████████████▎                                                 | 121/320 [06:38<06:58,  2.10s/it]"
     ]
    },
    {
     "name": "stdout",
     "output_type": "stream",
     "text": [
      "taxi_id: 20000591,index: 121\n",
      "Epoch: 1, RMSE Loss: 621.1090087890625\n",
      "Epoch: 2, RMSE Loss: 543.6458740234375\n",
      "Epoch: 3, RMSE Loss: 544.25146484375\n",
      "Epoch: 4, RMSE Loss: 543.1204223632812\n"
     ]
    },
    {
     "name": "stderr",
     "output_type": "stream",
     "text": [
      "\r",
      " 38%|██████████████████████████████▌                                                 | 122/320 [06:42<08:58,  2.72s/it]"
     ]
    },
    {
     "name": "stdout",
     "output_type": "stream",
     "text": [
      "Epoch: 5, RMSE Loss: 543.93896484375\n",
      "Finished Training\n",
      "taxi_id: 20000260,index: 122\n",
      "Epoch: 1, RMSE Loss: 628.1563720703125\n",
      "Epoch: 2, RMSE Loss: 572.9418334960938\n",
      "Epoch: 3, RMSE Loss: 573.9605102539062\n",
      "Epoch: 4, RMSE Loss: 570.2258911132812\n"
     ]
    },
    {
     "name": "stderr",
     "output_type": "stream",
     "text": [
      "\r",
      " 38%|██████████████████████████████▊                                                 | 123/320 [06:45<09:32,  2.91s/it]"
     ]
    },
    {
     "name": "stdout",
     "output_type": "stream",
     "text": [
      "Epoch: 5, RMSE Loss: 569.5616455078125\n",
      "Finished Training\n",
      "taxi_id: 20000005,index: 123\n",
      "Epoch: 1, RMSE Loss: 535.484619140625\n",
      "Epoch: 2, RMSE Loss: 475.43463134765625\n",
      "Epoch: 3, RMSE Loss: 473.33624267578125\n",
      "Epoch: 4, RMSE Loss: 473.19183349609375\n"
     ]
    },
    {
     "name": "stderr",
     "output_type": "stream",
     "text": [
      "\r",
      " 39%|███████████████████████████████                                                 | 124/320 [06:50<11:34,  3.54s/it]"
     ]
    },
    {
     "name": "stdout",
     "output_type": "stream",
     "text": [
      "Epoch: 5, RMSE Loss: 472.8536682128906\n",
      "Finished Training\n",
      "taxi_id: 20000686,index: 124\n",
      "Epoch: 1, RMSE Loss: 580.946533203125\n",
      "Epoch: 2, RMSE Loss: 520.540771484375\n",
      "Epoch: 3, RMSE Loss: 518.9421997070312\n",
      "Epoch: 4, RMSE Loss: 518.9793701171875\n"
     ]
    },
    {
     "name": "stderr",
     "output_type": "stream",
     "text": [
      "\r",
      " 39%|███████████████████████████████▎                                                | 125/320 [06:56<13:10,  4.05s/it]"
     ]
    },
    {
     "name": "stdout",
     "output_type": "stream",
     "text": [
      "Epoch: 5, RMSE Loss: 518.5816650390625\n",
      "Finished Training\n",
      "taxi_id: 20000384,index: 125\n",
      "Epoch: 1, RMSE Loss: 793.9711303710938\n",
      "Epoch: 2, RMSE Loss: 690.7484130859375\n",
      "Epoch: 3, RMSE Loss: 688.4527587890625\n",
      "Epoch: 4, RMSE Loss: 689.5218505859375\n"
     ]
    },
    {
     "name": "stderr",
     "output_type": "stream",
     "text": [
      "\r",
      " 39%|███████████████████████████████▌                                                | 126/320 [06:59<12:05,  3.74s/it]"
     ]
    },
    {
     "name": "stdout",
     "output_type": "stream",
     "text": [
      "Epoch: 5, RMSE Loss: 688.5798950195312\n",
      "Finished Training\n",
      "taxi_id: 20000272,index: 126\n",
      "Epoch: 1, RMSE Loss: 578.0371704101562\n",
      "Epoch: 2, RMSE Loss: 462.33258056640625\n",
      "Epoch: 3, RMSE Loss: 460.6713562011719\n",
      "Epoch: 4, RMSE Loss: 459.922607421875\n"
     ]
    },
    {
     "name": "stderr",
     "output_type": "stream",
     "text": [
      "\r",
      " 40%|███████████████████████████████▊                                                | 127/320 [07:01<11:01,  3.43s/it]"
     ]
    },
    {
     "name": "stdout",
     "output_type": "stream",
     "text": [
      "Epoch: 5, RMSE Loss: 461.6370849609375\n",
      "Finished Training\n",
      "taxi_id: 20000314,index: 127\n",
      "Epoch: 1, RMSE Loss: 628.3660278320312\n",
      "Epoch: 2, RMSE Loss: 450.3358154296875\n",
      "Epoch: 3, RMSE Loss: 446.80926513671875\n",
      "Epoch: 4, RMSE Loss: 452.426025390625\n"
     ]
    },
    {
     "name": "stderr",
     "output_type": "stream",
     "text": [
      "\r",
      " 40%|████████████████████████████████                                                | 128/320 [07:04<10:07,  3.16s/it]"
     ]
    },
    {
     "name": "stdout",
     "output_type": "stream",
     "text": [
      "Epoch: 5, RMSE Loss: 448.595947265625\n",
      "Finished Training\n",
      "taxi_id: 20000625,index: 128\n",
      "Epoch: 1, RMSE Loss: 509.239013671875\n",
      "Epoch: 2, RMSE Loss: 426.9234313964844\n",
      "Epoch: 3, RMSE Loss: 427.03033447265625\n",
      "Epoch: 4, RMSE Loss: 426.597412109375\n"
     ]
    },
    {
     "name": "stderr",
     "output_type": "stream",
     "text": [
      "\r",
      " 40%|████████████████████████████████▎                                               | 129/320 [07:09<11:34,  3.64s/it]"
     ]
    },
    {
     "name": "stdout",
     "output_type": "stream",
     "text": [
      "Epoch: 5, RMSE Loss: 425.9234313964844\n",
      "Finished Training\n",
      "taxi_id: 20000589,index: 129\n",
      "Epoch: 1, RMSE Loss: 584.5670776367188\n",
      "Epoch: 2, RMSE Loss: 495.42108154296875\n",
      "Epoch: 3, RMSE Loss: 498.79315185546875\n",
      "Epoch: 4, RMSE Loss: 499.0088195800781\n"
     ]
    },
    {
     "name": "stderr",
     "output_type": "stream",
     "text": [
      "\r",
      " 41%|████████████████████████████████▌                                               | 130/320 [07:12<11:41,  3.69s/it]"
     ]
    },
    {
     "name": "stdout",
     "output_type": "stream",
     "text": [
      "Epoch: 5, RMSE Loss: 494.8057861328125\n",
      "Finished Training\n",
      "taxi_id: 20000476,index: 130\n",
      "Epoch: 1, RMSE Loss: 464.19097900390625\n",
      "Epoch: 2, RMSE Loss: 408.46875\n",
      "Epoch: 3, RMSE Loss: 407.91363525390625\n",
      "Epoch: 4, RMSE Loss: 406.8432922363281\n"
     ]
    },
    {
     "name": "stderr",
     "output_type": "stream",
     "text": [
      "\r",
      " 41%|████████████████████████████████▊                                               | 131/320 [07:17<12:43,  4.04s/it]"
     ]
    },
    {
     "name": "stdout",
     "output_type": "stream",
     "text": [
      "Epoch: 5, RMSE Loss: 405.88262939453125\n",
      "Finished Training\n",
      "taxi_id: 20000523,index: 131\n",
      "Epoch: 1, RMSE Loss: 746.4434204101562\n",
      "Epoch: 2, RMSE Loss: 545.165283203125\n",
      "Epoch: 3, RMSE Loss: 540.8317260742188\n",
      "Epoch: 4, RMSE Loss: 541.7030639648438\n"
     ]
    },
    {
     "name": "stderr",
     "output_type": "stream",
     "text": [
      "\r",
      " 41%|█████████████████████████████████                                               | 132/320 [07:19<10:47,  3.44s/it]"
     ]
    },
    {
     "name": "stdout",
     "output_type": "stream",
     "text": [
      "Epoch: 5, RMSE Loss: 538.4003295898438\n",
      "Finished Training\n",
      "taxi_id: 20000503,index: 132\n",
      "Epoch: 1, RMSE Loss: 484.41583251953125\n",
      "Epoch: 2, RMSE Loss: 423.708251953125\n",
      "Epoch: 3, RMSE Loss: 422.8414001464844\n",
      "Epoch: 4, RMSE Loss: 422.9079284667969\n"
     ]
    },
    {
     "name": "stderr",
     "output_type": "stream",
     "text": [
      "\r",
      " 42%|█████████████████████████████████▎                                              | 133/320 [07:24<11:53,  3.81s/it]"
     ]
    },
    {
     "name": "stdout",
     "output_type": "stream",
     "text": [
      "Epoch: 5, RMSE Loss: 421.3455505371094\n",
      "Finished Training\n",
      "taxi_id: 20000473,index: 133\n",
      "Epoch: 1, RMSE Loss: 716.6099853515625\n",
      "Epoch: 2, RMSE Loss: 627.6563720703125\n",
      "Epoch: 3, RMSE Loss: 626.1439819335938\n",
      "Epoch: 4, RMSE Loss: 624.90234375\n"
     ]
    },
    {
     "name": "stderr",
     "output_type": "stream",
     "text": [
      "\r",
      " 42%|█████████████████████████████████▌                                              | 134/320 [07:28<12:01,  3.88s/it]"
     ]
    },
    {
     "name": "stdout",
     "output_type": "stream",
     "text": [
      "Epoch: 5, RMSE Loss: 624.3276977539062\n",
      "Finished Training\n",
      "taxi_id: 20000092,index: 134\n",
      "Epoch: 1, RMSE Loss: 716.6365966796875\n",
      "Epoch: 2, RMSE Loss: 637.5895385742188\n",
      "Epoch: 3, RMSE Loss: 638.1148071289062\n",
      "Epoch: 4, RMSE Loss: 636.5360717773438\n"
     ]
    },
    {
     "name": "stderr",
     "output_type": "stream",
     "text": [
      "\r",
      " 42%|█████████████████████████████████▊                                              | 135/320 [07:31<11:22,  3.69s/it]"
     ]
    },
    {
     "name": "stdout",
     "output_type": "stream",
     "text": [
      "Epoch: 5, RMSE Loss: 635.2649536132812\n",
      "Finished Training\n",
      "taxi_id: 20000085,index: 135\n",
      "Epoch: 1, RMSE Loss: 1087.5374755859375\n",
      "Epoch: 2, RMSE Loss: 929.446044921875\n",
      "Epoch: 3, RMSE Loss: 927.46240234375\n",
      "Epoch: 4, RMSE Loss: 926.9766845703125\n"
     ]
    },
    {
     "name": "stderr",
     "output_type": "stream",
     "text": [
      "\r",
      " 42%|██████████████████████████████████                                              | 136/320 [07:34<10:21,  3.38s/it]"
     ]
    },
    {
     "name": "stdout",
     "output_type": "stream",
     "text": [
      "Epoch: 5, RMSE Loss: 926.7713012695312\n",
      "Finished Training\n",
      "taxi_id: 20000159,index: 136\n",
      "Epoch: 1, RMSE Loss: 973.5245971679688\n",
      "Epoch: 2, RMSE Loss: 803.4764404296875\n",
      "Epoch: 3, RMSE Loss: 797.331787109375\n",
      "Epoch: 4, RMSE Loss: 798.469482421875\n"
     ]
    },
    {
     "name": "stderr",
     "output_type": "stream",
     "text": [
      "\r",
      " 43%|██████████████████████████████████▎                                             | 137/320 [07:36<09:08,  3.00s/it]"
     ]
    },
    {
     "name": "stdout",
     "output_type": "stream",
     "text": [
      "Epoch: 5, RMSE Loss: 796.4342651367188\n",
      "Finished Training\n",
      "taxi_id: 20000410,index: 137\n",
      "Epoch: 1, RMSE Loss: 602.3317260742188\n",
      "Epoch: 2, RMSE Loss: 438.5097961425781\n",
      "Epoch: 3, RMSE Loss: 437.9801330566406\n",
      "Epoch: 4, RMSE Loss: 434.9482727050781\n"
     ]
    },
    {
     "name": "stderr",
     "output_type": "stream",
     "text": [
      "\r",
      " 43%|██████████████████████████████████▌                                             | 138/320 [07:38<08:31,  2.81s/it]"
     ]
    },
    {
     "name": "stdout",
     "output_type": "stream",
     "text": [
      "Epoch: 5, RMSE Loss: 441.96343994140625\n",
      "Finished Training\n",
      "taxi_id: 20000123,index: 138\n",
      "Epoch: 1, RMSE Loss: 756.8208618164062\n",
      "Epoch: 2, RMSE Loss: 656.9979248046875\n",
      "Epoch: 3, RMSE Loss: 655.879638671875\n",
      "Epoch: 4, RMSE Loss: 655.0858154296875\n"
     ]
    },
    {
     "name": "stderr",
     "output_type": "stream",
     "text": [
      "\r",
      " 43%|██████████████████████████████████▊                                             | 139/320 [07:41<08:36,  2.86s/it]"
     ]
    },
    {
     "name": "stdout",
     "output_type": "stream",
     "text": [
      "Epoch: 5, RMSE Loss: 655.4033813476562\n",
      "Finished Training\n",
      "taxi_id: 20000040,index: 139\n",
      "Epoch: 1, RMSE Loss: 694.408203125\n",
      "Epoch: 2, RMSE Loss: 475.78839111328125\n",
      "Epoch: 3, RMSE Loss: 473.4331359863281\n",
      "Epoch: 4, RMSE Loss: 480.18621826171875\n"
     ]
    },
    {
     "name": "stderr",
     "output_type": "stream",
     "text": [
      "\r",
      " 44%|███████████████████████████████████                                             | 140/320 [07:43<07:44,  2.58s/it]"
     ]
    },
    {
     "name": "stdout",
     "output_type": "stream",
     "text": [
      "Epoch: 5, RMSE Loss: 471.44287109375\n",
      "Finished Training\n",
      "taxi_id: 20000502,index: 140\n",
      "Epoch: 1, RMSE Loss: 1351.9622802734375\n",
      "Epoch: 2, RMSE Loss: 1204.263671875\n",
      "Epoch: 3, RMSE Loss: 1200.4801025390625\n",
      "Epoch: 4, RMSE Loss: 1196.448486328125\n"
     ]
    },
    {
     "name": "stderr",
     "output_type": "stream",
     "text": [
      "\r",
      " 44%|███████████████████████████████████▎                                            | 141/320 [07:46<07:45,  2.60s/it]"
     ]
    },
    {
     "name": "stdout",
     "output_type": "stream",
     "text": [
      "Epoch: 5, RMSE Loss: 1196.31103515625\n",
      "Finished Training\n",
      "taxi_id: 20000144,index: 141\n",
      "Epoch: 1, RMSE Loss: 1084.151123046875\n",
      "Epoch: 2, RMSE Loss: 978.7883911132812\n",
      "Epoch: 3, RMSE Loss: 977.3302001953125\n",
      "Epoch: 4, RMSE Loss: 976.9811401367188\n"
     ]
    },
    {
     "name": "stderr",
     "output_type": "stream",
     "text": [
      "\r",
      " 44%|███████████████████████████████████▌                                            | 142/320 [07:48<07:16,  2.45s/it]"
     ]
    },
    {
     "name": "stdout",
     "output_type": "stream",
     "text": [
      "Epoch: 5, RMSE Loss: 977.0492553710938\n",
      "Finished Training\n",
      "taxi_id: 20000053,index: 142\n",
      "Epoch: 1, RMSE Loss: 914.995849609375\n",
      "Epoch: 2, RMSE Loss: 819.6924438476562\n",
      "Epoch: 3, RMSE Loss: 816.26123046875\n",
      "Epoch: 4, RMSE Loss: 814.457275390625\n"
     ]
    },
    {
     "name": "stderr",
     "output_type": "stream",
     "text": [
      "\r",
      " 45%|███████████████████████████████████▊                                            | 143/320 [07:51<07:20,  2.49s/it]"
     ]
    },
    {
     "name": "stdout",
     "output_type": "stream",
     "text": [
      "Epoch: 5, RMSE Loss: 814.612548828125\n",
      "Finished Training\n",
      "taxi_id: 20000510,index: 143\n",
      "Epoch: 1, RMSE Loss: 3832.390625\n",
      "Epoch: 2, RMSE Loss: 3797.232177734375\n",
      "Epoch: 3, RMSE Loss: 3662.93701171875\n",
      "Epoch: 4, RMSE Loss: 3583.18408203125\n"
     ]
    },
    {
     "name": "stderr",
     "output_type": "stream",
     "text": [
      "\r",
      " 45%|████████████████████████████████████                                            | 144/320 [07:51<05:46,  1.97s/it]"
     ]
    },
    {
     "name": "stdout",
     "output_type": "stream",
     "text": [
      "Epoch: 5, RMSE Loss: 3474.125244140625\n",
      "Finished Training\n",
      "taxi_id: 20000171,index: 144\n",
      "Epoch: 1, RMSE Loss: 597.7747802734375\n",
      "Epoch: 2, RMSE Loss: 534.5925903320312\n",
      "Epoch: 3, RMSE Loss: 533.54931640625\n",
      "Epoch: 4, RMSE Loss: 534.3173217773438\n"
     ]
    },
    {
     "name": "stderr",
     "output_type": "stream",
     "text": [
      "\r",
      " 45%|████████████████████████████████████▎                                           | 145/320 [07:57<08:31,  2.92s/it]"
     ]
    },
    {
     "name": "stdout",
     "output_type": "stream",
     "text": [
      "Epoch: 5, RMSE Loss: 533.5283203125\n",
      "Finished Training\n",
      "taxi_id: 20000207,index: 145\n",
      "Epoch: 1, RMSE Loss: 866.6338500976562\n",
      "Epoch: 2, RMSE Loss: 738.3516845703125\n",
      "Epoch: 3, RMSE Loss: 735.17333984375\n",
      "Epoch: 4, RMSE Loss: 735.9744262695312\n"
     ]
    },
    {
     "name": "stderr",
     "output_type": "stream",
     "text": [
      "\r",
      " 46%|████████████████████████████████████▌                                           | 146/320 [08:00<08:55,  3.08s/it]"
     ]
    },
    {
     "name": "stdout",
     "output_type": "stream",
     "text": [
      "Epoch: 5, RMSE Loss: 738.1153564453125\n",
      "Finished Training\n",
      "taxi_id: 20000099,index: 146\n",
      "Epoch: 1, RMSE Loss: 577.9938354492188\n",
      "Epoch: 2, RMSE Loss: 469.3028869628906\n",
      "Epoch: 3, RMSE Loss: 468.8962707519531\n",
      "Epoch: 4, RMSE Loss: 466.22979736328125\n"
     ]
    },
    {
     "name": "stderr",
     "output_type": "stream",
     "text": [
      "\r",
      " 46%|████████████████████████████████████▊                                           | 147/320 [08:03<08:41,  3.01s/it]"
     ]
    },
    {
     "name": "stdout",
     "output_type": "stream",
     "text": [
      "Epoch: 5, RMSE Loss: 465.48443603515625\n",
      "Finished Training\n",
      "taxi_id: 20000440,index: 147\n",
      "Epoch: 1, RMSE Loss: 665.6907348632812\n",
      "Epoch: 2, RMSE Loss: 547.931396484375\n",
      "Epoch: 3, RMSE Loss: 544.9599609375\n",
      "Epoch: 4, RMSE Loss: 546.7151489257812\n"
     ]
    },
    {
     "name": "stderr",
     "output_type": "stream",
     "text": [
      "\r",
      " 46%|█████████████████████████████████████                                           | 148/320 [08:06<08:47,  3.07s/it]"
     ]
    },
    {
     "name": "stdout",
     "output_type": "stream",
     "text": [
      "Epoch: 5, RMSE Loss: 545.1641845703125\n",
      "Finished Training\n",
      "taxi_id: 20000158,index: 148\n",
      "Epoch: 1, RMSE Loss: 585.5977783203125\n",
      "Epoch: 2, RMSE Loss: 474.4068908691406\n",
      "Epoch: 3, RMSE Loss: 471.7641906738281\n",
      "Epoch: 4, RMSE Loss: 473.677490234375\n"
     ]
    },
    {
     "name": "stderr",
     "output_type": "stream",
     "text": [
      "\r",
      " 47%|█████████████████████████████████████▎                                          | 149/320 [08:09<08:37,  3.02s/it]"
     ]
    },
    {
     "name": "stdout",
     "output_type": "stream",
     "text": [
      "Epoch: 5, RMSE Loss: 473.4197998046875\n",
      "Finished Training\n",
      "taxi_id: 20000543,index: 149\n",
      "Epoch: 1, RMSE Loss: 761.1968994140625\n",
      "Epoch: 2, RMSE Loss: 571.2114868164062\n",
      "Epoch: 3, RMSE Loss: 564.1612548828125\n",
      "Epoch: 4, RMSE Loss: 562.3502807617188\n"
     ]
    },
    {
     "name": "stderr",
     "output_type": "stream",
     "text": [
      "\r",
      " 47%|█████████████████████████████████████▌                                          | 150/320 [08:11<07:38,  2.70s/it]"
     ]
    },
    {
     "name": "stdout",
     "output_type": "stream",
     "text": [
      "Epoch: 5, RMSE Loss: 562.7843017578125\n",
      "Finished Training\n",
      "taxi_id: 20000017,index: 150\n",
      "Epoch: 1, RMSE Loss: 594.6049194335938\n",
      "Epoch: 2, RMSE Loss: 488.2663879394531\n",
      "Epoch: 3, RMSE Loss: 461.5338439941406\n",
      "Epoch: 4, RMSE Loss: 459.1865539550781\n"
     ]
    },
    {
     "name": "stderr",
     "output_type": "stream",
     "text": [
      "\r",
      " 47%|█████████████████████████████████████▊                                          | 151/320 [08:13<07:23,  2.62s/it]"
     ]
    },
    {
     "name": "stdout",
     "output_type": "stream",
     "text": [
      "Epoch: 5, RMSE Loss: 459.79656982421875\n",
      "Finished Training\n",
      "taxi_id: 20000698,index: 151\n",
      "Epoch: 1, RMSE Loss: 700.6993408203125\n",
      "Epoch: 2, RMSE Loss: 529.9971313476562\n",
      "Epoch: 3, RMSE Loss: 526.2142944335938\n",
      "Epoch: 4, RMSE Loss: 524.2653198242188\n"
     ]
    },
    {
     "name": "stderr",
     "output_type": "stream",
     "text": [
      "\r",
      " 48%|██████████████████████████████████████                                          | 152/320 [08:16<07:04,  2.53s/it]"
     ]
    },
    {
     "name": "stdout",
     "output_type": "stream",
     "text": [
      "Epoch: 5, RMSE Loss: 529.5927124023438\n",
      "Finished Training\n",
      "taxi_id: 20000391,index: 152\n",
      "Epoch: 1, RMSE Loss: 683.0940551757812\n",
      "Epoch: 2, RMSE Loss: 593.7439575195312\n",
      "Epoch: 3, RMSE Loss: 596.4777221679688\n",
      "Epoch: 4, RMSE Loss: 594.0579223632812\n"
     ]
    },
    {
     "name": "stderr",
     "output_type": "stream",
     "text": [
      "\r",
      " 48%|██████████████████████████████████████▎                                         | 153/320 [08:19<07:59,  2.87s/it]"
     ]
    },
    {
     "name": "stdout",
     "output_type": "stream",
     "text": [
      "Epoch: 5, RMSE Loss: 594.9406127929688\n",
      "Finished Training\n",
      "taxi_id: 20000657,index: 153\n",
      "Epoch: 1, RMSE Loss: 546.3702392578125\n",
      "Epoch: 2, RMSE Loss: 442.25433349609375\n",
      "Epoch: 3, RMSE Loss: 441.08489990234375\n",
      "Epoch: 4, RMSE Loss: 442.4353332519531\n"
     ]
    },
    {
     "name": "stderr",
     "output_type": "stream",
     "text": [
      "\r",
      " 48%|██████████████████████████████████████▌                                         | 154/320 [08:23<08:44,  3.16s/it]"
     ]
    },
    {
     "name": "stdout",
     "output_type": "stream",
     "text": [
      "Epoch: 5, RMSE Loss: 441.0953369140625\n",
      "Finished Training\n",
      "taxi_id: 20000429,index: 154\n",
      "Epoch: 1, RMSE Loss: 504.7698669433594\n",
      "Epoch: 2, RMSE Loss: 403.8360595703125\n",
      "Epoch: 3, RMSE Loss: 401.896484375\n",
      "Epoch: 4, RMSE Loss: 401.74395751953125\n"
     ]
    },
    {
     "name": "stderr",
     "output_type": "stream",
     "text": [
      "\r",
      " 48%|██████████████████████████████████████▊                                         | 155/320 [08:27<08:51,  3.22s/it]"
     ]
    },
    {
     "name": "stdout",
     "output_type": "stream",
     "text": [
      "Epoch: 5, RMSE Loss: 401.1929626464844\n",
      "Finished Training\n",
      "taxi_id: 20000249,index: 155\n",
      "Epoch: 1, RMSE Loss: 618.3883056640625\n",
      "Epoch: 2, RMSE Loss: 551.1414794921875\n",
      "Epoch: 3, RMSE Loss: 550.9232788085938\n",
      "Epoch: 4, RMSE Loss: 550.7593383789062\n"
     ]
    },
    {
     "name": "stderr",
     "output_type": "stream",
     "text": [
      "\r",
      " 49%|███████████████████████████████████████                                         | 156/320 [08:31<10:00,  3.66s/it]"
     ]
    },
    {
     "name": "stdout",
     "output_type": "stream",
     "text": [
      "Epoch: 5, RMSE Loss: 550.1627197265625\n",
      "Finished Training\n",
      "taxi_id: 20000171,index: 156\n",
      "Epoch: 1, RMSE Loss: 594.865478515625\n",
      "Epoch: 2, RMSE Loss: 535.2863159179688\n",
      "Epoch: 3, RMSE Loss: 534.0018310546875\n",
      "Epoch: 4, RMSE Loss: 533.9481811523438\n"
     ]
    },
    {
     "name": "stderr",
     "output_type": "stream",
     "text": [
      "\r",
      " 49%|███████████████████████████████████████▎                                        | 157/320 [08:36<11:06,  4.09s/it]"
     ]
    },
    {
     "name": "stdout",
     "output_type": "stream",
     "text": [
      "Epoch: 5, RMSE Loss: 533.8699340820312\n",
      "Finished Training\n",
      "taxi_id: 20000410,index: 157\n",
      "Epoch: 1, RMSE Loss: 604.5665893554688\n",
      "Epoch: 2, RMSE Loss: 437.4405822753906\n",
      "Epoch: 3, RMSE Loss: 437.5892028808594\n",
      "Epoch: 4, RMSE Loss: 436.13275146484375\n"
     ]
    },
    {
     "name": "stderr",
     "output_type": "stream",
     "text": [
      "\r",
      " 49%|███████████████████████████████████████▌                                        | 158/320 [08:39<09:36,  3.56s/it]"
     ]
    },
    {
     "name": "stdout",
     "output_type": "stream",
     "text": [
      "Epoch: 5, RMSE Loss: 435.79522705078125\n",
      "Finished Training\n",
      "taxi_id: 20000407,index: 158\n",
      "Epoch: 1, RMSE Loss: 973.309814453125\n",
      "Epoch: 2, RMSE Loss: 797.8568725585938\n",
      "Epoch: 3, RMSE Loss: 790.3300170898438\n",
      "Epoch: 4, RMSE Loss: 788.850830078125\n"
     ]
    },
    {
     "name": "stderr",
     "output_type": "stream",
     "text": [
      "\r",
      " 50%|███████████████████████████████████████▊                                        | 159/320 [08:40<07:44,  2.89s/it]"
     ]
    },
    {
     "name": "stdout",
     "output_type": "stream",
     "text": [
      "Epoch: 5, RMSE Loss: 784.6510620117188\n",
      "Finished Training\n",
      "taxi_id: 20000109,index: 159\n",
      "Epoch: 1, RMSE Loss: 721.0244750976562\n",
      "Epoch: 2, RMSE Loss: 591.7816162109375\n",
      "Epoch: 3, RMSE Loss: 588.6006469726562\n",
      "Epoch: 4, RMSE Loss: 589.0042724609375\n"
     ]
    },
    {
     "name": "stderr",
     "output_type": "stream",
     "text": [
      "\r",
      " 50%|████████████████████████████████████████                                        | 160/320 [08:43<07:24,  2.78s/it]"
     ]
    },
    {
     "name": "stdout",
     "output_type": "stream",
     "text": [
      "Epoch: 5, RMSE Loss: 588.4042358398438\n",
      "Finished Training\n",
      "taxi_id: 20000180,index: 160\n",
      "Epoch: 1, RMSE Loss: 739.0237426757812\n",
      "Epoch: 2, RMSE Loss: 551.3675537109375\n",
      "Epoch: 3, RMSE Loss: 550.3836059570312\n",
      "Epoch: 4, RMSE Loss: 547.7152099609375\n"
     ]
    },
    {
     "name": "stderr",
     "output_type": "stream",
     "text": [
      "\r",
      " 50%|████████████████████████████████████████▎                                       | 161/320 [08:44<06:40,  2.52s/it]"
     ]
    },
    {
     "name": "stdout",
     "output_type": "stream",
     "text": [
      "Epoch: 5, RMSE Loss: 546.8493041992188\n",
      "Finished Training\n",
      "taxi_id: 20000649,index: 161\n",
      "Epoch: 1, RMSE Loss: 485.8125915527344\n",
      "Epoch: 2, RMSE Loss: 410.4939880371094\n",
      "Epoch: 3, RMSE Loss: 410.06060791015625\n",
      "Epoch: 4, RMSE Loss: 408.9041748046875\n"
     ]
    },
    {
     "name": "stderr",
     "output_type": "stream",
     "text": [
      "\r",
      " 51%|████████████████████████████████████████▌                                       | 162/320 [08:49<08:06,  3.08s/it]"
     ]
    },
    {
     "name": "stdout",
     "output_type": "stream",
     "text": [
      "Epoch: 5, RMSE Loss: 409.15460205078125\n",
      "Finished Training\n",
      "taxi_id: 20000128,index: 162\n",
      "Epoch: 1, RMSE Loss: 692.5498657226562\n",
      "Epoch: 2, RMSE Loss: 536.5049438476562\n",
      "Epoch: 3, RMSE Loss: 552.3829956054688\n",
      "Epoch: 4, RMSE Loss: 552.8526611328125\n"
     ]
    },
    {
     "name": "stderr",
     "output_type": "stream",
     "text": [
      "\r",
      " 51%|████████████████████████████████████████▊                                       | 163/320 [08:51<07:25,  2.84s/it]"
     ]
    },
    {
     "name": "stdout",
     "output_type": "stream",
     "text": [
      "Epoch: 5, RMSE Loss: 531.5411376953125\n",
      "Finished Training\n",
      "taxi_id: 20000685,index: 163\n",
      "Epoch: 1, RMSE Loss: 582.4963989257812\n",
      "Epoch: 2, RMSE Loss: 427.8924865722656\n",
      "Epoch: 3, RMSE Loss: 422.8938293457031\n",
      "Epoch: 4, RMSE Loss: 425.96868896484375\n"
     ]
    },
    {
     "name": "stderr",
     "output_type": "stream",
     "text": [
      "\r",
      " 51%|█████████████████████████████████████████                                       | 164/320 [08:53<06:46,  2.60s/it]"
     ]
    },
    {
     "name": "stdout",
     "output_type": "stream",
     "text": [
      "Epoch: 5, RMSE Loss: 423.91571044921875\n",
      "Finished Training\n",
      "taxi_id: 20000054,index: 164\n",
      "Epoch: 1, RMSE Loss: 575.0671997070312\n",
      "Epoch: 2, RMSE Loss: 466.6340026855469\n",
      "Epoch: 3, RMSE Loss: 465.02410888671875\n",
      "Epoch: 4, RMSE Loss: 465.6755065917969\n"
     ]
    },
    {
     "name": "stderr",
     "output_type": "stream",
     "text": [
      "\r",
      " 52%|█████████████████████████████████████████▎                                      | 165/320 [08:57<07:21,  2.85s/it]"
     ]
    },
    {
     "name": "stdout",
     "output_type": "stream",
     "text": [
      "Epoch: 5, RMSE Loss: 465.4794616699219\n",
      "Finished Training\n",
      "taxi_id: 20000118,index: 165\n",
      "Epoch: 1, RMSE Loss: 491.4140319824219\n",
      "Epoch: 2, RMSE Loss: 380.9859619140625\n",
      "Epoch: 3, RMSE Loss: 377.0800476074219\n",
      "Epoch: 4, RMSE Loss: 376.50030517578125\n"
     ]
    },
    {
     "name": "stderr",
     "output_type": "stream",
     "text": [
      "\r",
      " 52%|█████████████████████████████████████████▌                                      | 166/320 [08:59<07:16,  2.84s/it]"
     ]
    },
    {
     "name": "stdout",
     "output_type": "stream",
     "text": [
      "Epoch: 5, RMSE Loss: 377.2904968261719\n",
      "Finished Training\n",
      "taxi_id: 20000624,index: 166\n",
      "Epoch: 1, RMSE Loss: 588.2904663085938\n",
      "Epoch: 2, RMSE Loss: 514.1089477539062\n",
      "Epoch: 3, RMSE Loss: 511.98126220703125\n",
      "Epoch: 4, RMSE Loss: 512.4016723632812\n"
     ]
    },
    {
     "name": "stderr",
     "output_type": "stream",
     "text": [
      "\r",
      " 52%|█████████████████████████████████████████▊                                      | 167/320 [09:04<08:37,  3.38s/it]"
     ]
    },
    {
     "name": "stdout",
     "output_type": "stream",
     "text": [
      "Epoch: 5, RMSE Loss: 512.4703979492188\n",
      "Finished Training\n",
      "taxi_id: 20000453,index: 167\n",
      "Epoch: 1, RMSE Loss: 604.3569946289062\n",
      "Epoch: 2, RMSE Loss: 517.4614868164062\n",
      "Epoch: 3, RMSE Loss: 516.6239013671875\n",
      "Epoch: 4, RMSE Loss: 515.73486328125\n"
     ]
    },
    {
     "name": "stderr",
     "output_type": "stream",
     "text": [
      "\r",
      " 52%|██████████████████████████████████████████                                      | 168/320 [09:07<08:25,  3.33s/it]"
     ]
    },
    {
     "name": "stdout",
     "output_type": "stream",
     "text": [
      "Epoch: 5, RMSE Loss: 515.8012084960938\n",
      "Finished Training\n",
      "taxi_id: 20000488,index: 168\n",
      "Epoch: 1, RMSE Loss: 721.8142700195312\n",
      "Epoch: 2, RMSE Loss: 553.3541259765625\n",
      "Epoch: 3, RMSE Loss: 543.3121948242188\n",
      "Epoch: 4, RMSE Loss: 536.3360595703125\n"
     ]
    },
    {
     "name": "stderr",
     "output_type": "stream",
     "text": [
      "\r",
      " 53%|██████████████████████████████████████████▎                                     | 169/320 [09:11<08:35,  3.42s/it]"
     ]
    },
    {
     "name": "stdout",
     "output_type": "stream",
     "text": [
      "Epoch: 5, RMSE Loss: 532.3958740234375\n",
      "Finished Training\n",
      "taxi_id: 20000163,index: 169\n",
      "Epoch: 1, RMSE Loss: 1625.43798828125\n",
      "Epoch: 2, RMSE Loss: 1428.545654296875\n",
      "Epoch: 3, RMSE Loss: 1424.34130859375\n",
      "Epoch: 4, RMSE Loss: 1422.476806640625\n"
     ]
    },
    {
     "name": "stderr",
     "output_type": "stream",
     "text": [
      "\r",
      " 53%|██████████████████████████████████████████▌                                     | 170/320 [09:14<08:03,  3.22s/it]"
     ]
    },
    {
     "name": "stdout",
     "output_type": "stream",
     "text": [
      "Epoch: 5, RMSE Loss: 1424.6451416015625\n",
      "Finished Training\n",
      "taxi_id: 20000261,index: 170\n",
      "Epoch: 1, RMSE Loss: 753.3030395507812\n",
      "Epoch: 2, RMSE Loss: 629.1857299804688\n",
      "Epoch: 3, RMSE Loss: 625.7593994140625\n",
      "Epoch: 4, RMSE Loss: 624.7136840820312\n"
     ]
    },
    {
     "name": "stderr",
     "output_type": "stream",
     "text": [
      "\r",
      " 53%|██████████████████████████████████████████▊                                     | 171/320 [09:16<07:34,  3.05s/it]"
     ]
    },
    {
     "name": "stdout",
     "output_type": "stream",
     "text": [
      "Epoch: 5, RMSE Loss: 624.6214599609375\n",
      "Finished Training\n",
      "taxi_id: 20000452,index: 171\n",
      "Epoch: 1, RMSE Loss: 759.1299438476562\n",
      "Epoch: 2, RMSE Loss: 614.8402099609375\n",
      "Epoch: 3, RMSE Loss: 613.9891967773438\n",
      "Epoch: 4, RMSE Loss: 611.8837280273438\n"
     ]
    },
    {
     "name": "stderr",
     "output_type": "stream",
     "text": [
      "\r",
      " 54%|███████████████████████████████████████████                                     | 172/320 [09:18<06:53,  2.79s/it]"
     ]
    },
    {
     "name": "stdout",
     "output_type": "stream",
     "text": [
      "Epoch: 5, RMSE Loss: 611.8033447265625\n",
      "Finished Training\n",
      "taxi_id: 20000403,index: 172\n",
      "Epoch: 1, RMSE Loss: 551.337890625\n",
      "Epoch: 2, RMSE Loss: 513.7727661132812\n",
      "Epoch: 3, RMSE Loss: 511.47613525390625\n",
      "Epoch: 4, RMSE Loss: 512.1680908203125\n"
     ]
    },
    {
     "name": "stderr",
     "output_type": "stream",
     "text": [
      "\r",
      " 54%|███████████████████████████████████████████▎                                    | 173/320 [09:26<10:17,  4.20s/it]"
     ]
    },
    {
     "name": "stdout",
     "output_type": "stream",
     "text": [
      "Epoch: 5, RMSE Loss: 509.9482421875\n",
      "Finished Training\n",
      "taxi_id: 20000235,index: 173\n",
      "Epoch: 1, RMSE Loss: 560.0816040039062\n",
      "Epoch: 2, RMSE Loss: 484.1391296386719\n",
      "Epoch: 3, RMSE Loss: 483.00482177734375\n",
      "Epoch: 4, RMSE Loss: 485.2521667480469\n"
     ]
    },
    {
     "name": "stderr",
     "output_type": "stream",
     "text": [
      "\r",
      " 54%|███████████████████████████████████████████▌                                    | 174/320 [09:31<10:52,  4.47s/it]"
     ]
    },
    {
     "name": "stdout",
     "output_type": "stream",
     "text": [
      "Epoch: 5, RMSE Loss: 481.3608703613281\n",
      "Finished Training\n",
      "taxi_id: 20000464,index: 174\n",
      "Epoch: 1, RMSE Loss: 862.103271484375\n",
      "Epoch: 2, RMSE Loss: 664.1995239257812\n",
      "Epoch: 3, RMSE Loss: 658.091796875\n",
      "Epoch: 4, RMSE Loss: 653.2119140625\n"
     ]
    },
    {
     "name": "stderr",
     "output_type": "stream",
     "text": [
      "\r",
      " 55%|███████████████████████████████████████████▊                                    | 175/320 [09:33<08:56,  3.70s/it]"
     ]
    },
    {
     "name": "stdout",
     "output_type": "stream",
     "text": [
      "Epoch: 5, RMSE Loss: 650.8683471679688\n",
      "Finished Training\n",
      "taxi_id: 20000276,index: 175\n",
      "Epoch: 1, RMSE Loss: 1103.5885009765625\n",
      "Epoch: 2, RMSE Loss: 1036.635009765625\n",
      "Epoch: 3, RMSE Loss: 1035.9288330078125\n",
      "Epoch: 4, RMSE Loss: 1036.39697265625\n"
     ]
    },
    {
     "name": "stderr",
     "output_type": "stream",
     "text": [
      "\r",
      " 55%|████████████████████████████████████████████                                    | 176/320 [09:38<09:33,  3.98s/it]"
     ]
    },
    {
     "name": "stdout",
     "output_type": "stream",
     "text": [
      "Epoch: 5, RMSE Loss: 1035.11083984375\n",
      "Finished Training\n",
      "taxi_id: 20000250,index: 176\n",
      "Epoch: 1, RMSE Loss: 1301.4544677734375\n",
      "Epoch: 2, RMSE Loss: 1212.2908935546875\n",
      "Epoch: 3, RMSE Loss: 1209.8935546875\n",
      "Epoch: 4, RMSE Loss: 1208.530517578125\n"
     ]
    },
    {
     "name": "stderr",
     "output_type": "stream",
     "text": [
      "\r",
      " 55%|████████████████████████████████████████████▎                                   | 177/320 [09:40<08:27,  3.55s/it]"
     ]
    },
    {
     "name": "stdout",
     "output_type": "stream",
     "text": [
      "Epoch: 5, RMSE Loss: 1205.7637939453125\n",
      "Finished Training\n",
      "taxi_id: 20000166,index: 177\n",
      "Epoch: 1, RMSE Loss: 705.9345703125\n",
      "Epoch: 2, RMSE Loss: 641.6387329101562\n",
      "Epoch: 3, RMSE Loss: 641.54638671875\n",
      "Epoch: 4, RMSE Loss: 640.4148559570312\n"
     ]
    },
    {
     "name": "stderr",
     "output_type": "stream",
     "text": [
      "\r",
      " 56%|████████████████████████████████████████████▌                                   | 178/320 [09:44<08:34,  3.63s/it]"
     ]
    },
    {
     "name": "stdout",
     "output_type": "stream",
     "text": [
      "Epoch: 5, RMSE Loss: 638.1256103515625\n",
      "Finished Training\n",
      "taxi_id: 20000377,index: 178\n",
      "Epoch: 1, RMSE Loss: 603.91455078125\n",
      "Epoch: 2, RMSE Loss: 389.87005615234375\n",
      "Epoch: 3, RMSE Loss: 386.5828552246094\n",
      "Epoch: 4, RMSE Loss: 387.6773681640625\n"
     ]
    },
    {
     "name": "stderr",
     "output_type": "stream",
     "text": [
      "\r",
      " 56%|████████████████████████████████████████████▊                                   | 179/320 [09:46<07:24,  3.15s/it]"
     ]
    },
    {
     "name": "stdout",
     "output_type": "stream",
     "text": [
      "Epoch: 5, RMSE Loss: 384.3979797363281\n",
      "Finished Training\n",
      "taxi_id: 20000146,index: 179\n",
      "Epoch: 1, RMSE Loss: 505.0362548828125\n",
      "Epoch: 2, RMSE Loss: 377.23443603515625\n",
      "Epoch: 3, RMSE Loss: 375.9471740722656\n",
      "Epoch: 4, RMSE Loss: 377.5276184082031\n"
     ]
    },
    {
     "name": "stderr",
     "output_type": "stream",
     "text": [
      "\r",
      " 56%|█████████████████████████████████████████████                                   | 180/320 [09:49<07:03,  3.03s/it]"
     ]
    },
    {
     "name": "stdout",
     "output_type": "stream",
     "text": [
      "Epoch: 5, RMSE Loss: 377.1632995605469\n",
      "Finished Training\n",
      "taxi_id: 20000436,index: 180\n",
      "Epoch: 1, RMSE Loss: 1198.4739990234375\n",
      "Epoch: 2, RMSE Loss: 1111.451171875\n",
      "Epoch: 3, RMSE Loss: 1104.397216796875\n",
      "Epoch: 4, RMSE Loss: 1103.309814453125\n"
     ]
    },
    {
     "name": "stderr",
     "output_type": "stream",
     "text": [
      "\r",
      " 57%|█████████████████████████████████████████████▎                                  | 181/320 [09:53<07:58,  3.44s/it]"
     ]
    },
    {
     "name": "stdout",
     "output_type": "stream",
     "text": [
      "Epoch: 5, RMSE Loss: 1101.3634033203125\n",
      "Finished Training\n",
      "taxi_id: 20000483,index: 181\n",
      "Epoch: 1, RMSE Loss: 486.71533203125\n",
      "Epoch: 2, RMSE Loss: 429.7129821777344\n",
      "Epoch: 3, RMSE Loss: 428.575439453125\n",
      "Epoch: 4, RMSE Loss: 428.8530578613281\n"
     ]
    },
    {
     "name": "stderr",
     "output_type": "stream",
     "text": [
      "\r",
      " 57%|█████████████████████████████████████████████▌                                  | 182/320 [09:59<09:44,  4.23s/it]"
     ]
    },
    {
     "name": "stdout",
     "output_type": "stream",
     "text": [
      "Epoch: 5, RMSE Loss: 427.8668518066406\n",
      "Finished Training\n",
      "taxi_id: 20000653,index: 182\n",
      "Epoch: 1, RMSE Loss: 505.6464538574219\n",
      "Epoch: 2, RMSE Loss: 426.8949279785156\n",
      "Epoch: 3, RMSE Loss: 425.8876037597656\n",
      "Epoch: 4, RMSE Loss: 426.011474609375\n"
     ]
    },
    {
     "name": "stderr",
     "output_type": "stream",
     "text": [
      "\r",
      " 57%|█████████████████████████████████████████████▊                                  | 183/320 [10:04<10:03,  4.40s/it]"
     ]
    },
    {
     "name": "stdout",
     "output_type": "stream",
     "text": [
      "Epoch: 5, RMSE Loss: 425.7720947265625\n",
      "Finished Training\n",
      "taxi_id: 20000352,index: 183\n",
      "Epoch: 1, RMSE Loss: 679.1902465820312\n",
      "Epoch: 2, RMSE Loss: 533.2866821289062\n",
      "Epoch: 3, RMSE Loss: 531.3890380859375\n",
      "Epoch: 4, RMSE Loss: 532.1139526367188\n"
     ]
    },
    {
     "name": "stderr",
     "output_type": "stream",
     "text": [
      "\r",
      " 57%|██████████████████████████████████████████████                                  | 184/320 [10:06<08:34,  3.78s/it]"
     ]
    },
    {
     "name": "stdout",
     "output_type": "stream",
     "text": [
      "Epoch: 5, RMSE Loss: 528.9422607421875\n",
      "Finished Training\n",
      "taxi_id: 20000295,index: 184\n",
      "Epoch: 1, RMSE Loss: 603.5838623046875\n",
      "Epoch: 2, RMSE Loss: 507.13665771484375\n",
      "Epoch: 3, RMSE Loss: 502.5075988769531\n",
      "Epoch: 4, RMSE Loss: 502.21307373046875\n"
     ]
    },
    {
     "name": "stderr",
     "output_type": "stream",
     "text": [
      "\r",
      " 58%|██████████████████████████████████████████████▎                                 | 185/320 [10:09<07:37,  3.39s/it]"
     ]
    },
    {
     "name": "stdout",
     "output_type": "stream",
     "text": [
      "Epoch: 5, RMSE Loss: 502.39410400390625\n",
      "Finished Training\n",
      "taxi_id: 20000121,index: 185\n",
      "Epoch: 1, RMSE Loss: 1339.144775390625\n",
      "Epoch: 2, RMSE Loss: 979.7008666992188\n",
      "Epoch: 3, RMSE Loss: 962.0330200195312\n",
      "Epoch: 4, RMSE Loss: 950.250244140625\n"
     ]
    },
    {
     "name": "stderr",
     "output_type": "stream",
     "text": [
      "\r",
      " 58%|██████████████████████████████████████████████▌                                 | 186/320 [10:10<06:08,  2.75s/it]"
     ]
    },
    {
     "name": "stdout",
     "output_type": "stream",
     "text": [
      "Epoch: 5, RMSE Loss: 943.2179565429688\n",
      "Finished Training\n",
      "taxi_id: 20000349,index: 186\n",
      "Epoch: 1, RMSE Loss: 826.4397583007812\n",
      "Epoch: 2, RMSE Loss: 713.9989624023438\n",
      "Epoch: 3, RMSE Loss: 713.8611450195312\n",
      "Epoch: 4, RMSE Loss: 712.3214721679688\n"
     ]
    },
    {
     "name": "stderr",
     "output_type": "stream",
     "text": [
      "\r",
      " 58%|██████████████████████████████████████████████▊                                 | 187/320 [10:13<06:09,  2.78s/it]"
     ]
    },
    {
     "name": "stdout",
     "output_type": "stream",
     "text": [
      "Epoch: 5, RMSE Loss: 710.15576171875\n",
      "Finished Training\n",
      "taxi_id: 20000340,index: 187\n",
      "Epoch: 1, RMSE Loss: 663.3568725585938\n",
      "Epoch: 2, RMSE Loss: 431.8741455078125\n",
      "Epoch: 3, RMSE Loss: 427.20953369140625\n",
      "Epoch: 4, RMSE Loss: 427.64044189453125\n"
     ]
    },
    {
     "name": "stderr",
     "output_type": "stream",
     "text": [
      "\r",
      " 59%|███████████████████████████████████████████████                                 | 188/320 [10:15<05:22,  2.45s/it]"
     ]
    },
    {
     "name": "stdout",
     "output_type": "stream",
     "text": [
      "Epoch: 5, RMSE Loss: 424.2043762207031\n",
      "Finished Training\n",
      "taxi_id: 20000129,index: 188\n",
      "Epoch: 1, RMSE Loss: 626.7894897460938\n",
      "Epoch: 2, RMSE Loss: 560.567626953125\n",
      "Epoch: 3, RMSE Loss: 559.37255859375\n",
      "Epoch: 4, RMSE Loss: 559.703125\n"
     ]
    },
    {
     "name": "stderr",
     "output_type": "stream",
     "text": [
      "\r",
      " 59%|███████████████████████████████████████████████▎                                | 189/320 [10:21<07:44,  3.55s/it]"
     ]
    },
    {
     "name": "stdout",
     "output_type": "stream",
     "text": [
      "Epoch: 5, RMSE Loss: 560.6698608398438\n",
      "Finished Training\n",
      "taxi_id: 20000206,index: 189\n",
      "Epoch: 1, RMSE Loss: 1488.9171142578125\n",
      "Epoch: 2, RMSE Loss: 1278.458984375\n",
      "Epoch: 3, RMSE Loss: 1266.5733642578125\n",
      "Epoch: 4, RMSE Loss: 1258.661376953125\n"
     ]
    },
    {
     "name": "stderr",
     "output_type": "stream",
     "text": [
      "\r",
      " 59%|███████████████████████████████████████████████▌                                | 190/320 [10:23<06:59,  3.22s/it]"
     ]
    },
    {
     "name": "stdout",
     "output_type": "stream",
     "text": [
      "Epoch: 5, RMSE Loss: 1268.9976806640625\n",
      "Finished Training\n",
      "taxi_id: 20000347,index: 190\n",
      "Epoch: 1, RMSE Loss: 606.8123168945312\n",
      "Epoch: 2, RMSE Loss: 405.49835205078125\n",
      "Epoch: 3, RMSE Loss: 402.2660217285156\n",
      "Epoch: 4, RMSE Loss: 401.71282958984375\n"
     ]
    },
    {
     "name": "stderr",
     "output_type": "stream",
     "text": [
      "\r",
      " 60%|███████████████████████████████████████████████▊                                | 191/320 [10:26<06:24,  2.98s/it]"
     ]
    },
    {
     "name": "stdout",
     "output_type": "stream",
     "text": [
      "Epoch: 5, RMSE Loss: 403.1128234863281\n",
      "Finished Training\n",
      "taxi_id: 20000057,index: 191\n",
      "Epoch: 1, RMSE Loss: 508.47607421875\n",
      "Epoch: 2, RMSE Loss: 429.4747619628906\n",
      "Epoch: 3, RMSE Loss: 429.6156921386719\n",
      "Epoch: 4, RMSE Loss: 428.7430419921875\n"
     ]
    },
    {
     "name": "stderr",
     "output_type": "stream",
     "text": [
      "\r",
      " 60%|████████████████████████████████████████████████                                | 192/320 [10:30<07:19,  3.43s/it]"
     ]
    },
    {
     "name": "stdout",
     "output_type": "stream",
     "text": [
      "Epoch: 5, RMSE Loss: 430.7701110839844\n",
      "Finished Training\n",
      "taxi_id: 20000502,index: 192\n",
      "Epoch: 1, RMSE Loss: 1340.6470947265625\n",
      "Epoch: 2, RMSE Loss: 1203.8885498046875\n",
      "Epoch: 3, RMSE Loss: 1201.2593994140625\n",
      "Epoch: 4, RMSE Loss: 1198.4415283203125\n"
     ]
    },
    {
     "name": "stderr",
     "output_type": "stream",
     "text": [
      "\r",
      " 60%|████████████████████████████████████████████████▎                               | 193/320 [10:33<06:52,  3.25s/it]"
     ]
    },
    {
     "name": "stdout",
     "output_type": "stream",
     "text": [
      "Epoch: 5, RMSE Loss: 1200.0347900390625\n",
      "Finished Training\n",
      "taxi_id: 20000596,index: 193\n",
      "Epoch: 1, RMSE Loss: 629.002685546875\n",
      "Epoch: 2, RMSE Loss: 506.75286865234375\n",
      "Epoch: 3, RMSE Loss: 505.166259765625\n",
      "Epoch: 4, RMSE Loss: 511.9579162597656\n"
     ]
    },
    {
     "name": "stderr",
     "output_type": "stream",
     "text": [
      "\r",
      " 61%|████████████████████████████████████████████████▌                               | 194/320 [10:36<06:39,  3.17s/it]"
     ]
    },
    {
     "name": "stdout",
     "output_type": "stream",
     "text": [
      "Epoch: 5, RMSE Loss: 501.7601623535156\n",
      "Finished Training\n",
      "taxi_id: 20000574,index: 194\n",
      "Epoch: 1, RMSE Loss: 934.4146728515625\n",
      "Epoch: 2, RMSE Loss: 870.7113647460938\n",
      "Epoch: 3, RMSE Loss: 866.5865478515625\n",
      "Epoch: 4, RMSE Loss: 864.4566650390625\n"
     ]
    },
    {
     "name": "stderr",
     "output_type": "stream",
     "text": [
      "\r",
      " 61%|████████████████████████████████████████████████▊                               | 195/320 [10:41<07:33,  3.63s/it]"
     ]
    },
    {
     "name": "stdout",
     "output_type": "stream",
     "text": [
      "Epoch: 5, RMSE Loss: 866.9971923828125\n",
      "Finished Training\n",
      "taxi_id: 20000222,index: 195\n",
      "Epoch: 1, RMSE Loss: 753.7767944335938\n",
      "Epoch: 2, RMSE Loss: 620.8990478515625\n",
      "Epoch: 3, RMSE Loss: 618.4166870117188\n",
      "Epoch: 4, RMSE Loss: 620.276123046875\n"
     ]
    },
    {
     "name": "stderr",
     "output_type": "stream",
     "text": [
      "\r",
      " 61%|█████████████████████████████████████████████████                               | 196/320 [10:43<06:33,  3.17s/it]"
     ]
    },
    {
     "name": "stdout",
     "output_type": "stream",
     "text": [
      "Epoch: 5, RMSE Loss: 617.3678588867188\n",
      "Finished Training\n",
      "taxi_id: 20000338,index: 196\n",
      "Epoch: 1, RMSE Loss: 872.8594970703125\n",
      "Epoch: 2, RMSE Loss: 779.2174072265625\n",
      "Epoch: 3, RMSE Loss: 776.3715209960938\n",
      "Epoch: 4, RMSE Loss: 776.0615844726562\n"
     ]
    },
    {
     "name": "stderr",
     "output_type": "stream",
     "text": [
      "\r",
      " 62%|█████████████████████████████████████████████████▎                              | 197/320 [10:47<06:54,  3.37s/it]"
     ]
    },
    {
     "name": "stdout",
     "output_type": "stream",
     "text": [
      "Epoch: 5, RMSE Loss: 774.9673461914062\n",
      "Finished Training\n",
      "taxi_id: 20000381,index: 197\n",
      "Epoch: 1, RMSE Loss: 622.647705078125\n",
      "Epoch: 2, RMSE Loss: 523.147705078125\n",
      "Epoch: 3, RMSE Loss: 524.0470581054688\n",
      "Epoch: 4, RMSE Loss: 519.6435546875\n"
     ]
    },
    {
     "name": "stderr",
     "output_type": "stream",
     "text": [
      "\r",
      " 62%|█████████████████████████████████████████████████▌                              | 198/320 [10:50<06:47,  3.34s/it]"
     ]
    },
    {
     "name": "stdout",
     "output_type": "stream",
     "text": [
      "Epoch: 5, RMSE Loss: 518.0455322265625\n",
      "Finished Training\n",
      "taxi_id: 20000213,index: 198\n",
      "Epoch: 1, RMSE Loss: 1094.6424560546875\n",
      "Epoch: 2, RMSE Loss: 945.57421875\n",
      "Epoch: 3, RMSE Loss: 932.2405395507812\n",
      "Epoch: 4, RMSE Loss: 920.0411376953125\n"
     ]
    },
    {
     "name": "stderr",
     "output_type": "stream",
     "text": [
      "\r",
      " 62%|█████████████████████████████████████████████████▊                              | 199/320 [10:52<05:55,  2.94s/it]"
     ]
    },
    {
     "name": "stdout",
     "output_type": "stream",
     "text": [
      "Epoch: 5, RMSE Loss: 912.1266479492188\n",
      "Finished Training\n",
      "taxi_id: 20000687,index: 199\n",
      "Epoch: 1, RMSE Loss: 622.7763061523438\n",
      "Epoch: 2, RMSE Loss: 509.8652648925781\n",
      "Epoch: 3, RMSE Loss: 507.9576721191406\n",
      "Epoch: 4, RMSE Loss: 509.4969787597656\n"
     ]
    },
    {
     "name": "stderr",
     "output_type": "stream",
     "text": [
      "\r",
      " 62%|██████████████████████████████████████████████████                              | 200/320 [10:55<06:04,  3.04s/it]"
     ]
    },
    {
     "name": "stdout",
     "output_type": "stream",
     "text": [
      "Epoch: 5, RMSE Loss: 508.75347900390625\n",
      "Finished Training\n",
      "taxi_id: 20000356,index: 200\n",
      "Epoch: 1, RMSE Loss: 654.5742797851562\n",
      "Epoch: 2, RMSE Loss: 568.9505004882812\n",
      "Epoch: 3, RMSE Loss: 568.2266845703125\n",
      "Epoch: 4, RMSE Loss: 568.6403198242188\n"
     ]
    },
    {
     "name": "stderr",
     "output_type": "stream",
     "text": [
      "\r",
      " 63%|██████████████████████████████████████████████████▎                             | 201/320 [10:59<06:24,  3.23s/it]"
     ]
    },
    {
     "name": "stdout",
     "output_type": "stream",
     "text": [
      "Epoch: 5, RMSE Loss: 567.600830078125\n",
      "Finished Training\n",
      "taxi_id: 20000312,index: 201\n",
      "Epoch: 1, RMSE Loss: 1837.653564453125\n",
      "Epoch: 2, RMSE Loss: 1763.07958984375\n",
      "Epoch: 3, RMSE Loss: 1460.4228515625\n"
     ]
    },
    {
     "name": "stderr",
     "output_type": "stream",
     "text": [
      "\r",
      " 63%|██████████████████████████████████████████████████▌                             | 202/320 [10:59<04:50,  2.46s/it]"
     ]
    },
    {
     "name": "stdout",
     "output_type": "stream",
     "text": [
      "Epoch: 4, RMSE Loss: 1249.0469970703125\n",
      "Epoch: 5, RMSE Loss: 1231.8775634765625\n",
      "Finished Training\n",
      "taxi_id: 20000591,index: 202\n",
      "Epoch: 1, RMSE Loss: 621.1912231445312\n",
      "Epoch: 2, RMSE Loss: 544.2599487304688\n",
      "Epoch: 3, RMSE Loss: 542.783447265625\n",
      "Epoch: 4, RMSE Loss: 543.0907592773438\n"
     ]
    },
    {
     "name": "stderr",
     "output_type": "stream",
     "text": [
      "\r",
      " 63%|██████████████████████████████████████████████████▊                             | 203/320 [11:03<05:40,  2.91s/it]"
     ]
    },
    {
     "name": "stdout",
     "output_type": "stream",
     "text": [
      "Epoch: 5, RMSE Loss: 542.7092895507812\n",
      "Finished Training\n",
      "taxi_id: 20000361,index: 203\n",
      "Epoch: 1, RMSE Loss: 810.3382568359375\n",
      "Epoch: 2, RMSE Loss: 720.0678100585938\n",
      "Epoch: 3, RMSE Loss: 716.155029296875\n",
      "Epoch: 4, RMSE Loss: 713.5209350585938\n"
     ]
    },
    {
     "name": "stderr",
     "output_type": "stream",
     "text": [
      "\r",
      " 64%|███████████████████████████████████████████████████                             | 204/320 [11:07<06:07,  3.17s/it]"
     ]
    },
    {
     "name": "stdout",
     "output_type": "stream",
     "text": [
      "Epoch: 5, RMSE Loss: 711.44970703125\n",
      "Finished Training\n",
      "taxi_id: 20000446,index: 204\n",
      "Epoch: 1, RMSE Loss: 1005.2958374023438\n",
      "Epoch: 2, RMSE Loss: 922.007568359375\n",
      "Epoch: 3, RMSE Loss: 904.7691040039062\n",
      "Epoch: 4, RMSE Loss: 892.5087280273438\n"
     ]
    },
    {
     "name": "stderr",
     "output_type": "stream",
     "text": [
      "\r",
      " 64%|███████████████████████████████████████████████████▎                            | 205/320 [11:11<06:40,  3.48s/it]"
     ]
    },
    {
     "name": "stdout",
     "output_type": "stream",
     "text": [
      "Epoch: 5, RMSE Loss: 874.7240600585938\n",
      "Finished Training\n",
      "taxi_id: 20000243,index: 205\n",
      "Epoch: 1, RMSE Loss: 871.725830078125\n",
      "Epoch: 2, RMSE Loss: 790.1759033203125\n",
      "Epoch: 3, RMSE Loss: 785.0831909179688\n",
      "Epoch: 4, RMSE Loss: 786.2499389648438\n"
     ]
    },
    {
     "name": "stderr",
     "output_type": "stream",
     "text": [
      "\r",
      " 64%|███████████████████████████████████████████████████▌                            | 206/320 [11:14<06:16,  3.30s/it]"
     ]
    },
    {
     "name": "stdout",
     "output_type": "stream",
     "text": [
      "Epoch: 5, RMSE Loss: 785.2437744140625\n",
      "Finished Training\n",
      "taxi_id: 20000456,index: 206\n",
      "Epoch: 1, RMSE Loss: 706.7793579101562\n",
      "Epoch: 2, RMSE Loss: 509.3774108886719\n",
      "Epoch: 3, RMSE Loss: 501.82916259765625\n",
      "Epoch: 4, RMSE Loss: 500.1131286621094\n"
     ]
    },
    {
     "name": "stderr",
     "output_type": "stream",
     "text": [
      "\r",
      " 65%|███████████████████████████████████████████████████▊                            | 207/320 [11:16<05:23,  2.86s/it]"
     ]
    },
    {
     "name": "stdout",
     "output_type": "stream",
     "text": [
      "Epoch: 5, RMSE Loss: 499.7942199707031\n",
      "Finished Training\n",
      "taxi_id: 20000450,index: 207\n",
      "Epoch: 1, RMSE Loss: 468.3161926269531\n",
      "Epoch: 2, RMSE Loss: 390.7338562011719\n",
      "Epoch: 3, RMSE Loss: 389.35986328125\n",
      "Epoch: 4, RMSE Loss: 390.1907043457031\n"
     ]
    },
    {
     "name": "stderr",
     "output_type": "stream",
     "text": [
      "\r",
      " 65%|████████████████████████████████████████████████████                            | 208/320 [11:21<06:35,  3.53s/it]"
     ]
    },
    {
     "name": "stdout",
     "output_type": "stream",
     "text": [
      "Epoch: 5, RMSE Loss: 390.9037170410156\n",
      "Finished Training\n",
      "taxi_id: 20000632,index: 208\n",
      "Epoch: 1, RMSE Loss: 552.6148071289062\n",
      "Epoch: 2, RMSE Loss: 480.8663635253906\n",
      "Epoch: 3, RMSE Loss: 482.26556396484375\n",
      "Epoch: 4, RMSE Loss: 481.21868896484375\n"
     ]
    },
    {
     "name": "stderr",
     "output_type": "stream",
     "text": [
      "\r",
      " 65%|████████████████████████████████████████████████████▎                           | 209/320 [11:26<07:07,  3.85s/it]"
     ]
    },
    {
     "name": "stdout",
     "output_type": "stream",
     "text": [
      "Epoch: 5, RMSE Loss: 479.82293701171875\n",
      "Finished Training\n",
      "taxi_id: 20000387,index: 209\n",
      "Epoch: 1, RMSE Loss: 615.0724487304688\n",
      "Epoch: 2, RMSE Loss: 485.0130310058594\n",
      "Epoch: 3, RMSE Loss: 484.8328552246094\n",
      "Epoch: 4, RMSE Loss: 480.590087890625\n"
     ]
    },
    {
     "name": "stderr",
     "output_type": "stream",
     "text": [
      "\r",
      " 66%|████████████████████████████████████████████████████▌                           | 210/320 [11:29<06:41,  3.65s/it]"
     ]
    },
    {
     "name": "stdout",
     "output_type": "stream",
     "text": [
      "Epoch: 5, RMSE Loss: 480.0868225097656\n",
      "Finished Training\n",
      "taxi_id: 20000421,index: 210\n",
      "Epoch: 1, RMSE Loss: 541.0343627929688\n",
      "Epoch: 2, RMSE Loss: 399.3584899902344\n",
      "Epoch: 3, RMSE Loss: 398.9399108886719\n",
      "Epoch: 4, RMSE Loss: 398.8397521972656\n"
     ]
    },
    {
     "name": "stderr",
     "output_type": "stream",
     "text": [
      "\r",
      " 66%|████████████████████████████████████████████████████▊                           | 211/320 [11:32<06:17,  3.46s/it]"
     ]
    },
    {
     "name": "stdout",
     "output_type": "stream",
     "text": [
      "Epoch: 5, RMSE Loss: 398.6489562988281\n",
      "Finished Training\n",
      "taxi_id: 20000562,index: 211\n",
      "Epoch: 1, RMSE Loss: 1748.01953125\n",
      "Epoch: 2, RMSE Loss: 1663.2989501953125\n",
      "Epoch: 3, RMSE Loss: 1660.1683349609375\n",
      "Epoch: 4, RMSE Loss: 1666.4432373046875\n"
     ]
    },
    {
     "name": "stderr",
     "output_type": "stream",
     "text": [
      "\r",
      " 66%|█████████████████████████████████████████████████████                           | 212/320 [11:35<05:45,  3.20s/it]"
     ]
    },
    {
     "name": "stdout",
     "output_type": "stream",
     "text": [
      "Epoch: 5, RMSE Loss: 1659.05517578125\n",
      "Finished Training\n",
      "taxi_id: 20000455,index: 212\n",
      "Epoch: 1, RMSE Loss: 1395.47802734375\n",
      "Epoch: 2, RMSE Loss: 1277.8365478515625\n",
      "Epoch: 3, RMSE Loss: 1266.865966796875\n",
      "Epoch: 4, RMSE Loss: 1255.1123046875\n"
     ]
    },
    {
     "name": "stderr",
     "output_type": "stream",
     "text": [
      "\r",
      " 67%|█████████████████████████████████████████████████████▎                          | 213/320 [11:38<06:04,  3.40s/it]"
     ]
    },
    {
     "name": "stdout",
     "output_type": "stream",
     "text": [
      "Epoch: 5, RMSE Loss: 1244.322998046875\n",
      "Finished Training\n",
      "taxi_id: 20000362,index: 213\n",
      "Epoch: 1, RMSE Loss: 519.1571655273438\n",
      "Epoch: 2, RMSE Loss: 390.4493713378906\n",
      "Epoch: 3, RMSE Loss: 386.9504089355469\n",
      "Epoch: 4, RMSE Loss: 387.618896484375\n"
     ]
    },
    {
     "name": "stderr",
     "output_type": "stream",
     "text": [
      "\r",
      " 67%|█████████████████████████████████████████████████████▌                          | 214/320 [11:41<05:29,  3.11s/it]"
     ]
    },
    {
     "name": "stdout",
     "output_type": "stream",
     "text": [
      "Epoch: 5, RMSE Loss: 386.430419921875\n",
      "Finished Training\n",
      "taxi_id: 20000311,index: 214\n",
      "Epoch: 1, RMSE Loss: 691.5110473632812\n",
      "Epoch: 2, RMSE Loss: 547.20263671875\n",
      "Epoch: 3, RMSE Loss: 542.7645263671875\n",
      "Epoch: 4, RMSE Loss: 540.553955078125\n"
     ]
    },
    {
     "name": "stderr",
     "output_type": "stream",
     "text": [
      "\r",
      " 67%|█████████████████████████████████████████████████████▊                          | 215/320 [11:45<05:44,  3.28s/it]"
     ]
    },
    {
     "name": "stdout",
     "output_type": "stream",
     "text": [
      "Epoch: 5, RMSE Loss: 538.6464233398438\n",
      "Finished Training\n",
      "taxi_id: 20000067,index: 215\n",
      "Epoch: 1, RMSE Loss: 549.2577514648438\n",
      "Epoch: 2, RMSE Loss: 455.28973388671875\n",
      "Epoch: 3, RMSE Loss: 452.6967468261719\n",
      "Epoch: 4, RMSE Loss: 455.2686462402344\n"
     ]
    },
    {
     "name": "stderr",
     "output_type": "stream",
     "text": [
      "\r",
      " 68%|██████████████████████████████████████████████████████                          | 216/320 [11:49<06:07,  3.53s/it]"
     ]
    },
    {
     "name": "stdout",
     "output_type": "stream",
     "text": [
      "Epoch: 5, RMSE Loss: 453.0440979003906\n",
      "Finished Training\n",
      "taxi_id: 20000363,index: 216\n",
      "Epoch: 1, RMSE Loss: 954.6179809570312\n",
      "Epoch: 2, RMSE Loss: 794.2916870117188\n",
      "Epoch: 3, RMSE Loss: 787.817138671875\n",
      "Epoch: 4, RMSE Loss: 782.9505615234375\n"
     ]
    },
    {
     "name": "stderr",
     "output_type": "stream",
     "text": [
      "\r",
      " 68%|██████████████████████████████████████████████████████▎                         | 217/320 [11:52<05:54,  3.44s/it]"
     ]
    },
    {
     "name": "stdout",
     "output_type": "stream",
     "text": [
      "Epoch: 5, RMSE Loss: 787.5798950195312\n",
      "Finished Training\n",
      "taxi_id: 20000612,index: 217\n",
      "Epoch: 1, RMSE Loss: 517.3209228515625\n",
      "Epoch: 2, RMSE Loss: 434.43255615234375\n",
      "Epoch: 3, RMSE Loss: 435.8382873535156\n",
      "Epoch: 4, RMSE Loss: 434.3101501464844\n"
     ]
    },
    {
     "name": "stderr",
     "output_type": "stream",
     "text": [
      "\r",
      " 68%|██████████████████████████████████████████████████████▌                         | 218/320 [11:56<06:08,  3.61s/it]"
     ]
    },
    {
     "name": "stdout",
     "output_type": "stream",
     "text": [
      "Epoch: 5, RMSE Loss: 433.99871826171875\n",
      "Finished Training\n",
      "taxi_id: 20000154,index: 218\n",
      "Epoch: 1, RMSE Loss: 488.22900390625\n",
      "Epoch: 2, RMSE Loss: 406.79791259765625\n",
      "Epoch: 3, RMSE Loss: 407.0281066894531\n",
      "Epoch: 4, RMSE Loss: 404.56988525390625\n"
     ]
    },
    {
     "name": "stderr",
     "output_type": "stream",
     "text": [
      "\r",
      " 68%|██████████████████████████████████████████████████████▊                         | 219/320 [12:00<06:34,  3.91s/it]"
     ]
    },
    {
     "name": "stdout",
     "output_type": "stream",
     "text": [
      "Epoch: 5, RMSE Loss: 404.45111083984375\n",
      "Finished Training\n",
      "taxi_id: 20000334,index: 219\n",
      "Epoch: 1, RMSE Loss: 861.7431640625\n",
      "Epoch: 2, RMSE Loss: 762.1051025390625\n",
      "Epoch: 3, RMSE Loss: 759.676025390625\n",
      "Epoch: 4, RMSE Loss: 758.6607666015625\n"
     ]
    },
    {
     "name": "stderr",
     "output_type": "stream",
     "text": [
      "\r",
      " 69%|███████████████████████████████████████████████████████                         | 220/320 [12:03<05:59,  3.59s/it]"
     ]
    },
    {
     "name": "stdout",
     "output_type": "stream",
     "text": [
      "Epoch: 5, RMSE Loss: 756.28125\n",
      "Finished Training\n",
      "taxi_id: 20000540,index: 220\n",
      "Epoch: 1, RMSE Loss: 987.4295043945312\n",
      "Epoch: 2, RMSE Loss: 911.4224853515625\n",
      "Epoch: 3, RMSE Loss: 910.011962890625\n",
      "Epoch: 4, RMSE Loss: 911.7626953125\n"
     ]
    },
    {
     "name": "stderr",
     "output_type": "stream",
     "text": [
      "\r",
      " 69%|███████████████████████████████████████████████████████▎                        | 221/320 [12:08<06:18,  3.83s/it]"
     ]
    },
    {
     "name": "stdout",
     "output_type": "stream",
     "text": [
      "Epoch: 5, RMSE Loss: 909.8488159179688\n",
      "Finished Training\n",
      "taxi_id: 20000539,index: 221\n",
      "Epoch: 1, RMSE Loss: 1498.80908203125\n",
      "Epoch: 2, RMSE Loss: 1308.1612548828125\n",
      "Epoch: 3, RMSE Loss: 1305.8408203125\n",
      "Epoch: 4, RMSE Loss: 1295.976318359375\n"
     ]
    },
    {
     "name": "stderr",
     "output_type": "stream",
     "text": [
      "\r",
      " 69%|███████████████████████████████████████████████████████▌                        | 222/320 [12:10<05:16,  3.23s/it]"
     ]
    },
    {
     "name": "stdout",
     "output_type": "stream",
     "text": [
      "Epoch: 5, RMSE Loss: 1290.5528564453125\n",
      "Finished Training\n",
      "taxi_id: 20000434,index: 222\n",
      "Epoch: 1, RMSE Loss: 775.2156982421875\n",
      "Epoch: 2, RMSE Loss: 671.5531616210938\n",
      "Epoch: 3, RMSE Loss: 670.8458251953125\n",
      "Epoch: 4, RMSE Loss: 673.9209594726562\n"
     ]
    },
    {
     "name": "stderr",
     "output_type": "stream",
     "text": [
      "\r",
      " 70%|███████████████████████████████████████████████████████▊                        | 223/320 [12:13<05:20,  3.31s/it]"
     ]
    },
    {
     "name": "stdout",
     "output_type": "stream",
     "text": [
      "Epoch: 5, RMSE Loss: 670.6048583984375\n",
      "Finished Training\n",
      "taxi_id: 20000144,index: 223\n",
      "Epoch: 1, RMSE Loss: 1087.9970703125\n",
      "Epoch: 2, RMSE Loss: 977.3871459960938\n",
      "Epoch: 3, RMSE Loss: 978.4940185546875\n",
      "Epoch: 4, RMSE Loss: 1038.478271484375\n"
     ]
    },
    {
     "name": "stderr",
     "output_type": "stream",
     "text": [
      "\r",
      " 70%|████████████████████████████████████████████████████████                        | 224/320 [12:15<04:41,  2.93s/it]"
     ]
    },
    {
     "name": "stdout",
     "output_type": "stream",
     "text": [
      "Epoch: 5, RMSE Loss: 975.884765625\n",
      "Finished Training\n",
      "taxi_id: 20000900,index: 224\n",
      "Epoch: 1, RMSE Loss: 549.2178344726562\n",
      "Epoch: 2, RMSE Loss: 441.7106628417969\n",
      "Epoch: 3, RMSE Loss: 440.2737121582031\n",
      "Epoch: 4, RMSE Loss: 440.489501953125\n"
     ]
    },
    {
     "name": "stderr",
     "output_type": "stream",
     "text": [
      "\r",
      " 70%|████████████████████████████████████████████████████████▎                       | 225/320 [12:18<04:34,  2.89s/it]"
     ]
    },
    {
     "name": "stdout",
     "output_type": "stream",
     "text": [
      "Epoch: 5, RMSE Loss: 438.1683349609375\n",
      "Finished Training\n",
      "taxi_id: 20000167,index: 225\n",
      "Epoch: 1, RMSE Loss: 407.0375061035156\n",
      "Epoch: 2, RMSE Loss: 330.96990966796875\n",
      "Epoch: 3, RMSE Loss: 329.33148193359375\n",
      "Epoch: 4, RMSE Loss: 329.3443603515625\n"
     ]
    },
    {
     "name": "stderr",
     "output_type": "stream",
     "text": [
      "\r",
      " 71%|████████████████████████████████████████████████████████▌                       | 226/320 [12:22<05:18,  3.39s/it]"
     ]
    },
    {
     "name": "stdout",
     "output_type": "stream",
     "text": [
      "Epoch: 5, RMSE Loss: 327.4276123046875\n",
      "Finished Training\n",
      "taxi_id: 20000668,index: 226\n",
      "Epoch: 1, RMSE Loss: 1299.929443359375\n",
      "Epoch: 2, RMSE Loss: 1147.4317626953125\n",
      "Epoch: 3, RMSE Loss: 1140.6259765625\n",
      "Epoch: 4, RMSE Loss: 1147.0313720703125\n"
     ]
    },
    {
     "name": "stderr",
     "output_type": "stream",
     "text": [
      "\r",
      " 71%|████████████████████████████████████████████████████████▊                       | 227/320 [12:25<04:56,  3.18s/it]"
     ]
    },
    {
     "name": "stdout",
     "output_type": "stream",
     "text": [
      "Epoch: 5, RMSE Loss: 1139.8856201171875\n",
      "Finished Training\n",
      "taxi_id: 20000454,index: 227\n",
      "Epoch: 1, RMSE Loss: 526.0696411132812\n",
      "Epoch: 2, RMSE Loss: 440.5814208984375\n",
      "Epoch: 3, RMSE Loss: 446.36517333984375\n",
      "Epoch: 4, RMSE Loss: 438.2763977050781\n"
     ]
    },
    {
     "name": "stderr",
     "output_type": "stream",
     "text": [
      "\r",
      " 71%|█████████████████████████████████████████████████████████                       | 228/320 [12:29<05:10,  3.37s/it]"
     ]
    },
    {
     "name": "stdout",
     "output_type": "stream",
     "text": [
      "Epoch: 5, RMSE Loss: 442.5445861816406\n",
      "Finished Training\n",
      "taxi_id: 20000252,index: 228\n",
      "Epoch: 1, RMSE Loss: 565.4713745117188\n",
      "Epoch: 2, RMSE Loss: 478.8653869628906\n",
      "Epoch: 3, RMSE Loss: 478.7848205566406\n",
      "Epoch: 4, RMSE Loss: 478.4661560058594\n"
     ]
    },
    {
     "name": "stderr",
     "output_type": "stream",
     "text": [
      "\r",
      " 72%|█████████████████████████████████████████████████████████▎                      | 229/320 [12:33<05:20,  3.52s/it]"
     ]
    },
    {
     "name": "stdout",
     "output_type": "stream",
     "text": [
      "Epoch: 5, RMSE Loss: 479.0514831542969\n",
      "Finished Training\n",
      "taxi_id: 20000304,index: 229\n",
      "Epoch: 1, RMSE Loss: 517.2338256835938\n",
      "Epoch: 2, RMSE Loss: 443.43792724609375\n",
      "Epoch: 3, RMSE Loss: 442.0792236328125\n",
      "Epoch: 4, RMSE Loss: 442.3115539550781\n"
     ]
    },
    {
     "name": "stderr",
     "output_type": "stream",
     "text": [
      "\r",
      " 72%|█████████████████████████████████████████████████████████▌                      | 230/320 [12:38<06:00,  4.00s/it]"
     ]
    },
    {
     "name": "stdout",
     "output_type": "stream",
     "text": [
      "Epoch: 5, RMSE Loss: 441.6414489746094\n",
      "Finished Training\n",
      "taxi_id: 20000554,index: 230\n",
      "Epoch: 1, RMSE Loss: 722.260009765625\n",
      "Epoch: 2, RMSE Loss: 639.8010864257812\n",
      "Epoch: 3, RMSE Loss: 639.1163940429688\n",
      "Epoch: 4, RMSE Loss: 638.264892578125\n"
     ]
    },
    {
     "name": "stderr",
     "output_type": "stream",
     "text": [
      "\r",
      " 72%|█████████████████████████████████████████████████████████▊                      | 231/320 [12:41<05:33,  3.75s/it]"
     ]
    },
    {
     "name": "stdout",
     "output_type": "stream",
     "text": [
      "Epoch: 5, RMSE Loss: 637.6856079101562\n",
      "Finished Training\n",
      "taxi_id: 20000112,index: 231\n",
      "Epoch: 1, RMSE Loss: 549.0910034179688\n",
      "Epoch: 2, RMSE Loss: 434.9279479980469\n",
      "Epoch: 3, RMSE Loss: 428.6369323730469\n",
      "Epoch: 4, RMSE Loss: 430.65167236328125\n"
     ]
    },
    {
     "name": "stderr",
     "output_type": "stream",
     "text": [
      "\r",
      " 72%|██████████████████████████████████████████████████████████                      | 232/320 [12:44<05:17,  3.61s/it]"
     ]
    },
    {
     "name": "stdout",
     "output_type": "stream",
     "text": [
      "Epoch: 5, RMSE Loss: 508.2605285644531\n",
      "Finished Training\n",
      "taxi_id: 20000185,index: 232\n",
      "Epoch: 1, RMSE Loss: 831.1788940429688\n",
      "Epoch: 2, RMSE Loss: 589.5848388671875\n",
      "Epoch: 3, RMSE Loss: 468.0375671386719\n",
      "Epoch: 4, RMSE Loss: 436.69195556640625\n",
      "Epoch: 5, RMSE Loss: 435.57086181640625\n",
      "Finished Training\n"
     ]
    },
    {
     "name": "stderr",
     "output_type": "stream",
     "text": [
      "\r",
      " 73%|██████████████████████████████████████████████████████████▎                     | 233/320 [12:45<03:59,  2.75s/it]"
     ]
    },
    {
     "name": "stdout",
     "output_type": "stream",
     "text": [
      "taxi_id: 20000303,index: 233\n",
      "Epoch: 1, RMSE Loss: 517.5750732421875\n",
      "Epoch: 2, RMSE Loss: 418.5549621582031\n",
      "Epoch: 3, RMSE Loss: 418.1044006347656\n",
      "Epoch: 4, RMSE Loss: 417.9573974609375\n"
     ]
    },
    {
     "name": "stderr",
     "output_type": "stream",
     "text": [
      "\r",
      " 73%|██████████████████████████████████████████████████████████▌                     | 234/320 [12:49<04:18,  3.01s/it]"
     ]
    },
    {
     "name": "stdout",
     "output_type": "stream",
     "text": [
      "Epoch: 5, RMSE Loss: 417.03338623046875\n",
      "Finished Training\n",
      "taxi_id: 20000081,index: 234\n",
      "Epoch: 1, RMSE Loss: 885.1527099609375\n",
      "Epoch: 2, RMSE Loss: 807.78076171875\n",
      "Epoch: 3, RMSE Loss: 807.100341796875\n",
      "Epoch: 4, RMSE Loss: 806.88720703125\n"
     ]
    },
    {
     "name": "stderr",
     "output_type": "stream",
     "text": [
      "\r",
      " 73%|██████████████████████████████████████████████████████████▊                     | 235/320 [12:53<04:40,  3.29s/it]"
     ]
    },
    {
     "name": "stdout",
     "output_type": "stream",
     "text": [
      "Epoch: 5, RMSE Loss: 806.1065063476562\n",
      "Finished Training\n",
      "taxi_id: 20000424,index: 235\n",
      "Epoch: 1, RMSE Loss: 445.78826904296875\n",
      "Epoch: 2, RMSE Loss: 395.9514465332031\n",
      "Epoch: 3, RMSE Loss: 395.2171936035156\n",
      "Epoch: 4, RMSE Loss: 395.2229919433594\n"
     ]
    },
    {
     "name": "stderr",
     "output_type": "stream",
     "text": [
      "\r",
      " 74%|███████████████████████████████████████████████████████████                     | 236/320 [12:58<05:32,  3.96s/it]"
     ]
    },
    {
     "name": "stdout",
     "output_type": "stream",
     "text": [
      "Epoch: 5, RMSE Loss: 395.62139892578125\n",
      "Finished Training\n",
      "taxi_id: 20000665,index: 236\n",
      "Epoch: 1, RMSE Loss: 913.246337890625\n",
      "Epoch: 2, RMSE Loss: 842.601318359375\n",
      "Epoch: 3, RMSE Loss: 840.6328125\n",
      "Epoch: 4, RMSE Loss: 838.6719970703125\n"
     ]
    },
    {
     "name": "stderr",
     "output_type": "stream",
     "text": [
      "\r",
      " 74%|███████████████████████████████████████████████████████████▎                    | 237/320 [13:02<05:32,  4.01s/it]"
     ]
    },
    {
     "name": "stdout",
     "output_type": "stream",
     "text": [
      "Epoch: 5, RMSE Loss: 837.4571533203125\n",
      "Finished Training\n",
      "taxi_id: 20000026,index: 237\n",
      "Epoch: 1, RMSE Loss: 669.2840576171875\n",
      "Epoch: 2, RMSE Loss: 535.941162109375\n",
      "Epoch: 3, RMSE Loss: 530.6517333984375\n",
      "Epoch: 4, RMSE Loss: 527.3838500976562\n"
     ]
    },
    {
     "name": "stderr",
     "output_type": "stream",
     "text": [
      "\r",
      " 74%|███████████████████████████████████████████████████████████▌                    | 238/320 [13:04<04:42,  3.45s/it]"
     ]
    },
    {
     "name": "stdout",
     "output_type": "stream",
     "text": [
      "Epoch: 5, RMSE Loss: 527.4286499023438\n",
      "Finished Training\n",
      "taxi_id: 20000012,index: 238\n",
      "Epoch: 1, RMSE Loss: 682.3699340820312\n",
      "Epoch: 2, RMSE Loss: 613.0523071289062\n",
      "Epoch: 3, RMSE Loss: 612.3606567382812\n",
      "Epoch: 4, RMSE Loss: 612.9183959960938\n"
     ]
    },
    {
     "name": "stderr",
     "output_type": "stream",
     "text": [
      "\r",
      " 75%|███████████████████████████████████████████████████████████▊                    | 239/320 [13:09<05:01,  3.73s/it]"
     ]
    },
    {
     "name": "stdout",
     "output_type": "stream",
     "text": [
      "Epoch: 5, RMSE Loss: 611.78662109375\n",
      "Finished Training\n",
      "taxi_id: 20000603,index: 239\n",
      "Epoch: 1, RMSE Loss: 629.2434692382812\n",
      "Epoch: 2, RMSE Loss: 475.7989196777344\n",
      "Epoch: 3, RMSE Loss: 471.5159606933594\n",
      "Epoch: 4, RMSE Loss: 470.8244323730469\n"
     ]
    },
    {
     "name": "stderr",
     "output_type": "stream",
     "text": [
      "\r",
      " 75%|████████████████████████████████████████████████████████████                    | 240/320 [13:11<04:20,  3.25s/it]"
     ]
    },
    {
     "name": "stdout",
     "output_type": "stream",
     "text": [
      "Epoch: 5, RMSE Loss: 468.5181579589844\n",
      "Finished Training\n",
      "taxi_id: 20000525,index: 240\n",
      "Epoch: 1, RMSE Loss: 498.710693359375\n",
      "Epoch: 2, RMSE Loss: 409.8923034667969\n",
      "Epoch: 3, RMSE Loss: 409.9446105957031\n",
      "Epoch: 4, RMSE Loss: 409.6734313964844\n"
     ]
    },
    {
     "name": "stderr",
     "output_type": "stream",
     "text": [
      "\r",
      " 75%|████████████████████████████████████████████████████████████▎                   | 241/320 [13:15<04:34,  3.47s/it]"
     ]
    },
    {
     "name": "stdout",
     "output_type": "stream",
     "text": [
      "Epoch: 5, RMSE Loss: 408.8953552246094\n",
      "Finished Training\n",
      "taxi_id: 20000108,index: 241\n",
      "Epoch: 1, RMSE Loss: 603.5317993164062\n",
      "Epoch: 2, RMSE Loss: 536.0765380859375\n",
      "Epoch: 3, RMSE Loss: 532.8704223632812\n",
      "Epoch: 4, RMSE Loss: 533.049560546875\n"
     ]
    },
    {
     "name": "stderr",
     "output_type": "stream",
     "text": [
      "\r",
      " 76%|████████████████████████████████████████████████████████████▌                   | 242/320 [13:19<04:51,  3.74s/it]"
     ]
    },
    {
     "name": "stdout",
     "output_type": "stream",
     "text": [
      "Epoch: 5, RMSE Loss: 532.4159545898438\n",
      "Finished Training\n",
      "taxi_id: 20000492,index: 242\n",
      "Epoch: 1, RMSE Loss: 505.280029296875\n",
      "Epoch: 2, RMSE Loss: 449.8095703125\n",
      "Epoch: 3, RMSE Loss: 448.9951171875\n",
      "Epoch: 4, RMSE Loss: 449.5586853027344\n"
     ]
    },
    {
     "name": "stderr",
     "output_type": "stream",
     "text": [
      "\r",
      " 76%|████████████████████████████████████████████████████████████▊                   | 243/320 [13:25<05:35,  4.35s/it]"
     ]
    },
    {
     "name": "stdout",
     "output_type": "stream",
     "text": [
      "Epoch: 5, RMSE Loss: 449.6632995605469\n",
      "Finished Training\n",
      "taxi_id: 20000664,index: 243\n",
      "Epoch: 1, RMSE Loss: 703.8311157226562\n",
      "Epoch: 2, RMSE Loss: 609.4972534179688\n",
      "Epoch: 3, RMSE Loss: 600.3482055664062\n",
      "Epoch: 4, RMSE Loss: 597.1602172851562\n"
     ]
    },
    {
     "name": "stderr",
     "output_type": "stream",
     "text": [
      "\r",
      " 76%|█████████████████████████████████████████████████████████████                   | 244/320 [13:29<05:14,  4.14s/it]"
     ]
    },
    {
     "name": "stdout",
     "output_type": "stream",
     "text": [
      "Epoch: 5, RMSE Loss: 596.8013305664062\n",
      "Finished Training\n",
      "taxi_id: 20000503,index: 244\n",
      "Epoch: 1, RMSE Loss: 479.2688293457031\n",
      "Epoch: 2, RMSE Loss: 423.767822265625\n",
      "Epoch: 3, RMSE Loss: 422.2320861816406\n",
      "Epoch: 4, RMSE Loss: 422.7877197265625\n"
     ]
    },
    {
     "name": "stderr",
     "output_type": "stream",
     "text": [
      "\r",
      " 77%|█████████████████████████████████████████████████████████████▎                  | 245/320 [13:33<05:06,  4.08s/it]"
     ]
    },
    {
     "name": "stdout",
     "output_type": "stream",
     "text": [
      "Epoch: 5, RMSE Loss: 422.10931396484375\n",
      "Finished Training\n",
      "taxi_id: 20000256,index: 245\n",
      "Epoch: 1, RMSE Loss: 964.0361938476562\n",
      "Epoch: 2, RMSE Loss: 867.0877685546875\n",
      "Epoch: 3, RMSE Loss: 862.6487426757812\n",
      "Epoch: 4, RMSE Loss: 858.91259765625\n"
     ]
    },
    {
     "name": "stderr",
     "output_type": "stream",
     "text": [
      "\r",
      " 77%|█████████████████████████████████████████████████████████████▌                  | 246/320 [13:37<04:57,  4.02s/it]"
     ]
    },
    {
     "name": "stdout",
     "output_type": "stream",
     "text": [
      "Epoch: 5, RMSE Loss: 855.63232421875\n",
      "Finished Training\n",
      "taxi_id: 20000285,index: 246\n",
      "Epoch: 1, RMSE Loss: 593.3197631835938\n",
      "Epoch: 2, RMSE Loss: 516.9883422851562\n",
      "Epoch: 3, RMSE Loss: 506.9251708984375\n",
      "Epoch: 4, RMSE Loss: 505.8959045410156\n"
     ]
    },
    {
     "name": "stderr",
     "output_type": "stream",
     "text": [
      "\r",
      " 77%|█████████████████████████████████████████████████████████████▊                  | 247/320 [13:41<04:57,  4.08s/it]"
     ]
    },
    {
     "name": "stdout",
     "output_type": "stream",
     "text": [
      "Epoch: 5, RMSE Loss: 506.0482482910156\n",
      "Finished Training\n",
      "taxi_id: 20000245,index: 247\n",
      "Epoch: 1, RMSE Loss: 544.8894653320312\n",
      "Epoch: 2, RMSE Loss: 459.85247802734375\n",
      "Epoch: 3, RMSE Loss: 457.4908752441406\n",
      "Epoch: 4, RMSE Loss: 458.1444091796875\n"
     ]
    },
    {
     "name": "stderr",
     "output_type": "stream",
     "text": [
      "\r",
      " 78%|██████████████████████████████████████████████████████████████                  | 248/320 [13:45<04:50,  4.03s/it]"
     ]
    },
    {
     "name": "stdout",
     "output_type": "stream",
     "text": [
      "Epoch: 5, RMSE Loss: 457.5721435546875\n",
      "Finished Training\n",
      "taxi_id: 20000434,index: 248\n",
      "Epoch: 1, RMSE Loss: 779.6051635742188\n",
      "Epoch: 2, RMSE Loss: 672.2083129882812\n",
      "Epoch: 3, RMSE Loss: 670.2772216796875\n",
      "Epoch: 4, RMSE Loss: 668.8704833984375\n"
     ]
    },
    {
     "name": "stderr",
     "output_type": "stream",
     "text": [
      "\r",
      " 78%|██████████████████████████████████████████████████████████████▎                 | 249/320 [13:48<04:36,  3.89s/it]"
     ]
    },
    {
     "name": "stdout",
     "output_type": "stream",
     "text": [
      "Epoch: 5, RMSE Loss: 669.1031494140625\n",
      "Finished Training\n",
      "taxi_id: 20000406,index: 249\n",
      "Epoch: 1, RMSE Loss: 560.7993774414062\n",
      "Epoch: 2, RMSE Loss: 482.9759826660156\n",
      "Epoch: 3, RMSE Loss: 483.5992126464844\n",
      "Epoch: 4, RMSE Loss: 481.8912658691406\n"
     ]
    },
    {
     "name": "stderr",
     "output_type": "stream",
     "text": [
      "\r",
      " 78%|██████████████████████████████████████████████████████████████▌                 | 250/320 [13:53<04:44,  4.07s/it]"
     ]
    },
    {
     "name": "stdout",
     "output_type": "stream",
     "text": [
      "Epoch: 5, RMSE Loss: 481.9493713378906\n",
      "Finished Training\n",
      "taxi_id: 20000239,index: 250\n",
      "Epoch: 1, RMSE Loss: 585.69189453125\n",
      "Epoch: 2, RMSE Loss: 507.7909851074219\n",
      "Epoch: 3, RMSE Loss: 506.8701477050781\n",
      "Epoch: 4, RMSE Loss: 506.06036376953125\n"
     ]
    },
    {
     "name": "stderr",
     "output_type": "stream",
     "text": [
      "\r",
      " 78%|██████████████████████████████████████████████████████████████▊                 | 251/320 [13:58<04:55,  4.28s/it]"
     ]
    },
    {
     "name": "stdout",
     "output_type": "stream",
     "text": [
      "Epoch: 5, RMSE Loss: 505.2409362792969\n",
      "Finished Training\n",
      "taxi_id: 20000426,index: 251\n",
      "Epoch: 1, RMSE Loss: 680.9805297851562\n",
      "Epoch: 2, RMSE Loss: 520.7835693359375\n",
      "Epoch: 3, RMSE Loss: 517.3294067382812\n",
      "Epoch: 4, RMSE Loss: 519.7215576171875\n"
     ]
    },
    {
     "name": "stderr",
     "output_type": "stream",
     "text": [
      "\r",
      " 79%|███████████████████████████████████████████████████████████████                 | 252/320 [14:00<04:13,  3.73s/it]"
     ]
    },
    {
     "name": "stdout",
     "output_type": "stream",
     "text": [
      "Epoch: 5, RMSE Loss: 516.7432250976562\n",
      "Finished Training\n",
      "taxi_id: 20000190,index: 252\n",
      "Epoch: 1, RMSE Loss: 874.300537109375\n",
      "Epoch: 2, RMSE Loss: 722.097900390625\n",
      "Epoch: 3, RMSE Loss: 717.5240478515625\n",
      "Epoch: 4, RMSE Loss: 722.757080078125\n"
     ]
    },
    {
     "name": "stderr",
     "output_type": "stream",
     "text": [
      "\r",
      " 79%|███████████████████████████████████████████████████████████████▎                | 253/320 [14:02<03:35,  3.22s/it]"
     ]
    },
    {
     "name": "stdout",
     "output_type": "stream",
     "text": [
      "Epoch: 5, RMSE Loss: 715.3611450195312\n",
      "Finished Training\n",
      "taxi_id: 20000192,index: 253\n",
      "Epoch: 1, RMSE Loss: 582.5199584960938\n",
      "Epoch: 2, RMSE Loss: 472.7274475097656\n",
      "Epoch: 3, RMSE Loss: 470.8233642578125\n",
      "Epoch: 4, RMSE Loss: 470.6702880859375\n"
     ]
    },
    {
     "name": "stderr",
     "output_type": "stream",
     "text": [
      "\r",
      " 79%|███████████████████████████████████████████████████████████████▌                | 254/320 [14:05<03:29,  3.17s/it]"
     ]
    },
    {
     "name": "stdout",
     "output_type": "stream",
     "text": [
      "Epoch: 5, RMSE Loss: 469.7898864746094\n",
      "Finished Training\n",
      "taxi_id: 20000361,index: 254\n",
      "Epoch: 1, RMSE Loss: 793.7114868164062\n",
      "Epoch: 2, RMSE Loss: 719.7230834960938\n",
      "Epoch: 3, RMSE Loss: 715.176513671875\n",
      "Epoch: 4, RMSE Loss: 713.1046752929688\n"
     ]
    },
    {
     "name": "stderr",
     "output_type": "stream",
     "text": [
      "\r",
      " 80%|███████████████████████████████████████████████████████████████▊                | 255/320 [14:09<03:37,  3.34s/it]"
     ]
    },
    {
     "name": "stdout",
     "output_type": "stream",
     "text": [
      "Epoch: 5, RMSE Loss: 711.5042724609375\n",
      "Finished Training\n",
      "taxi_id: 20000129,index: 255\n",
      "Epoch: 1, RMSE Loss: 630.44775390625\n",
      "Epoch: 2, RMSE Loss: 560.20361328125\n",
      "Epoch: 3, RMSE Loss: 560.620361328125\n",
      "Epoch: 4, RMSE Loss: 559.5568237304688\n"
     ]
    },
    {
     "name": "stderr",
     "output_type": "stream",
     "text": [
      "\r",
      " 80%|████████████████████████████████████████████████████████████████                | 256/320 [14:15<04:27,  4.19s/it]"
     ]
    },
    {
     "name": "stdout",
     "output_type": "stream",
     "text": [
      "Epoch: 5, RMSE Loss: 560.28759765625\n",
      "Finished Training\n",
      "taxi_id: 20000548,index: 256\n",
      "Epoch: 1, RMSE Loss: 620.6470947265625\n",
      "Epoch: 2, RMSE Loss: 516.7794799804688\n",
      "Epoch: 3, RMSE Loss: 527.8134155273438\n",
      "Epoch: 4, RMSE Loss: 509.0368957519531\n"
     ]
    },
    {
     "name": "stderr",
     "output_type": "stream",
     "text": [
      "\r",
      " 80%|████████████████████████████████████████████████████████████████▎               | 257/320 [14:18<04:04,  3.87s/it]"
     ]
    },
    {
     "name": "stdout",
     "output_type": "stream",
     "text": [
      "Epoch: 5, RMSE Loss: 506.852294921875\n",
      "Finished Training\n",
      "taxi_id: 20000263,index: 257\n",
      "Epoch: 1, RMSE Loss: 738.4960327148438\n",
      "Epoch: 2, RMSE Loss: 698.700439453125\n",
      "Epoch: 3, RMSE Loss: 696.8680419921875\n",
      "Epoch: 4, RMSE Loss: 696.6691284179688\n"
     ]
    },
    {
     "name": "stderr",
     "output_type": "stream",
     "text": [
      "\r",
      " 81%|████████████████████████████████████████████████████████████████▌               | 258/320 [14:23<04:11,  4.05s/it]"
     ]
    },
    {
     "name": "stdout",
     "output_type": "stream",
     "text": [
      "Epoch: 5, RMSE Loss: 696.2312622070312\n",
      "Finished Training\n",
      "taxi_id: 20000333,index: 258\n",
      "Epoch: 1, RMSE Loss: 825.8323364257812\n",
      "Epoch: 2, RMSE Loss: 743.0162963867188\n",
      "Epoch: 3, RMSE Loss: 738.9595947265625\n",
      "Epoch: 4, RMSE Loss: 736.6241455078125\n"
     ]
    },
    {
     "name": "stderr",
     "output_type": "stream",
     "text": [
      "\r",
      " 81%|████████████████████████████████████████████████████████████████▊               | 259/320 [14:27<04:06,  4.04s/it]"
     ]
    },
    {
     "name": "stdout",
     "output_type": "stream",
     "text": [
      "Epoch: 5, RMSE Loss: 737.48583984375\n",
      "Finished Training\n",
      "taxi_id: 20000197,index: 259\n",
      "Epoch: 1, RMSE Loss: 742.0050048828125\n",
      "Epoch: 2, RMSE Loss: 649.9744873046875\n",
      "Epoch: 3, RMSE Loss: 648.5680541992188\n",
      "Epoch: 4, RMSE Loss: 647.98974609375\n"
     ]
    },
    {
     "name": "stderr",
     "output_type": "stream",
     "text": [
      "\r",
      " 81%|█████████████████████████████████████████████████████████████████               | 260/320 [14:30<03:53,  3.90s/it]"
     ]
    },
    {
     "name": "stdout",
     "output_type": "stream",
     "text": [
      "Epoch: 5, RMSE Loss: 646.9548950195312\n",
      "Finished Training\n",
      "taxi_id: 20000565,index: 260\n",
      "Epoch: 1, RMSE Loss: 508.9651794433594\n",
      "Epoch: 2, RMSE Loss: 399.6362609863281\n",
      "Epoch: 3, RMSE Loss: 400.0194396972656\n",
      "Epoch: 4, RMSE Loss: 398.4995422363281\n"
     ]
    },
    {
     "name": "stderr",
     "output_type": "stream",
     "text": [
      "\r",
      " 82%|█████████████████████████████████████████████████████████████████▎              | 261/320 [14:33<03:26,  3.49s/it]"
     ]
    },
    {
     "name": "stdout",
     "output_type": "stream",
     "text": [
      "Epoch: 5, RMSE Loss: 398.07000732421875\n",
      "Finished Training\n",
      "taxi_id: 20000307,index: 261\n",
      "Epoch: 1, RMSE Loss: 637.34765625\n",
      "Epoch: 2, RMSE Loss: 575.305419921875\n",
      "Epoch: 3, RMSE Loss: 575.0746459960938\n",
      "Epoch: 4, RMSE Loss: 575.6605834960938\n"
     ]
    },
    {
     "name": "stderr",
     "output_type": "stream",
     "text": [
      "\r",
      " 82%|█████████████████████████████████████████████████████████████████▌              | 262/320 [14:39<04:04,  4.22s/it]"
     ]
    },
    {
     "name": "stdout",
     "output_type": "stream",
     "text": [
      "Epoch: 5, RMSE Loss: 576.8349609375\n",
      "Finished Training\n",
      "taxi_id: 20000678,index: 262\n",
      "Epoch: 1, RMSE Loss: 566.1406860351562\n",
      "Epoch: 2, RMSE Loss: 496.0625915527344\n",
      "Epoch: 3, RMSE Loss: 496.4054870605469\n",
      "Epoch: 4, RMSE Loss: 494.90972900390625\n"
     ]
    },
    {
     "name": "stderr",
     "output_type": "stream",
     "text": [
      "\r",
      " 82%|█████████████████████████████████████████████████████████████████▊              | 263/320 [14:44<04:14,  4.47s/it]"
     ]
    },
    {
     "name": "stdout",
     "output_type": "stream",
     "text": [
      "Epoch: 5, RMSE Loss: 494.5373840332031\n",
      "Finished Training\n",
      "taxi_id: 20000351,index: 263\n",
      "Epoch: 1, RMSE Loss: 774.151123046875\n",
      "Epoch: 2, RMSE Loss: 687.1337280273438\n",
      "Epoch: 3, RMSE Loss: 684.4127197265625\n",
      "Epoch: 4, RMSE Loss: 678.369140625\n"
     ]
    },
    {
     "name": "stderr",
     "output_type": "stream",
     "text": [
      "\r",
      " 82%|██████████████████████████████████████████████████████████████████              | 264/320 [14:48<04:07,  4.43s/it]"
     ]
    },
    {
     "name": "stdout",
     "output_type": "stream",
     "text": [
      "Epoch: 5, RMSE Loss: 677.8358154296875\n",
      "Finished Training\n",
      "taxi_id: 20000560,index: 264\n",
      "Epoch: 1, RMSE Loss: 604.8397216796875\n",
      "Epoch: 2, RMSE Loss: 531.3966064453125\n",
      "Epoch: 3, RMSE Loss: 536.0631103515625\n",
      "Epoch: 4, RMSE Loss: 531.2894287109375\n"
     ]
    },
    {
     "name": "stderr",
     "output_type": "stream",
     "text": [
      "\r",
      " 83%|██████████████████████████████████████████████████████████████████▎             | 265/320 [14:53<04:06,  4.48s/it]"
     ]
    },
    {
     "name": "stdout",
     "output_type": "stream",
     "text": [
      "Epoch: 5, RMSE Loss: 530.6455688476562\n",
      "Finished Training\n",
      "taxi_id: 20000431,index: 265\n",
      "Epoch: 1, RMSE Loss: 484.33038330078125\n",
      "Epoch: 2, RMSE Loss: 377.4473571777344\n",
      "Epoch: 3, RMSE Loss: 377.7248229980469\n",
      "Epoch: 4, RMSE Loss: 377.30084228515625\n"
     ]
    },
    {
     "name": "stderr",
     "output_type": "stream",
     "text": [
      "\r",
      " 83%|██████████████████████████████████████████████████████████████████▌             | 266/320 [14:57<03:52,  4.31s/it]"
     ]
    },
    {
     "name": "stdout",
     "output_type": "stream",
     "text": [
      "Epoch: 5, RMSE Loss: 375.9250793457031\n",
      "Finished Training\n",
      "taxi_id: 20000686,index: 266\n",
      "Epoch: 1, RMSE Loss: 573.3333129882812\n",
      "Epoch: 2, RMSE Loss: 519.8118286132812\n",
      "Epoch: 3, RMSE Loss: 519.9508056640625\n",
      "Epoch: 4, RMSE Loss: 519.9484252929688\n"
     ]
    },
    {
     "name": "stderr",
     "output_type": "stream",
     "text": [
      "\r",
      " 83%|██████████████████████████████████████████████████████████████████▊             | 267/320 [15:01<03:56,  4.47s/it]"
     ]
    },
    {
     "name": "stdout",
     "output_type": "stream",
     "text": [
      "Epoch: 5, RMSE Loss: 519.0506591796875\n",
      "Finished Training\n",
      "taxi_id: 20000079,index: 267\n"
     ]
    },
    {
     "name": "stderr",
     "output_type": "stream",
     "text": [
      "\r",
      " 84%|███████████████████████████████████████████████████████████████████             | 268/320 [15:02<02:46,  3.21s/it]"
     ]
    },
    {
     "name": "stdout",
     "output_type": "stream",
     "text": [
      "Epoch: 1, RMSE Loss: 2127.81640625\n",
      "Epoch: 2, RMSE Loss: 1348.107177734375\n",
      "Epoch: 3, RMSE Loss: 1333.0968017578125\n",
      "Epoch: 4, RMSE Loss: 1377.6610107421875\n",
      "Epoch: 5, RMSE Loss: 1311.442138671875\n",
      "Finished Training\n",
      "taxi_id: 20000005,index: 268\n",
      "Epoch: 1, RMSE Loss: 541.2825927734375\n",
      "Epoch: 2, RMSE Loss: 475.2801513671875\n",
      "Epoch: 3, RMSE Loss: 472.8814697265625\n",
      "Epoch: 4, RMSE Loss: 472.67083740234375\n"
     ]
    },
    {
     "name": "stderr",
     "output_type": "stream",
     "text": [
      "\r",
      " 84%|███████████████████████████████████████████████████████████████████▎            | 269/320 [15:06<03:08,  3.69s/it]"
     ]
    },
    {
     "name": "stdout",
     "output_type": "stream",
     "text": [
      "Epoch: 5, RMSE Loss: 472.9690246582031\n",
      "Finished Training\n",
      "taxi_id: 20000395,index: 269\n",
      "Epoch: 1, RMSE Loss: 775.355224609375\n",
      "Epoch: 2, RMSE Loss: 686.6635131835938\n",
      "Epoch: 3, RMSE Loss: 683.7488403320312\n",
      "Epoch: 4, RMSE Loss: 686.0516967773438\n"
     ]
    },
    {
     "name": "stderr",
     "output_type": "stream",
     "text": [
      "\r",
      " 84%|███████████████████████████████████████████████████████████████████▌            | 270/320 [15:11<03:13,  3.86s/it]"
     ]
    },
    {
     "name": "stdout",
     "output_type": "stream",
     "text": [
      "Epoch: 5, RMSE Loss: 682.7936401367188\n",
      "Finished Training\n",
      "taxi_id: 20000529,index: 270\n",
      "Epoch: 1, RMSE Loss: 696.542236328125\n",
      "Epoch: 2, RMSE Loss: 609.473388671875\n",
      "Epoch: 3, RMSE Loss: 602.5855102539062\n",
      "Epoch: 4, RMSE Loss: 594.5148315429688\n"
     ]
    },
    {
     "name": "stderr",
     "output_type": "stream",
     "text": [
      "\r",
      " 85%|███████████████████████████████████████████████████████████████████▊            | 271/320 [15:16<03:33,  4.35s/it]"
     ]
    },
    {
     "name": "stdout",
     "output_type": "stream",
     "text": [
      "Epoch: 5, RMSE Loss: 590.1256103515625\n",
      "Finished Training\n",
      "taxi_id: 20000015,index: 271\n",
      "Epoch: 1, RMSE Loss: 689.5051879882812\n",
      "Epoch: 2, RMSE Loss: 620.1718139648438\n",
      "Epoch: 3, RMSE Loss: 622.6182250976562\n",
      "Epoch: 4, RMSE Loss: 621.1383666992188\n"
     ]
    },
    {
     "name": "stderr",
     "output_type": "stream",
     "text": [
      "\r",
      " 85%|████████████████████████████████████████████████████████████████████            | 272/320 [15:20<03:23,  4.24s/it]"
     ]
    },
    {
     "name": "stdout",
     "output_type": "stream",
     "text": [
      "Epoch: 5, RMSE Loss: 619.357177734375\n",
      "Finished Training\n",
      "taxi_id: 20000626,index: 272\n",
      "Epoch: 1, RMSE Loss: 488.8963623046875\n",
      "Epoch: 2, RMSE Loss: 404.9433288574219\n",
      "Epoch: 3, RMSE Loss: 402.87322998046875\n",
      "Epoch: 4, RMSE Loss: 402.01275634765625\n"
     ]
    },
    {
     "name": "stderr",
     "output_type": "stream",
     "text": [
      "\r",
      " 85%|████████████████████████████████████████████████████████████████████▎           | 273/320 [15:25<03:26,  4.39s/it]"
     ]
    },
    {
     "name": "stdout",
     "output_type": "stream",
     "text": [
      "Epoch: 5, RMSE Loss: 402.2348937988281\n",
      "Finished Training\n",
      "taxi_id: 20000476,index: 273\n",
      "Epoch: 1, RMSE Loss: 456.1200256347656\n",
      "Epoch: 2, RMSE Loss: 408.03179931640625\n",
      "Epoch: 3, RMSE Loss: 408.7408752441406\n",
      "Epoch: 4, RMSE Loss: 407.98052978515625\n"
     ]
    },
    {
     "name": "stderr",
     "output_type": "stream",
     "text": [
      "\r",
      " 86%|████████████████████████████████████████████████████████████████████▌           | 274/320 [15:30<03:26,  4.49s/it]"
     ]
    },
    {
     "name": "stdout",
     "output_type": "stream",
     "text": [
      "Epoch: 5, RMSE Loss: 406.4780578613281\n",
      "Finished Training\n",
      "taxi_id: 20000136,index: 274\n",
      "Epoch: 1, RMSE Loss: 586.8314208984375\n",
      "Epoch: 2, RMSE Loss: 476.8773193359375\n",
      "Epoch: 3, RMSE Loss: 472.56488037109375\n",
      "Epoch: 4, RMSE Loss: 469.3226623535156\n"
     ]
    },
    {
     "name": "stderr",
     "output_type": "stream",
     "text": [
      "\r",
      " 86%|████████████████████████████████████████████████████████████████████▊           | 275/320 [15:34<03:20,  4.45s/it]"
     ]
    },
    {
     "name": "stdout",
     "output_type": "stream",
     "text": [
      "Epoch: 5, RMSE Loss: 466.8979187011719\n",
      "Finished Training\n",
      "taxi_id: 20000577,index: 275\n",
      "Epoch: 1, RMSE Loss: 526.15185546875\n",
      "Epoch: 2, RMSE Loss: 414.639404296875\n",
      "Epoch: 3, RMSE Loss: 415.05224609375\n",
      "Epoch: 4, RMSE Loss: 412.6379699707031\n"
     ]
    },
    {
     "name": "stderr",
     "output_type": "stream",
     "text": [
      "\r",
      " 86%|█████████████████████████████████████████████████████████████████████           | 276/320 [15:38<03:10,  4.33s/it]"
     ]
    },
    {
     "name": "stdout",
     "output_type": "stream",
     "text": [
      "Epoch: 5, RMSE Loss: 412.5692443847656\n",
      "Finished Training\n",
      "taxi_id: 20000517,index: 276\n",
      "Epoch: 1, RMSE Loss: 468.2150573730469\n",
      "Epoch: 2, RMSE Loss: 389.8597412109375\n",
      "Epoch: 3, RMSE Loss: 388.94281005859375\n",
      "Epoch: 4, RMSE Loss: 388.2947998046875\n"
     ]
    },
    {
     "name": "stderr",
     "output_type": "stream",
     "text": [
      "\r",
      " 87%|█████████████████████████████████████████████████████████████████████▎          | 277/320 [15:42<03:06,  4.33s/it]"
     ]
    },
    {
     "name": "stdout",
     "output_type": "stream",
     "text": [
      "Epoch: 5, RMSE Loss: 389.1979064941406\n",
      "Finished Training\n",
      "taxi_id: 20000009,index: 277\n",
      "Epoch: 1, RMSE Loss: 1139.3087158203125\n",
      "Epoch: 2, RMSE Loss: 1026.1390380859375\n",
      "Epoch: 3, RMSE Loss: 997.6278686523438\n",
      "Epoch: 4, RMSE Loss: 989.8243408203125\n"
     ]
    },
    {
     "name": "stderr",
     "output_type": "stream",
     "text": [
      "\r",
      " 87%|█████████████████████████████████████████████████████████████████████▌          | 278/320 [15:46<02:56,  4.21s/it]"
     ]
    },
    {
     "name": "stdout",
     "output_type": "stream",
     "text": [
      "Epoch: 5, RMSE Loss: 969.9093017578125\n",
      "Finished Training\n",
      "taxi_id: 20000105,index: 278\n",
      "Epoch: 1, RMSE Loss: 512.6729736328125\n",
      "Epoch: 2, RMSE Loss: 429.5543212890625\n",
      "Epoch: 3, RMSE Loss: 430.4819030761719\n",
      "Epoch: 4, RMSE Loss: 428.1988525390625\n"
     ]
    },
    {
     "name": "stderr",
     "output_type": "stream",
     "text": [
      "\r",
      " 87%|█████████████████████████████████████████████████████████████████████▊          | 279/320 [15:50<02:51,  4.19s/it]"
     ]
    },
    {
     "name": "stdout",
     "output_type": "stream",
     "text": [
      "Epoch: 5, RMSE Loss: 428.68096923828125\n",
      "Finished Training\n",
      "taxi_id: 20000499,index: 279\n",
      "Epoch: 1, RMSE Loss: 573.9562377929688\n",
      "Epoch: 2, RMSE Loss: 397.2432556152344\n",
      "Epoch: 3, RMSE Loss: 394.3908386230469\n",
      "Epoch: 4, RMSE Loss: 396.7474365234375\n"
     ]
    },
    {
     "name": "stderr",
     "output_type": "stream",
     "text": [
      "\r",
      " 88%|██████████████████████████████████████████████████████████████████████          | 280/320 [15:53<02:22,  3.56s/it]"
     ]
    },
    {
     "name": "stdout",
     "output_type": "stream",
     "text": [
      "Epoch: 5, RMSE Loss: 393.5631408691406\n",
      "Finished Training\n",
      "taxi_id: 20000334,index: 280\n",
      "Epoch: 1, RMSE Loss: 854.2667236328125\n",
      "Epoch: 2, RMSE Loss: 760.4992065429688\n",
      "Epoch: 3, RMSE Loss: 757.3192138671875\n",
      "Epoch: 4, RMSE Loss: 758.1232299804688\n"
     ]
    },
    {
     "name": "stderr",
     "output_type": "stream",
     "text": [
      "\r",
      " 88%|██████████████████████████████████████████████████████████████████████▎         | 281/320 [15:55<02:10,  3.35s/it]"
     ]
    },
    {
     "name": "stdout",
     "output_type": "stream",
     "text": [
      "Epoch: 5, RMSE Loss: 760.275146484375\n",
      "Finished Training\n",
      "taxi_id: 20000463,index: 281\n",
      "Epoch: 1, RMSE Loss: 470.74346923828125\n",
      "Epoch: 2, RMSE Loss: 414.83837890625\n",
      "Epoch: 3, RMSE Loss: 414.0091247558594\n",
      "Epoch: 4, RMSE Loss: 413.27734375\n"
     ]
    },
    {
     "name": "stderr",
     "output_type": "stream",
     "text": [
      "\r",
      " 88%|██████████████████████████████████████████████████████████████████████▌         | 282/320 [15:59<02:15,  3.56s/it]"
     ]
    },
    {
     "name": "stdout",
     "output_type": "stream",
     "text": [
      "Epoch: 5, RMSE Loss: 412.53875732421875\n",
      "Finished Training\n",
      "taxi_id: 20000118,index: 282\n",
      "Epoch: 1, RMSE Loss: 493.9847412109375\n",
      "Epoch: 2, RMSE Loss: 379.1951904296875\n",
      "Epoch: 3, RMSE Loss: 377.3833312988281\n",
      "Epoch: 4, RMSE Loss: 377.02178955078125\n"
     ]
    },
    {
     "name": "stderr",
     "output_type": "stream",
     "text": [
      "\r",
      " 88%|██████████████████████████████████████████████████████████████████████▊         | 283/320 [16:02<02:03,  3.32s/it]"
     ]
    },
    {
     "name": "stdout",
     "output_type": "stream",
     "text": [
      "Epoch: 5, RMSE Loss: 376.430908203125\n",
      "Finished Training\n",
      "taxi_id: 20000513,index: 283\n",
      "Epoch: 1, RMSE Loss: 522.1443481445312\n",
      "Epoch: 2, RMSE Loss: 411.8125915527344\n",
      "Epoch: 3, RMSE Loss: 411.5220642089844\n",
      "Epoch: 4, RMSE Loss: 408.55364990234375\n"
     ]
    },
    {
     "name": "stderr",
     "output_type": "stream",
     "text": [
      "\r",
      " 89%|███████████████████████████████████████████████████████████████████████         | 284/320 [16:05<01:58,  3.29s/it]"
     ]
    },
    {
     "name": "stdout",
     "output_type": "stream",
     "text": [
      "Epoch: 5, RMSE Loss: 408.6764831542969\n",
      "Finished Training\n",
      "taxi_id: 20000460,index: 284\n",
      "Epoch: 1, RMSE Loss: 530.8594970703125\n",
      "Epoch: 2, RMSE Loss: 356.1153869628906\n",
      "Epoch: 3, RMSE Loss: 353.74945068359375\n",
      "Epoch: 4, RMSE Loss: 354.4491882324219\n"
     ]
    },
    {
     "name": "stderr",
     "output_type": "stream",
     "text": [
      "\r",
      " 89%|███████████████████████████████████████████████████████████████████████▎        | 285/320 [16:08<01:47,  3.07s/it]"
     ]
    },
    {
     "name": "stdout",
     "output_type": "stream",
     "text": [
      "Epoch: 5, RMSE Loss: 353.9598693847656\n",
      "Finished Training\n",
      "taxi_id: 20000342,index: 285\n",
      "Epoch: 1, RMSE Loss: 677.9482421875\n",
      "Epoch: 2, RMSE Loss: 558.7715454101562\n",
      "Epoch: 3, RMSE Loss: 557.6414794921875\n",
      "Epoch: 4, RMSE Loss: 557.437255859375\n"
     ]
    },
    {
     "name": "stderr",
     "output_type": "stream",
     "text": [
      "\r",
      " 89%|███████████████████████████████████████████████████████████████████████▌        | 286/320 [16:10<01:36,  2.85s/it]"
     ]
    },
    {
     "name": "stdout",
     "output_type": "stream",
     "text": [
      "Epoch: 5, RMSE Loss: 556.651123046875\n",
      "Finished Training\n",
      "taxi_id: 20000494,index: 286\n",
      "Epoch: 1, RMSE Loss: 748.449462890625\n",
      "Epoch: 2, RMSE Loss: 659.1646728515625\n",
      "Epoch: 3, RMSE Loss: 654.5730590820312\n",
      "Epoch: 4, RMSE Loss: 656.328369140625\n"
     ]
    },
    {
     "name": "stderr",
     "output_type": "stream",
     "text": [
      "\r",
      " 90%|███████████████████████████████████████████████████████████████████████▊        | 287/320 [16:13<01:30,  2.74s/it]"
     ]
    },
    {
     "name": "stdout",
     "output_type": "stream",
     "text": [
      "Epoch: 5, RMSE Loss: 653.4774169921875\n",
      "Finished Training\n",
      "taxi_id: 20000250,index: 287\n",
      "Epoch: 1, RMSE Loss: 1309.9503173828125\n",
      "Epoch: 2, RMSE Loss: 1212.966552734375\n",
      "Epoch: 3, RMSE Loss: 1209.56201171875\n",
      "Epoch: 4, RMSE Loss: 1207.8555908203125\n"
     ]
    },
    {
     "name": "stderr",
     "output_type": "stream",
     "text": [
      "\r",
      " 90%|████████████████████████████████████████████████████████████████████████        | 288/320 [16:15<01:25,  2.68s/it]"
     ]
    },
    {
     "name": "stdout",
     "output_type": "stream",
     "text": [
      "Epoch: 5, RMSE Loss: 1209.33447265625\n",
      "Finished Training\n",
      "taxi_id: 20000021,index: 288\n",
      "Epoch: 1, RMSE Loss: 558.7117919921875\n",
      "Epoch: 2, RMSE Loss: 402.44482421875\n",
      "Epoch: 3, RMSE Loss: 402.1357116699219\n",
      "Epoch: 4, RMSE Loss: 402.405029296875\n"
     ]
    },
    {
     "name": "stderr",
     "output_type": "stream",
     "text": [
      "\r",
      " 90%|████████████████████████████████████████████████████████████████████████▎       | 289/320 [16:18<01:23,  2.70s/it]"
     ]
    },
    {
     "name": "stdout",
     "output_type": "stream",
     "text": [
      "Epoch: 5, RMSE Loss: 400.6154479980469\n",
      "Finished Training\n",
      "taxi_id: 20000148,index: 289\n",
      "Epoch: 1, RMSE Loss: 510.4798278808594\n",
      "Epoch: 2, RMSE Loss: 400.32257080078125\n",
      "Epoch: 3, RMSE Loss: 398.69964599609375\n",
      "Epoch: 4, RMSE Loss: 398.5057678222656\n"
     ]
    },
    {
     "name": "stderr",
     "output_type": "stream",
     "text": [
      "\r",
      " 91%|████████████████████████████████████████████████████████████████████████▌       | 290/320 [16:21<01:20,  2.68s/it]"
     ]
    },
    {
     "name": "stdout",
     "output_type": "stream",
     "text": [
      "Epoch: 5, RMSE Loss: 396.5878601074219\n",
      "Finished Training\n",
      "taxi_id: 20000158,index: 290\n",
      "Epoch: 1, RMSE Loss: 583.68359375\n",
      "Epoch: 2, RMSE Loss: 473.5723876953125\n",
      "Epoch: 3, RMSE Loss: 472.9453430175781\n",
      "Epoch: 4, RMSE Loss: 472.26922607421875\n"
     ]
    },
    {
     "name": "stderr",
     "output_type": "stream",
     "text": [
      "\r",
      " 91%|████████████████████████████████████████████████████████████████████████▊       | 291/320 [16:23<01:18,  2.70s/it]"
     ]
    },
    {
     "name": "stdout",
     "output_type": "stream",
     "text": [
      "Epoch: 5, RMSE Loss: 472.52105712890625\n",
      "Finished Training\n",
      "taxi_id: 20000693,index: 291\n",
      "Epoch: 1, RMSE Loss: 1477.423095703125\n",
      "Epoch: 2, RMSE Loss: 1261.505615234375\n",
      "Epoch: 3, RMSE Loss: 1248.5457763671875\n",
      "Epoch: 4, RMSE Loss: 1250.0460205078125\n"
     ]
    },
    {
     "name": "stderr",
     "output_type": "stream",
     "text": [
      "\r",
      " 91%|█████████████████████████████████████████████████████████████████████████       | 292/320 [16:25<01:05,  2.35s/it]"
     ]
    },
    {
     "name": "stdout",
     "output_type": "stream",
     "text": [
      "Epoch: 5, RMSE Loss: 1322.32373046875\n",
      "Finished Training\n",
      "taxi_id: 20000051,index: 292\n",
      "Epoch: 1, RMSE Loss: 612.6689453125\n",
      "Epoch: 2, RMSE Loss: 476.3370361328125\n",
      "Epoch: 3, RMSE Loss: 475.41796875\n",
      "Epoch: 4, RMSE Loss: 474.8718566894531\n"
     ]
    },
    {
     "name": "stderr",
     "output_type": "stream",
     "text": [
      "\r",
      " 92%|█████████████████████████████████████████████████████████████████████████▎      | 293/320 [16:28<01:11,  2.63s/it]"
     ]
    },
    {
     "name": "stdout",
     "output_type": "stream",
     "text": [
      "Epoch: 5, RMSE Loss: 475.6330871582031\n",
      "Finished Training\n",
      "taxi_id: 20000100,index: 293\n",
      "Epoch: 1, RMSE Loss: 1282.7291259765625\n",
      "Epoch: 2, RMSE Loss: 1135.9217529296875\n",
      "Epoch: 3, RMSE Loss: 1123.722900390625\n",
      "Epoch: 4, RMSE Loss: 1121.8538818359375\n"
     ]
    },
    {
     "name": "stderr",
     "output_type": "stream",
     "text": [
      "\r",
      " 92%|█████████████████████████████████████████████████████████████████████████▌      | 294/320 [16:31<01:08,  2.64s/it]"
     ]
    },
    {
     "name": "stdout",
     "output_type": "stream",
     "text": [
      "Epoch: 5, RMSE Loss: 1118.9781494140625\n",
      "Finished Training\n",
      "taxi_id: 20000450,index: 294\n",
      "Epoch: 1, RMSE Loss: 457.82305908203125\n",
      "Epoch: 2, RMSE Loss: 390.29205322265625\n",
      "Epoch: 3, RMSE Loss: 389.9865417480469\n",
      "Epoch: 4, RMSE Loss: 390.8846130371094\n"
     ]
    },
    {
     "name": "stderr",
     "output_type": "stream",
     "text": [
      "\r",
      " 92%|█████████████████████████████████████████████████████████████████████████▊      | 295/320 [16:36<01:23,  3.33s/it]"
     ]
    },
    {
     "name": "stdout",
     "output_type": "stream",
     "text": [
      "Epoch: 5, RMSE Loss: 389.4844665527344\n",
      "Finished Training\n",
      "taxi_id: 20000067,index: 295\n",
      "Epoch: 1, RMSE Loss: 552.4024658203125\n",
      "Epoch: 2, RMSE Loss: 453.4279479980469\n",
      "Epoch: 3, RMSE Loss: 451.4183654785156\n",
      "Epoch: 4, RMSE Loss: 450.1369934082031\n"
     ]
    },
    {
     "name": "stderr",
     "output_type": "stream",
     "text": [
      "\r",
      " 92%|██████████████████████████████████████████████████████████████████████████      | 296/320 [16:40<01:25,  3.58s/it]"
     ]
    },
    {
     "name": "stdout",
     "output_type": "stream",
     "text": [
      "Epoch: 5, RMSE Loss: 451.0542297363281\n",
      "Finished Training\n",
      "taxi_id: 20000612,index: 296\n",
      "Epoch: 1, RMSE Loss: 537.1712036132812\n",
      "Epoch: 2, RMSE Loss: 436.45208740234375\n",
      "Epoch: 3, RMSE Loss: 434.4493408203125\n",
      "Epoch: 4, RMSE Loss: 435.4593811035156\n"
     ]
    },
    {
     "name": "stderr",
     "output_type": "stream",
     "text": [
      "\r",
      " 93%|██████████████████████████████████████████████████████████████████████████▎     | 297/320 [16:44<01:25,  3.70s/it]"
     ]
    },
    {
     "name": "stdout",
     "output_type": "stream",
     "text": [
      "Epoch: 5, RMSE Loss: 433.70703125\n",
      "Finished Training\n",
      "taxi_id: 20000320,index: 297\n",
      "Epoch: 1, RMSE Loss: 679.6527099609375\n",
      "Epoch: 2, RMSE Loss: 610.8592529296875\n",
      "Epoch: 3, RMSE Loss: 607.4270629882812\n",
      "Epoch: 4, RMSE Loss: 608.113037109375\n"
     ]
    },
    {
     "name": "stderr",
     "output_type": "stream",
     "text": [
      "\r",
      " 93%|██████████████████████████████████████████████████████████████████████████▌     | 298/320 [16:49<01:29,  4.05s/it]"
     ]
    },
    {
     "name": "stdout",
     "output_type": "stream",
     "text": [
      "Epoch: 5, RMSE Loss: 608.1925659179688\n",
      "Finished Training\n",
      "taxi_id: 20000047,index: 298\n",
      "Epoch: 1, RMSE Loss: 521.4108276367188\n",
      "Epoch: 2, RMSE Loss: 349.567626953125\n",
      "Epoch: 3, RMSE Loss: 348.26763916015625\n",
      "Epoch: 4, RMSE Loss: 346.3150329589844\n"
     ]
    },
    {
     "name": "stderr",
     "output_type": "stream",
     "text": [
      "\r",
      " 93%|██████████████████████████████████████████████████████████████████████████▊     | 299/320 [16:51<01:11,  3.41s/it]"
     ]
    },
    {
     "name": "stdout",
     "output_type": "stream",
     "text": [
      "Epoch: 5, RMSE Loss: 346.219970703125\n",
      "Finished Training\n",
      "taxi_id: 20000081,index: 299\n",
      "Epoch: 1, RMSE Loss: 880.8859252929688\n",
      "Epoch: 2, RMSE Loss: 809.2766723632812\n",
      "Epoch: 3, RMSE Loss: 806.6502685546875\n",
      "Epoch: 4, RMSE Loss: 805.4359130859375\n"
     ]
    },
    {
     "name": "stderr",
     "output_type": "stream",
     "text": [
      "\r",
      " 94%|███████████████████████████████████████████████████████████████████████████     | 300/320 [16:55<01:11,  3.60s/it]"
     ]
    },
    {
     "name": "stdout",
     "output_type": "stream",
     "text": [
      "Epoch: 5, RMSE Loss: 806.3683471679688\n",
      "Finished Training\n",
      "taxi_id: 20000542,index: 300\n",
      "Epoch: 1, RMSE Loss: 690.4591064453125\n",
      "Epoch: 2, RMSE Loss: 624.4193725585938\n",
      "Epoch: 3, RMSE Loss: 621.8319091796875\n",
      "Epoch: 4, RMSE Loss: 623.5948486328125\n"
     ]
    },
    {
     "name": "stderr",
     "output_type": "stream",
     "text": [
      "\r",
      " 94%|███████████████████████████████████████████████████████████████████████████▎    | 301/320 [16:59<01:13,  3.89s/it]"
     ]
    },
    {
     "name": "stdout",
     "output_type": "stream",
     "text": [
      "Epoch: 5, RMSE Loss: 621.5740356445312\n",
      "Finished Training\n",
      "taxi_id: 20000109,index: 301\n",
      "Epoch: 1, RMSE Loss: 724.6556396484375\n",
      "Epoch: 2, RMSE Loss: 590.7457275390625\n",
      "Epoch: 3, RMSE Loss: 587.9676513671875\n",
      "Epoch: 4, RMSE Loss: 588.3710327148438\n"
     ]
    },
    {
     "name": "stderr",
     "output_type": "stream",
     "text": [
      "\r",
      " 94%|███████████████████████████████████████████████████████████████████████████▌    | 302/320 [17:02<01:02,  3.47s/it]"
     ]
    },
    {
     "name": "stdout",
     "output_type": "stream",
     "text": [
      "Epoch: 5, RMSE Loss: 588.094970703125\n",
      "Finished Training\n",
      "taxi_id: 20000548,index: 302\n",
      "Epoch: 1, RMSE Loss: 618.6625366210938\n",
      "Epoch: 2, RMSE Loss: 513.74365234375\n",
      "Epoch: 3, RMSE Loss: 511.1016540527344\n",
      "Epoch: 4, RMSE Loss: 510.21759033203125\n"
     ]
    },
    {
     "name": "stderr",
     "output_type": "stream",
     "text": [
      "\r",
      " 95%|███████████████████████████████████████████████████████████████████████████▊    | 303/320 [17:05<00:56,  3.35s/it]"
     ]
    },
    {
     "name": "stdout",
     "output_type": "stream",
     "text": [
      "Epoch: 5, RMSE Loss: 510.88897705078125\n",
      "Finished Training\n",
      "taxi_id: 20000247,index: 303\n",
      "Epoch: 1, RMSE Loss: 784.8674926757812\n",
      "Epoch: 2, RMSE Loss: 670.945068359375\n",
      "Epoch: 3, RMSE Loss: 668.7553100585938\n",
      "Epoch: 4, RMSE Loss: 671.4310913085938\n"
     ]
    },
    {
     "name": "stderr",
     "output_type": "stream",
     "text": [
      "\r",
      " 95%|████████████████████████████████████████████████████████████████████████████    | 304/320 [17:08<00:50,  3.16s/it]"
     ]
    },
    {
     "name": "stdout",
     "output_type": "stream",
     "text": [
      "Epoch: 5, RMSE Loss: 667.9066772460938\n",
      "Finished Training\n",
      "taxi_id: 20000565,index: 304\n",
      "Epoch: 1, RMSE Loss: 513.6397094726562\n",
      "Epoch: 2, RMSE Loss: 403.9170227050781\n",
      "Epoch: 3, RMSE Loss: 398.03369140625\n",
      "Epoch: 4, RMSE Loss: 399.46405029296875\n"
     ]
    },
    {
     "name": "stderr",
     "output_type": "stream",
     "text": [
      "\r",
      " 95%|████████████████████████████████████████████████████████████████████████████▎   | 305/320 [17:11<00:47,  3.17s/it]"
     ]
    },
    {
     "name": "stdout",
     "output_type": "stream",
     "text": [
      "Epoch: 5, RMSE Loss: 399.29925537109375\n",
      "Finished Training\n",
      "taxi_id: 20000383,index: 305\n",
      "Epoch: 1, RMSE Loss: 731.1630859375\n",
      "Epoch: 2, RMSE Loss: 591.9951171875\n",
      "Epoch: 3, RMSE Loss: 589.057861328125\n",
      "Epoch: 4, RMSE Loss: 588.9332885742188\n"
     ]
    },
    {
     "name": "stderr",
     "output_type": "stream",
     "text": [
      "\r",
      " 96%|████████████████████████████████████████████████████████████████████████████▌   | 306/320 [17:13<00:41,  2.95s/it]"
     ]
    },
    {
     "name": "stdout",
     "output_type": "stream",
     "text": [
      "Epoch: 5, RMSE Loss: 588.4596557617188\n",
      "Finished Training\n",
      "taxi_id: 20000345,index: 306\n",
      "Epoch: 1, RMSE Loss: 551.2901000976562\n",
      "Epoch: 2, RMSE Loss: 453.6864318847656\n",
      "Epoch: 3, RMSE Loss: 448.0045471191406\n",
      "Epoch: 4, RMSE Loss: 446.0116271972656\n"
     ]
    },
    {
     "name": "stderr",
     "output_type": "stream",
     "text": [
      "\r",
      " 96%|████████████████████████████████████████████████████████████████████████████▊   | 307/320 [17:18<00:43,  3.34s/it]"
     ]
    },
    {
     "name": "stdout",
     "output_type": "stream",
     "text": [
      "Epoch: 5, RMSE Loss: 445.081298828125\n",
      "Finished Training\n",
      "taxi_id: 20000486,index: 307\n",
      "Epoch: 1, RMSE Loss: 787.2840576171875\n",
      "Epoch: 2, RMSE Loss: 726.4601440429688\n",
      "Epoch: 3, RMSE Loss: 725.0699462890625\n",
      "Epoch: 4, RMSE Loss: 724.5399780273438\n"
     ]
    },
    {
     "name": "stderr",
     "output_type": "stream",
     "text": [
      "\r",
      " 96%|█████████████████████████████████████████████████████████████████████████████   | 308/320 [17:22<00:44,  3.69s/it]"
     ]
    },
    {
     "name": "stdout",
     "output_type": "stream",
     "text": [
      "Epoch: 5, RMSE Loss: 724.5748291015625\n",
      "Finished Training\n",
      "taxi_id: 20000496,index: 308\n",
      "Epoch: 1, RMSE Loss: 1595.3616943359375\n",
      "Epoch: 2, RMSE Loss: 1486.0701904296875\n",
      "Epoch: 3, RMSE Loss: 1482.3570556640625\n",
      "Epoch: 4, RMSE Loss: 1484.2188720703125\n"
     ]
    },
    {
     "name": "stderr",
     "output_type": "stream",
     "text": [
      "\r",
      " 97%|█████████████████████████████████████████████████████████████████████████████▎  | 309/320 [17:24<00:36,  3.29s/it]"
     ]
    },
    {
     "name": "stdout",
     "output_type": "stream",
     "text": [
      "Epoch: 5, RMSE Loss: 1478.7266845703125\n",
      "Finished Training\n",
      "taxi_id: 20000436,index: 309\n",
      "Epoch: 1, RMSE Loss: 1185.3814697265625\n",
      "Epoch: 2, RMSE Loss: 1109.8055419921875\n",
      "Epoch: 3, RMSE Loss: 1104.6866455078125\n",
      "Epoch: 4, RMSE Loss: 1103.3419189453125\n"
     ]
    },
    {
     "name": "stderr",
     "output_type": "stream",
     "text": [
      "\r",
      " 97%|█████████████████████████████████████████████████████████████████████████████▌  | 310/320 [17:29<00:36,  3.61s/it]"
     ]
    },
    {
     "name": "stdout",
     "output_type": "stream",
     "text": [
      "Epoch: 5, RMSE Loss: 1101.2135009765625\n",
      "Finished Training\n",
      "taxi_id: 20000325,index: 310\n",
      "Epoch: 1, RMSE Loss: 532.8209228515625\n",
      "Epoch: 2, RMSE Loss: 467.9303894042969\n",
      "Epoch: 3, RMSE Loss: 467.72137451171875\n",
      "Epoch: 4, RMSE Loss: 467.6456298828125\n"
     ]
    },
    {
     "name": "stderr",
     "output_type": "stream",
     "text": [
      "\r",
      " 97%|█████████████████████████████████████████████████████████████████████████████▊  | 311/320 [17:34<00:36,  4.07s/it]"
     ]
    },
    {
     "name": "stdout",
     "output_type": "stream",
     "text": [
      "Epoch: 5, RMSE Loss: 467.9267883300781\n",
      "Finished Training\n",
      "taxi_id: 20000281,index: 311\n",
      "Epoch: 1, RMSE Loss: 689.626953125\n",
      "Epoch: 2, RMSE Loss: 514.8032836914062\n",
      "Epoch: 3, RMSE Loss: 512.0929565429688\n",
      "Epoch: 4, RMSE Loss: 511.8876037597656\n"
     ]
    },
    {
     "name": "stderr",
     "output_type": "stream",
     "text": [
      "\r",
      " 98%|██████████████████████████████████████████████████████████████████████████████  | 312/320 [17:36<00:28,  3.51s/it]"
     ]
    },
    {
     "name": "stdout",
     "output_type": "stream",
     "text": [
      "Epoch: 5, RMSE Loss: 511.4570617675781\n",
      "Finished Training\n",
      "taxi_id: 20000549,index: 312\n",
      "Epoch: 1, RMSE Loss: 519.36962890625\n",
      "Epoch: 2, RMSE Loss: 404.1195373535156\n",
      "Epoch: 3, RMSE Loss: 401.8807067871094\n",
      "Epoch: 4, RMSE Loss: 402.5334167480469\n"
     ]
    },
    {
     "name": "stderr",
     "output_type": "stream",
     "text": [
      "\r",
      " 98%|██████████████████████████████████████████████████████████████████████████████▎ | 313/320 [17:39<00:23,  3.35s/it]"
     ]
    },
    {
     "name": "stdout",
     "output_type": "stream",
     "text": [
      "Epoch: 5, RMSE Loss: 401.2352294921875\n",
      "Finished Training\n",
      "taxi_id: 20000393,index: 313\n",
      "Epoch: 1, RMSE Loss: 983.9179077148438\n",
      "Epoch: 2, RMSE Loss: 803.2490844726562\n",
      "Epoch: 3, RMSE Loss: 795.4048461914062\n",
      "Epoch: 4, RMSE Loss: 791.638916015625\n"
     ]
    },
    {
     "name": "stderr",
     "output_type": "stream",
     "text": [
      "\r",
      " 98%|██████████████████████████████████████████████████████████████████████████████▌ | 314/320 [17:41<00:18,  3.04s/it]"
     ]
    },
    {
     "name": "stdout",
     "output_type": "stream",
     "text": [
      "Epoch: 5, RMSE Loss: 793.7815551757812\n",
      "Finished Training\n",
      "taxi_id: 20000391,index: 314\n",
      "Epoch: 1, RMSE Loss: 759.7268676757812\n",
      "Epoch: 2, RMSE Loss: 681.3029174804688\n",
      "Epoch: 3, RMSE Loss: 680.3499755859375\n",
      "Epoch: 4, RMSE Loss: 682.7367553710938\n"
     ]
    },
    {
     "name": "stderr",
     "output_type": "stream",
     "text": [
      "\r",
      " 98%|██████████████████████████████████████████████████████████████████████████████▊ | 315/320 [17:45<00:16,  3.20s/it]"
     ]
    },
    {
     "name": "stdout",
     "output_type": "stream",
     "text": [
      "Epoch: 5, RMSE Loss: 680.3274536132812\n",
      "Finished Training\n",
      "taxi_id: 20000430,index: 315\n",
      "Epoch: 1, RMSE Loss: 513.887939453125\n",
      "Epoch: 2, RMSE Loss: 424.0395812988281\n",
      "Epoch: 3, RMSE Loss: 418.7909240722656\n",
      "Epoch: 4, RMSE Loss: 419.1228332519531\n"
     ]
    },
    {
     "name": "stderr",
     "output_type": "stream",
     "text": [
      "\r",
      " 99%|███████████████████████████████████████████████████████████████████████████████ | 316/320 [17:49<00:13,  3.30s/it]"
     ]
    },
    {
     "name": "stdout",
     "output_type": "stream",
     "text": [
      "Epoch: 5, RMSE Loss: 419.0105285644531\n",
      "Finished Training\n",
      "taxi_id: 20000020,index: 316\n",
      "Epoch: 1, RMSE Loss: 644.5824584960938\n",
      "Epoch: 2, RMSE Loss: 555.3365478515625\n",
      "Epoch: 3, RMSE Loss: 552.5189208984375\n",
      "Epoch: 4, RMSE Loss: 553.1541137695312\n"
     ]
    },
    {
     "name": "stderr",
     "output_type": "stream",
     "text": [
      "\r",
      " 99%|███████████████████████████████████████████████████████████████████████████████▎| 317/320 [17:52<00:09,  3.33s/it]"
     ]
    },
    {
     "name": "stdout",
     "output_type": "stream",
     "text": [
      "Epoch: 5, RMSE Loss: 553.1190795898438\n",
      "Finished Training\n",
      "taxi_id: 20000207,index: 317\n",
      "Epoch: 1, RMSE Loss: 868.0393676757812\n",
      "Epoch: 2, RMSE Loss: 739.286865234375\n",
      "Epoch: 3, RMSE Loss: 734.7172241210938\n",
      "Epoch: 4, RMSE Loss: 734.183837890625\n"
     ]
    },
    {
     "name": "stderr",
     "output_type": "stream",
     "text": [
      "\r",
      " 99%|███████████████████████████████████████████████████████████████████████████████▌| 318/320 [17:55<00:06,  3.32s/it]"
     ]
    },
    {
     "name": "stdout",
     "output_type": "stream",
     "text": [
      "Epoch: 5, RMSE Loss: 736.5397338867188\n",
      "Finished Training\n",
      "taxi_id: 20000667,index: 318\n",
      "Epoch: 1, RMSE Loss: 618.67919921875\n",
      "Epoch: 2, RMSE Loss: 513.3304443359375\n",
      "Epoch: 3, RMSE Loss: 512.5057373046875\n",
      "Epoch: 4, RMSE Loss: 510.8667297363281\n"
     ]
    },
    {
     "name": "stderr",
     "output_type": "stream",
     "text": [
      "\r",
      "100%|███████████████████████████████████████████████████████████████████████████████▊| 319/320 [17:58<00:03,  3.28s/it]"
     ]
    },
    {
     "name": "stdout",
     "output_type": "stream",
     "text": [
      "Epoch: 5, RMSE Loss: 510.6474609375\n",
      "Finished Training\n",
      "taxi_id: 20000255,index: 319\n",
      "Epoch: 1, RMSE Loss: 500.149658203125\n",
      "Epoch: 2, RMSE Loss: 390.3009948730469\n",
      "Epoch: 3, RMSE Loss: 391.35406494140625\n",
      "Epoch: 4, RMSE Loss: 390.9750671386719\n"
     ]
    },
    {
     "name": "stderr",
     "output_type": "stream",
     "text": [
      "100%|████████████████████████████████████████████████████████████████████████████████| 320/320 [18:02<00:00,  3.38s/it]"
     ]
    },
    {
     "name": "stdout",
     "output_type": "stream",
     "text": [
      "Epoch: 5, RMSE Loss: 390.4744567871094\n",
      "Finished Training\n"
     ]
    },
    {
     "name": "stderr",
     "output_type": "stream",
     "text": [
      "\n"
     ]
    }
   ],
   "source": [
    "df_sample = pd.read_csv(\"sampleSubmission.csv\")\n",
    "\n",
    "total = {}\n",
    "\n",
    "for i in tqdm(range(len(taxi_list))):\n",
    "    taxi_id = taxi_list[i]\n",
    "    print(f'taxi_id: {taxi_id},index: {i}')\n",
    "    df = dfs[taxi_id]\n",
    "    \n",
    "    string_features = ['CALL_TYPE', 'DAY_TYPE', 'YR', 'MON', 'DAY', 'HR', 'WK'] \n",
    "\n",
    "    string_transformers = [('encode_' + feature, OneHotEncoder(handle_unknown='ignore'), [feature]) for feature in string_features]\n",
    "\n",
    "    numerical_transformers = [('scale_' + feature, StandardScaler(), [feature]) for feature in ['Latitude', 'Longitude']]\n",
    "\n",
    "    transformers = string_transformers + numerical_transformers\n",
    "\n",
    "    preprocessor = ColumnTransformer(transformers=transformers)\n",
    "\n",
    "    X = df.drop(columns=['TRIP_ID','ORIGIN_CALL','ORIGIN_STAND', 'TAXI_ID', 'TIMESTAMP', 'MISSING_DATA','POLYLINE','LEN'])\n",
    "    y = df['LEN']\n",
    "\n",
    "    X_train, X_test, y_train, y_test = train_test_split(X, y, test_size=0.001)\n",
    "\n",
    "    X_train_preprocessed = preprocessor.fit_transform(X_train).toarray()  # convert to dense array here\n",
    "    X_test_preprocessed = preprocessor.transform(X_test).toarray()  # convert to dense array here\n",
    "\n",
    "    # Create dataloaders\n",
    "    train_data = TensorDataset(torch.tensor(X_train_preprocessed, dtype=torch.float), torch.tensor(y_train.values, dtype=torch.float))\n",
    "    test_data = TensorDataset(torch.tensor(X_test_preprocessed, dtype=torch.float), torch.tensor(y_test.values, dtype=torch.float))\n",
    "\n",
    "    batch_size = 32\n",
    "\n",
    "    train_loader = DataLoader(train_data, batch_size=batch_size, shuffle=True)\n",
    "    test_loader = DataLoader(test_data, batch_size=batch_size, shuffle=False)\n",
    "\n",
    "    class Net(nn.Module):\n",
    "        def __init__(self, input_dim):\n",
    "            super(Net, self).__init__()\n",
    "            self.fc1 = nn.Linear(input_dim, 64)\n",
    "            self.fc2 = nn.Linear(64, 32)\n",
    "            self.fc3 = nn.Linear(32, 1)\n",
    "\n",
    "        def forward(self, x):\n",
    "            x = torch.relu(self.fc1(x))\n",
    "            x = torch.relu(self.fc2(x))\n",
    "            return self.fc3(x)\n",
    "\n",
    "    input_dim = X_train_preprocessed.shape[1]\n",
    "    model = Net(input_dim)\n",
    "\n",
    "    criterion = nn.MSELoss()\n",
    "    optimizer = optim.Adam(model.parameters(), lr=0.01)\n",
    "\n",
    "\n",
    "    for epoch in range(5):  # loop over the dataset multiple times\n",
    "        running_loss = 0.0\n",
    "        for i, data in enumerate(train_loader, 0):\n",
    "            inputs, labels = data\n",
    "            optimizer.zero_grad()\n",
    "            outputs = model(inputs)\n",
    "            mse_loss = criterion(outputs, labels.view(-1, 1))\n",
    "            rmse_loss = torch.sqrt(mse_loss)  # take the square root of the MSE to get the RMSE\n",
    "            rmse_loss.backward()  # use the RMSE for backpropagation\n",
    "            optimizer.step()\n",
    "\n",
    "            # print statistics\n",
    "            running_loss += mse_loss.item()  # this is still the MSE, not the RMSE\n",
    "        avg_mse = running_loss / (i+1)\n",
    "        rmse = torch.sqrt(torch.tensor(avg_mse))\n",
    "        print(f'Epoch: {epoch+1}, RMSE Loss: {rmse}')\n",
    "\n",
    "    print('Finished Training')\n",
    "    \n",
    "    df_test = dfs_test[taxi_id]\n",
    "    X = df_test.drop(columns=['TRIP_ID','ORIGIN_CALL','ORIGIN_STAND', 'TAXI_ID', 'TIMESTAMP', 'MISSING_DATA'])\n",
    "\n",
    "    X_train_preprocessed = preprocessor.fit_transform(X_train).toarray()  # convert to dense array here\n",
    "    X_test_preprocessed = preprocessor.transform(X).toarray()  # convert to dense array here\n",
    "\n",
    "    test_data = torch.tensor(X_test_preprocessed, dtype=torch.float)\n",
    "    test_loader = DataLoader(test_data, batch_size=batch_size, shuffle=False)\n",
    "\n",
    "    model.eval()\n",
    "    predictions = []\n",
    "\n",
    "    with torch.no_grad():\n",
    "        for inputs in test_loader:\n",
    "            outputs = model(inputs)\n",
    "            predictions.extend(outputs.numpy())\n",
    "\n",
    "    predictions = [arr.item() for arr in predictions]\n",
    "    \n",
    "    total[taxi_id] = predictions\n",
    "    \n",
    "\n"
   ]
  },
  {
   "cell_type": "code",
   "execution_count": null,
   "id": "8239c59b",
   "metadata": {},
   "outputs": [],
   "source": [
    "total2"
   ]
  },
  {
   "cell_type": "code",
   "execution_count": 34,
   "id": "58fd1901",
   "metadata": {},
   "outputs": [],
   "source": [
    "total2 = copy.deepcopy(total)"
   ]
  },
  {
   "cell_type": "code",
   "execution_count": 36,
   "id": "f0aa5d42",
   "metadata": {},
   "outputs": [],
   "source": [
    "test_public = df_test = pd.read_csv(\"test_public.csv\")"
   ]
  },
  {
   "cell_type": "code",
   "execution_count": 41,
   "id": "2d040fad",
   "metadata": {},
   "outputs": [],
   "source": [
    "taxi_trip_id_dic = test_public.set_index('TRIP_ID')['TAXI_ID'].to_dict()"
   ]
  },
  {
   "cell_type": "code",
   "execution_count": 51,
   "id": "689e1afc",
   "metadata": {},
   "outputs": [],
   "source": [
    "new_dic = {}\n",
    "for trip_id in taxi_trip_id_dic.keys():\n",
    "    l = total2[taxi_trip_id_dic[trip_id]]\n",
    "    new_dic[trip_id] = l[0]\n",
    "    total2[taxi_trip_id_dic[trip_id]] = total2[taxi_trip_id_dic[trip_id]][1:]"
   ]
  },
  {
   "cell_type": "code",
   "execution_count": 53,
   "id": "d1dbbf35",
   "metadata": {},
   "outputs": [],
   "source": [
    "df_sample = pd.read_csv(\"sampleSubmission.csv\")\n",
    "\n",
    "df_sample[\"TRAVEL_TIME\"] = df_sample['TRIP_ID'].apply(lambda x: new_dic[x])\n",
    "\n",
    "df_sample.to_csv(\"my_pred.csv\", index=None)"
   ]
  },
  {
   "cell_type": "code",
   "execution_count": null,
   "id": "68df5e15",
   "metadata": {},
   "outputs": [],
   "source": []
  }
 ],
 "metadata": {
  "kernelspec": {
   "display_name": "My_TF_Sklearn_Kernel",
   "language": "python",
   "name": "tf_sklearn_env"
  },
  "language_info": {
   "codemirror_mode": {
    "name": "ipython",
    "version": 3
   },
   "file_extension": ".py",
   "mimetype": "text/x-python",
   "name": "python",
   "nbconvert_exporter": "python",
   "pygments_lexer": "ipython3",
   "version": "3.8.16"
  }
 },
 "nbformat": 4,
 "nbformat_minor": 5
}
